{
 "cells": [
  {
   "cell_type": "markdown",
   "metadata": {},
   "source": [
    "# INVERSE KINEMATICS NOTEBOOK\n",
    "\n",
    "This project is originated from Udacity's [Robotic arm - Pick & Place project](https://github.com/udacity/RoboND-Kinematics-Project)\n"
   ]
  },
  {
   "cell_type": "markdown",
   "metadata": {},
   "source": [
    "## Overview\n",
    "\n",
    "The objective of this project is to perform a pick and place task in simulation to pick and place using a KUKA anthropomorfic manipulator with 6 degrees of freedom.\n",
    "\n",
    "The robot is simulated and controlled in **ROS** Robot Operating System.\n",
    "\n",
    "Python's symbolic library **Sympy** is used for computation: symbolic computation allows to solve the problem using *analytical solutions* and forms.\n",
    "\n",
    "## 1. Introduction\n",
    "\n",
    "---------------------------------------------------------------------------\n",
    "\n",
    "From: [Robotics_Kinematics_and_Dynamics](https://en.wikibooks.org/wiki/Robotics_Kinematics_and_Dynamics)\n",
    "\n",
    "**Serial manipulators** are robots composed as a sequence of links connected by joints (**Kinematic Chain**).\n",
    "\n",
    "<p align=\"center\">\n",
    "     <img src=\"img/joints.png\" width=\"640\">\n",
    "</p>\n",
    "\n",
    "[source: Udacity](https://eu.udacity.com/course/robotics-software-engineer--nd209)\n",
    "\n",
    "Joints give the manipulator Degrees of freedom(**Dof**): The DOF of a manipulator describes the number of indipendent variables that the robot uses to define its state in free space. A robot requires at least 6DOF fo freely move its end-effector in 3D space. \n",
    "\n",
    "A typical serial manipulator has 6 degree of freedom: the first 3 joints control the location of the wrist center, while the last 3 only control the orientation of the end effector.\n",
    "\n",
    "In robotics **kinematics** is used to calculate the relations between end-effector state and joint angles, kinematics is a branch of classical mechanics that studies how things move without considering the forces required to produce the motion. \n",
    "\n",
    "The **forward kinematics** problem can be stated as follows: *given the different joint angles, what is the position of the end-effector?*\n",
    "\n",
    "The **inverse kinematics**problem is the opposite of the forward kinematics problem and can be summarized as follows: *given the desired position of the end effector, what combinations of the joint angles can be used to achieve this position?*\n",
    "\n",
    "<p align=\"center\">\n",
    "     <img src=\"img/forward-kinematics-01.png\" width=\"640\">\n",
    "</p>\n",
    "\n",
    "[source: Udacity](https://eu.udacity.com/course/robotics-software-engineer--nd209)\n",
    "\n",
    "Some theorical background concepts are necessary for this project:\n",
    "\n",
    "* Reference Frames\n",
    "* Rotation Matrices\n",
    "* Euler Angles\n",
    "* Transformation Matrices\n",
    "\n",
    "### 1.1. Reference Frames\n",
    "\n",
    "In general, a rigid body in three-dimensional space has **six degrees of freedom**: three rotational and three translational. The **position** and **orientation** of a rigid body can be described by attaching a **frame** to it.\n",
    "\n",
    "After defining a **reference coordinate system**, the position and orientation of the rigid body are fully described by the position of the frame's origin and the orientation of its axes, relative to the reference frame. \n",
    "\n",
    "### 1.2. Rotation Matrices\n",
    "\n",
    "A **rotation matrix** describes the relative orientation of two such frames. The columns of this 3 × 3 matrix consist of the *unit vectors* along the axes of one frame, relative to the other, reference frame. Thus, the relative orientation of a frame *b* with respect to a reference frame *a*  is given by the rotation matrix $R_{a}^{b}$\n",
    "\n",
    "$ R^{b}_{a} = \\quad\n",
    "\\begin{pmatrix}\n",
    "x^b \\cdot x^a & y^b \\cdot x^a & z^b \\cdot x^a \\\\\n",
    "x^b \\cdot y^a & y^b \\cdot y^a & z^b \\cdot y^a \\\\\n",
    "x^b \\cdot z^a & y^b \\cdot z^a & z^b \\cdot z^a\n",
    "\\end{pmatrix} \\quad\n",
    "$\n",
    "\n",
    "The expressions for elementary rotations about frame axes can easily be derived:\n",
    "\n",
    "<p align=\"center\">\n",
    "     <img src=\"img/Rotation_about_z-axis.png\" width=\"320\">\n",
    "</p>\n",
    "\n",
    "[source: Wikibooks](https://en.wikibooks.org/wiki/Robotics_Kinematics_and_Dynamics/Description_of_Position_and_Orientation)\n",
    "\n",
    "$ R_{z}(\\gamma) = \\quad\n",
    "\\begin{pmatrix}\n",
    "\\cos{\\gamma} & -\\sin{\\gamma} & 0 \\\\\n",
    "\\sin{\\gamma} & \\cos{\\gamma} & 0 \\\\\n",
    "0 & 0 & 1\n",
    "\\end{pmatrix} \\quad\n",
    "$\n",
    "\n",
    "$ R_{x}(\\alpha) = \\quad\n",
    "\\begin{pmatrix}\n",
    "1 & 0 & 0 \\\\\n",
    "0 & \\cos{\\alpha} & -\\sin{\\alpha} \\\\\n",
    "0 & \\sin{\\alpha} & \\cos{\\alpha}\n",
    "\\end{pmatrix} \\quad\n",
    "$\n",
    "\n",
    "$ R_{y}(\\beta) = \\quad\n",
    "\\begin{pmatrix}\n",
    "\\cos{\\beta} & 0 & \\sin{\\beta}\\\\\n",
    "0 & 1 & 0 \\\\\n",
    "-\\sin{\\beta} & 0 & \\cos{\\beta}\n",
    "\\end{pmatrix} \\quad\n",
    "$\n",
    "\n",
    "Compound (3D) rotations are found by **multiplication** of the different elementary rotation matrices. \n",
    "\n",
    "The composition of rotations about **moving** axes (each rotation is relative to the newest rotated frame) can be found by **postmultiplying** the elementay rotation matrices (multiplying them in the same order in which the rotations take place).\n",
    "\n",
    "The composition of rotations about **fixed** axes (all rotation are relative to the starting frame), on the other hand, is found by **premultiplying** the elementary rotation matrices.\n",
    "\n",
    "The **inverse** of a single rotation about a frame axis is a rotation by the **negative** of the rotation angle about the same axis:\n",
    "\n",
    "$R^{-1}_z(\\alpha) = R_z(-\\alpha)$\n",
    "\n",
    "The inverse of a compound rotation follows from the inverse of the matrix product:\n",
    "\n",
    "$R^{-1}_{zy}(\\alpha,-\\beta) = R^{-1}_y(-\\beta) \\cdot R^{-1}_z(\\alpha) = R_y(\\beta) \\cdot R_z(-\\alpha)$\n",
    "\n",
    "#### 1.2.1. Python Code: Rotation Matrices"
   ]
  },
  {
   "cell_type": "code",
   "execution_count": 9,
   "metadata": {},
   "outputs": [
    {
     "data": {
      "text/latex": [
       "$\\displaystyle \\left[\\begin{matrix}\\cos{\\left(\\beta \\right)} \\cos{\\left(\\gamma \\right)} & - \\sin{\\left(\\gamma \\right)} & \\sin{\\left(\\beta \\right)} \\cos{\\left(\\gamma \\right)}\\\\\\sin{\\left(\\alpha \\right)} \\sin{\\left(\\beta \\right)} + \\sin{\\left(\\gamma \\right)} \\cos{\\left(\\alpha \\right)} \\cos{\\left(\\beta \\right)} & \\cos{\\left(\\alpha \\right)} \\cos{\\left(\\gamma \\right)} & - \\sin{\\left(\\alpha \\right)} \\cos{\\left(\\beta \\right)} + \\sin{\\left(\\beta \\right)} \\sin{\\left(\\gamma \\right)} \\cos{\\left(\\alpha \\right)}\\\\\\sin{\\left(\\alpha \\right)} \\sin{\\left(\\gamma \\right)} \\cos{\\left(\\beta \\right)} - \\sin{\\left(\\beta \\right)} \\cos{\\left(\\alpha \\right)} & \\sin{\\left(\\alpha \\right)} \\cos{\\left(\\gamma \\right)} & \\sin{\\left(\\alpha \\right)} \\sin{\\left(\\beta \\right)} \\sin{\\left(\\gamma \\right)} + \\cos{\\left(\\alpha \\right)} \\cos{\\left(\\beta \\right)}\\end{matrix}\\right]$"
      ],
      "text/plain": [
       "Matrix([\n",
       "[                                  cos(beta)*cos(gamma),           -sin(gamma),                                    sin(beta)*cos(gamma)],\n",
       "[sin(alpha)*sin(beta) + sin(gamma)*cos(alpha)*cos(beta), cos(alpha)*cos(gamma), -sin(alpha)*cos(beta) + sin(beta)*sin(gamma)*cos(alpha)],\n",
       "[sin(alpha)*sin(gamma)*cos(beta) - sin(beta)*cos(alpha), sin(alpha)*cos(gamma),  sin(alpha)*sin(beta)*sin(gamma) + cos(alpha)*cos(beta)]])"
      ]
     },
     "metadata": {},
     "output_type": "display_data"
    }
   ],
   "source": [
    "from sympy import *\n",
    "\n",
    "alpha, beta, gamma = symbols('alpha,beta,gamma')\n",
    "\n",
    "R_x = Matrix([[ 1,          0,           0],\n",
    "              [ 0, cos(alpha), -sin(alpha)],\n",
    "              [ 0, sin(alpha),  cos(alpha)]])\n",
    "\n",
    "R_y = Matrix([[  cos(beta), 0, sin(beta)],\n",
    "              [          0, 1,         0],\n",
    "              [ -sin(beta), 0, cos(beta)]])\n",
    "\n",
    "R_z = Matrix([[ cos(gamma), -sin(gamma),  0],\n",
    "              [ sin(gamma),  cos(gamma),  0],\n",
    "              [          0,           0,  1]])\n",
    "\n",
    "display(R_x*R_z)"
   ]
  },
  {
   "cell_type": "markdown",
   "metadata": {},
   "source": [
    "### 1.3. Euler Angles\n",
    "\n",
    "**Euler angles** are a **minimal representation** of relative orientation. This set of three angles describes a sequence of three rotations about **moving axes**. There are many sets that describe the same orientation: in fact different sets of axes (e.g. ZXZ, ZYZ, and so on) lead to different Euler angles. \n",
    "\n",
    "Euler angles are often used for the description of the orientation of end-effectors of many serial manipulator robots. \n",
    "\n",
    "#### 1.3.1. Euler Angles forward mapping\n",
    "\n",
    "Forward mapping, wich means computing the rotation matrix of the end-effector with respect to the base frame given a set of euler angles, follows from the composition of rotations about moving axes:\n",
    "\n",
    "* Euler XYZ: *moving frame* compound rotation around x0,y1,z2:\n",
    "\n",
    "    $R^{ee}_{base} = R_{xyz}(\\alpha,\\beta,\\gamma) = R_x(\\alpha)R_y(\\beta)R_z(\\gamma)$\n",
    "\n",
    "* Euler ZYZ: *moving frame* compound rotation around z0,y1,z2:\n",
    "\n",
    "    $R^{ee}_{base} = R_{zyz}(\\alpha,\\beta,\\gamma) = R_z(\\alpha)R_y(\\beta)R_z(\\gamma)$\n",
    "    \n",
    "* Euler ZYX: *moving frame* compound rotation around z0,y1,x2:\n",
    "\n",
    "    $R^{ee}_{base} = R_{zyx}(\\alpha,\\beta,\\gamma) = R_z(\\alpha)R_y(\\beta)R_x(\\gamma)$\n",
    "\n",
    "#### 1.3.2. Python Code: Euler Angles"
   ]
  },
  {
   "cell_type": "code",
   "execution_count": 17,
   "metadata": {},
   "outputs": [
    {
     "data": {
      "text/latex": [
       "$\\displaystyle \\left[\\begin{matrix}\\cos{\\left(\\beta \\right)} \\cos{\\left(\\gamma \\right)} & - \\sin{\\left(\\gamma \\right)} \\cos{\\left(\\beta \\right)} & \\sin{\\left(\\beta \\right)}\\\\\\sin{\\left(\\alpha \\right)} \\sin{\\left(\\beta \\right)} \\cos{\\left(\\gamma \\right)} + \\sin{\\left(\\gamma \\right)} \\cos{\\left(\\alpha \\right)} & - \\sin{\\left(\\alpha \\right)} \\sin{\\left(\\beta \\right)} \\sin{\\left(\\gamma \\right)} + \\cos{\\left(\\alpha \\right)} \\cos{\\left(\\gamma \\right)} & - \\sin{\\left(\\alpha \\right)} \\cos{\\left(\\beta \\right)}\\\\\\sin{\\left(\\alpha \\right)} \\sin{\\left(\\gamma \\right)} - \\sin{\\left(\\beta \\right)} \\cos{\\left(\\alpha \\right)} \\cos{\\left(\\gamma \\right)} & \\sin{\\left(\\alpha \\right)} \\cos{\\left(\\gamma \\right)} + \\sin{\\left(\\beta \\right)} \\sin{\\left(\\gamma \\right)} \\cos{\\left(\\alpha \\right)} & \\cos{\\left(\\alpha \\right)} \\cos{\\left(\\beta \\right)}\\end{matrix}\\right]$"
      ],
      "text/plain": [
       "Matrix([\n",
       "[                                   cos(beta)*cos(gamma),                                    -sin(gamma)*cos(beta),             sin(beta)],\n",
       "[sin(alpha)*sin(beta)*cos(gamma) + sin(gamma)*cos(alpha), -sin(alpha)*sin(beta)*sin(gamma) + cos(alpha)*cos(gamma), -sin(alpha)*cos(beta)],\n",
       "[sin(alpha)*sin(gamma) - sin(beta)*cos(alpha)*cos(gamma),  sin(alpha)*cos(gamma) + sin(beta)*sin(gamma)*cos(alpha),  cos(alpha)*cos(beta)]])"
      ]
     },
     "metadata": {},
     "output_type": "display_data"
    },
    {
     "data": {
      "text/latex": [
       "$\\displaystyle \\left[\\begin{matrix}- \\sin{\\left(\\alpha \\right)} \\sin{\\left(\\gamma \\right)} + \\cos{\\left(\\alpha \\right)} \\cos{\\left(\\beta \\right)} \\cos{\\left(\\gamma \\right)} & - \\sin{\\left(\\alpha \\right)} \\cos{\\left(\\gamma \\right)} - \\sin{\\left(\\gamma \\right)} \\cos{\\left(\\alpha \\right)} \\cos{\\left(\\beta \\right)} & \\sin{\\left(\\beta \\right)} \\cos{\\left(\\alpha \\right)}\\\\\\sin{\\left(\\alpha \\right)} \\cos{\\left(\\beta \\right)} \\cos{\\left(\\gamma \\right)} + \\sin{\\left(\\gamma \\right)} \\cos{\\left(\\alpha \\right)} & - \\sin{\\left(\\alpha \\right)} \\sin{\\left(\\gamma \\right)} \\cos{\\left(\\beta \\right)} + \\cos{\\left(\\alpha \\right)} \\cos{\\left(\\gamma \\right)} & \\sin{\\left(\\alpha \\right)} \\sin{\\left(\\beta \\right)}\\\\- \\sin{\\left(\\beta \\right)} \\cos{\\left(\\gamma \\right)} & \\sin{\\left(\\beta \\right)} \\sin{\\left(\\gamma \\right)} & \\cos{\\left(\\beta \\right)}\\end{matrix}\\right]$"
      ],
      "text/plain": [
       "Matrix([\n",
       "[-sin(alpha)*sin(gamma) + cos(alpha)*cos(beta)*cos(gamma), -sin(alpha)*cos(gamma) - sin(gamma)*cos(alpha)*cos(beta), sin(beta)*cos(alpha)],\n",
       "[ sin(alpha)*cos(beta)*cos(gamma) + sin(gamma)*cos(alpha), -sin(alpha)*sin(gamma)*cos(beta) + cos(alpha)*cos(gamma), sin(alpha)*sin(beta)],\n",
       "[                                   -sin(beta)*cos(gamma),                                     sin(beta)*sin(gamma),            cos(beta)]])"
      ]
     },
     "metadata": {},
     "output_type": "display_data"
    },
    {
     "data": {
      "text/latex": [
       "$\\displaystyle \\left[\\begin{matrix}\\cos{\\left(\\alpha \\right)} \\cos{\\left(\\beta \\right)} & - \\sin{\\left(\\alpha \\right)} \\cos{\\left(\\gamma \\right)} + \\sin{\\left(\\beta \\right)} \\sin{\\left(\\gamma \\right)} \\cos{\\left(\\alpha \\right)} & \\sin{\\left(\\alpha \\right)} \\sin{\\left(\\gamma \\right)} + \\sin{\\left(\\beta \\right)} \\cos{\\left(\\alpha \\right)} \\cos{\\left(\\gamma \\right)}\\\\\\sin{\\left(\\alpha \\right)} \\cos{\\left(\\beta \\right)} & \\sin{\\left(\\alpha \\right)} \\sin{\\left(\\beta \\right)} \\sin{\\left(\\gamma \\right)} + \\cos{\\left(\\alpha \\right)} \\cos{\\left(\\gamma \\right)} & \\sin{\\left(\\alpha \\right)} \\sin{\\left(\\beta \\right)} \\cos{\\left(\\gamma \\right)} - \\sin{\\left(\\gamma \\right)} \\cos{\\left(\\alpha \\right)}\\\\- \\sin{\\left(\\beta \\right)} & \\sin{\\left(\\gamma \\right)} \\cos{\\left(\\beta \\right)} & \\cos{\\left(\\beta \\right)} \\cos{\\left(\\gamma \\right)}\\end{matrix}\\right]$"
      ],
      "text/plain": [
       "Matrix([\n",
       "[cos(alpha)*cos(beta), -sin(alpha)*cos(gamma) + sin(beta)*sin(gamma)*cos(alpha), sin(alpha)*sin(gamma) + sin(beta)*cos(alpha)*cos(gamma)],\n",
       "[sin(alpha)*cos(beta),  sin(alpha)*sin(beta)*sin(gamma) + cos(alpha)*cos(gamma), sin(alpha)*sin(beta)*cos(gamma) - sin(gamma)*cos(alpha)],\n",
       "[          -sin(beta),                                     sin(gamma)*cos(beta),                                    cos(beta)*cos(gamma)]])"
      ]
     },
     "metadata": {},
     "output_type": "display_data"
    }
   ],
   "source": [
    "from sympy import *\n",
    "\n",
    "angle,alpha, beta, gamma = symbols('angle,alpha,beta,gamma')\n",
    "\n",
    "R_x = Matrix([[ 1,          0,           0],\n",
    "              [ 0, cos(angle), -sin(angle)],\n",
    "              [ 0, sin(angle),  cos(angle)]])\n",
    "\n",
    "R_y = Matrix([[  cos(angle), 0, sin(angle)],\n",
    "              [          0, 1,         0],\n",
    "              [ -sin(angle), 0, cos(angle)]])\n",
    "\n",
    "R_z = Matrix([[ cos(angle), -sin(angle),  0],\n",
    "              [ sin(angle),  cos(angle),  0],\n",
    "              [          0,           0,  1]])\n",
    "\n",
    "\n",
    "#display('Euler XYZ:')\n",
    "R_xyz = R_x.subs('angle',alpha)*R_y.subs('angle',beta)*R_z.subs('angle',gamma)\n",
    "display(R_xyz)\n",
    "\n",
    "#display('Euler ZYZ:')\n",
    "R_zyz = R_z.subs('angle',alpha)*R_y.subs('angle',beta)*R_z.subs('angle',gamma)\n",
    "display(R_zyz)\n",
    "\n",
    "#display('Euler ZYX:')\n",
    "R_zyx = R_z.subs('angle',alpha)*R_y.subs('angle',beta)*R_x.subs('angle',gamma)\n",
    "display(R_zyx)"
   ]
  },
  {
   "cell_type": "markdown",
   "metadata": {},
   "source": [
    "#### 1.3.3. Extract Euler Angles from Rotation Matrix\n",
    "\n",
    "In order to drive the end-effector, the inverse problem must be solved: given a certain orientation matrix, which are the **equivalent Euler angles** that accomplish the same orientation?\n",
    "\n",
    "Euler angles are found by inspection of the respective rotation matrix (the one found by computing forward mapping):\n",
    "\n",
    "* Euler XYZ\n",
    "\n",
    "    $ \\alpha = \\arctan_2(r_{13},-r_{23}) $\n",
    "    \n",
    "    $ \\beta = \\arctan_2(-r_{23}\\cos{\\alpha} + r_{13}\\sin{\\alpha},r_{33}) $\n",
    "    \n",
    "    $ \\gamma = \\arctan_2(r_{31},r_{32}) $\n",
    "\n",
    "#### 1.3.4. Python Code: Euler Angles inverse mapping"
   ]
  },
  {
   "cell_type": "code",
   "execution_count": 18,
   "metadata": {},
   "outputs": [
    {
     "name": "stdout",
     "output_type": "stream",
     "text": [
      "1.45422478442154\n",
      "0.833216776799274\n",
      "1.87050492656345\n"
     ]
    }
   ],
   "source": [
    "from sympy import *\n",
    "\n",
    "angle,alpha, beta, gamma = symbols('angle,alpha,beta,gamma')\n",
    "\n",
    "R_x = Matrix([[ 1,          0,           0],\n",
    "              [ 0, cos(angle), -sin(angle)],\n",
    "              [ 0, sin(angle),  cos(angle)]])\n",
    "\n",
    "R_y = Matrix([[  cos(angle), 0, sin(angle)],\n",
    "              [          0, 1,         0],\n",
    "              [ -sin(angle), 0, cos(angle)]])\n",
    "\n",
    "R_z = Matrix([[ cos(angle), -sin(angle),  0],\n",
    "              [ sin(angle),  cos(angle),  0],\n",
    "              [          0,           0,  1]])\n",
    "\n",
    "R = R_z.subs('angle',pi/10)*R_y.subs('angle',pi/4)*R_x.subs('angle',pi/10)*R_z.subs('angle',pi)\n",
    "\n",
    "alpha  = atan2(R[0,2],-R[1,2]).evalf()\n",
    "beta = atan2(-R[1,2]*cos(alpha) + R[0,2]*sin(alpha), R[2,2]).evalf()\n",
    "gamma   = atan2(R[2,0],R[2,1]).evalf()\n",
    "\n",
    "print(alpha)\n",
    "print(beta)\n",
    "print(gamma)"
   ]
  },
  {
   "cell_type": "markdown",
   "metadata": {},
   "source": [
    "#### 1.3.5 Coordinate Singularities\n",
    "\n",
    "In the above example, a **coordinate singularity** exists for $\\beta = 0i$. The equations are badly numerically conditioned and the first and last equaton become undefined.\n",
    "\n",
    "The occurrence of a coordinate singularity involves the **loss of a degree of freedom** (gimball lock problem): no minimal representation of orientation can globally describe all orientations without coordinate singularities occurring."
   ]
  },
  {
   "cell_type": "markdown",
   "metadata": {},
   "source": [
    "### 1.4 Roll-Pitch-Yaw Angles\n",
    "\n",
    "The orientation of a rigid body may be equally described by three consecutive rotations about **fixed axes.** This leads to a notation with **Roll-Pitch-Yaw** (RPY) angles. Since the frame now rotates about fixed axes instead of moving axes, the order in which the different rotation matrices are multiplied is inversed.\n",
    "\n",
    "#### 1.4.1 RPY Forward mapping\n",
    "\n",
    "* Roll-Pitch-Yaw: *fixed frame* compound rotation around x0,y0,z0:\n",
    "    \n",
    "    $R^{ee}_{base} =R_{rpy}(roll,pitch,yaw) = R_z(yaw)R_y(roll)R_x(pitch)$\n",
    "    \n",
    "It can be seen that:\n",
    "\n",
    "    $ R_{rpy}(\\alpha,\\beta,\\gamma) == R_{zyx}(\\gamma,\\beta,\\alpha) $\n",
    "\n",
    "#### 1.4.2 Python Code: RPY Forward mapping"
   ]
  },
  {
   "cell_type": "code",
   "execution_count": 19,
   "metadata": {},
   "outputs": [
    {
     "data": {
      "text/latex": [
       "$\\displaystyle \\left[\\begin{matrix}\\cos{\\left(\\beta \\right)} \\cos{\\left(\\gamma \\right)} & - \\sin{\\left(\\gamma \\right)} \\cos{\\left(\\beta \\right)} & \\sin{\\left(\\beta \\right)}\\\\\\sin{\\left(\\alpha \\right)} \\sin{\\left(\\beta \\right)} \\cos{\\left(\\gamma \\right)} + \\sin{\\left(\\gamma \\right)} \\cos{\\left(\\alpha \\right)} & - \\sin{\\left(\\alpha \\right)} \\sin{\\left(\\beta \\right)} \\sin{\\left(\\gamma \\right)} + \\cos{\\left(\\alpha \\right)} \\cos{\\left(\\gamma \\right)} & - \\sin{\\left(\\alpha \\right)} \\cos{\\left(\\beta \\right)}\\\\\\sin{\\left(\\alpha \\right)} \\sin{\\left(\\gamma \\right)} - \\sin{\\left(\\beta \\right)} \\cos{\\left(\\alpha \\right)} \\cos{\\left(\\gamma \\right)} & \\sin{\\left(\\alpha \\right)} \\cos{\\left(\\gamma \\right)} + \\sin{\\left(\\beta \\right)} \\sin{\\left(\\gamma \\right)} \\cos{\\left(\\alpha \\right)} & \\cos{\\left(\\alpha \\right)} \\cos{\\left(\\beta \\right)}\\end{matrix}\\right]$"
      ],
      "text/plain": [
       "Matrix([\n",
       "[                                   cos(beta)*cos(gamma),                                    -sin(gamma)*cos(beta),             sin(beta)],\n",
       "[sin(alpha)*sin(beta)*cos(gamma) + sin(gamma)*cos(alpha), -sin(alpha)*sin(beta)*sin(gamma) + cos(alpha)*cos(gamma), -sin(alpha)*cos(beta)],\n",
       "[sin(alpha)*sin(gamma) - sin(beta)*cos(alpha)*cos(gamma),  sin(alpha)*cos(gamma) + sin(beta)*sin(gamma)*cos(alpha),  cos(alpha)*cos(beta)]])"
      ]
     },
     "metadata": {},
     "output_type": "display_data"
    }
   ],
   "source": [
    "from sympy import *\n",
    "\n",
    "roll, pitch, yaw = symbols('roll,pitch,yaw')\n",
    "\n",
    "R_x = Matrix([[ 1,          0,           0],\n",
    "              [ 0, cos(roll), -sin(roll)],\n",
    "              [ 0, sin(roll),  cos(roll)]])\n",
    "\n",
    "R_y = Matrix([[  cos(pitch), 0, sin(pitch)],\n",
    "              [          0, 1,         0],\n",
    "              [ -sin(pitch), 0, cos(pitch)]])\n",
    "\n",
    "R_z = Matrix([[ cos(yaw), -sin(yaw),  0],\n",
    "              [ sin(yaw),  cos(yaw),  0],\n",
    "              [          0,           0,  1]])\n",
    "\n",
    "R_rpy = R_z*R_y*R_x\n",
    "display(R_xyz)"
   ]
  },
  {
   "cell_type": "markdown",
   "metadata": {},
   "source": [
    "#### 1.4.3 RPY Inverse mapping\n",
    "\n",
    "* RPY (Euler ZYX) -> [source](http://web.mit.edu/2.05/www/Handout/HO2.PDF)\n",
    "\n",
    "    $ r = \\arctan_2(r_{32},r_{33}) $\n",
    "    \n",
    "    $ p = \\arctan_2(-r_{31},\\sqrt{r_{11}^2 + r_{21}^2}) $\n",
    "    \n",
    "    $ y = \\arctan_2(r_{21},r_{11}) $\n",
    "\n",
    "    The above equations are badly numerically conditioned for values of $p = -\\pi/2$ and $p = +\\pi/2$.\n",
    "    So if $r_11=r_21=0$ then:\n",
    "\n",
    "    $ r = \\arctan_2(r_{12},r_{22}) $\n",
    "    \n",
    "    $ p = \\pi/2 $\n",
    "    \n",
    "    $ y = 0 $\n",
    "    \n",
    "#### 1.4.4 Python code: RPY Inverse mapping"
   ]
  },
  {
   "cell_type": "code",
   "execution_count": 8,
   "metadata": {},
   "outputs": [
    {
     "name": "stdout",
     "output_type": "stream",
     "text": [
      "0.564999903941821\n",
      "0.649735502983060\n",
      "0.692198404040452\n"
     ]
    }
   ],
   "source": [
    "R = R_z.subs('gamma',pi/10)*R_y.subs('beta',pi/4)*R_x.subs('alpha',pi/10)*R_z.subs('gamma',pi/10)\n",
    "display()\n",
    "\n",
    "roll  = atan2(R[2,1],R[2,2]).evalf()\n",
    "pitch = atan2(-R[2,0], sqrt(R[0,0]*R[0,0] + R[1,0]*R[1,0])).evalf()\n",
    "yaw   = atan2(R[1,0],R[0,0]).evalf()\n",
    "\n",
    "print(roll)\n",
    "print(pitch)\n",
    "print(yaw)"
   ]
  },
  {
   "cell_type": "markdown",
   "metadata": {},
   "source": [
    "### 1.5. Homogeneous Transforms\n",
    "\n",
    "The notations above describe only relative orientation. The coordinates of a point, relative to a frame *b*, rotated and translated with respect to a reference frame *a*, are given by:\n",
    "\n",
    "$ p_a = R^b_ap_b + p_a^{a,b} $\n",
    "\n",
    "This can be compacted into the form of a **homogeneous transformation matrix** or **pose** (matrix). It is defined as follows:\n",
    "\n",
    "$\n",
    "T^b_a = \\quad\n",
    "\\begin{pmatrix}\n",
    "R^b_a & p_a^{a,b}\\\\\n",
    "0 & 1 \n",
    "\\end{pmatrix} \\quad\n",
    "$\n",
    "\n",
    "This matrix represents the position and orientation of a frame *b* whose origin, relative to a reference frame *a* , is described by $ p_a^{a,b} $, and whose orientation, relative to the same reference frame *a* , is described by the rotation matrix $ R^b_a $.\n",
    "\n",
    "Homogeneous transformation matrices can be interpreted in an active (\"displacement\"), and a passive (\"pose\") manner. It is also a **non-minimal representation of a pose**, that does not suffer from coordinate singularities.\n",
    "\n",
    "If the pose of a frame *c*  is known relative to *b* , whose pose is known with respect to a third frame *a*, the resulting **compound pose**  is found as follows:\n",
    "\n",
    "$ T^c_a=T^b_a * T^c_b $\n",
    "\n",
    "#### 1.5.1. Python Code: Homogeneous Transforms"
   ]
  },
  {
   "cell_type": "code",
   "execution_count": 12,
   "metadata": {},
   "outputs": [
    {
     "data": {
      "text/latex": [
       "$\\displaystyle \\left[\\begin{matrix}\\cos{\\left(\\beta \\right)} \\cos{\\left(\\gamma \\right)} & - \\sin{\\left(\\gamma \\right)} \\cos{\\left(\\beta \\right)} & \\sin{\\left(\\beta \\right)} & px\\\\\\sin{\\left(\\alpha \\right)} \\sin{\\left(\\beta \\right)} \\cos{\\left(\\gamma \\right)} + \\sin{\\left(\\gamma \\right)} \\cos{\\left(\\alpha \\right)} & - \\sin{\\left(\\alpha \\right)} \\sin{\\left(\\beta \\right)} \\sin{\\left(\\gamma \\right)} + \\cos{\\left(\\alpha \\right)} \\cos{\\left(\\gamma \\right)} & - \\sin{\\left(\\alpha \\right)} \\cos{\\left(\\beta \\right)} & py\\\\\\sin{\\left(\\alpha \\right)} \\sin{\\left(\\gamma \\right)} - \\sin{\\left(\\beta \\right)} \\cos{\\left(\\alpha \\right)} \\cos{\\left(\\gamma \\right)} & \\sin{\\left(\\alpha \\right)} \\cos{\\left(\\gamma \\right)} + \\sin{\\left(\\beta \\right)} \\sin{\\left(\\gamma \\right)} \\cos{\\left(\\alpha \\right)} & \\cos{\\left(\\alpha \\right)} \\cos{\\left(\\beta \\right)} & pz\\\\0 & 0 & 0 & 1\\end{matrix}\\right]$"
      ],
      "text/plain": [
       "Matrix([\n",
       "[                                   cos(beta)*cos(gamma),                                    -sin(gamma)*cos(beta),             sin(beta), px],\n",
       "[sin(alpha)*sin(beta)*cos(gamma) + sin(gamma)*cos(alpha), -sin(alpha)*sin(beta)*sin(gamma) + cos(alpha)*cos(gamma), -sin(alpha)*cos(beta), py],\n",
       "[sin(alpha)*sin(gamma) - sin(beta)*cos(alpha)*cos(gamma),  sin(alpha)*cos(gamma) + sin(beta)*sin(gamma)*cos(alpha),  cos(alpha)*cos(beta), pz],\n",
       "[                                                      0,                                                        0,                     0,  1]])"
      ]
     },
     "metadata": {},
     "output_type": "display_data"
    },
    {
     "data": {
      "text/latex": [
       "$\\displaystyle \\left[\\begin{matrix}0 & 0 & 1 & 1 + \\sqrt{2}\\\\-1 & 0 & 0 & 1 - \\sqrt{2}\\\\0 & -1 & 0 & 0\\\\0 & 0 & 0 & 1\\end{matrix}\\right]$"
      ],
      "text/plain": [
       "Matrix([\n",
       "[ 0,  0, 1, 1 + sqrt(2)],\n",
       "[-1,  0, 0, 1 - sqrt(2)],\n",
       "[ 0, -1, 0,           0],\n",
       "[ 0,  0, 0,           1]])"
      ]
     },
     "metadata": {},
     "output_type": "display_data"
    }
   ],
   "source": [
    "# ROTATION MATRIX: USING ANY COMPOSITION OF ROTATIONS\n",
    "Rot = R_x*R_y*R_z\n",
    "\n",
    "# POSITION\n",
    "px,py,pz = symbols(\"px,py,pz\")\n",
    "Pos = Matrix([px,py,pz])\n",
    "\n",
    "# HOMOGENEOUS TRANSFORM\n",
    "T = Rot.col_insert(3,Pos)\n",
    "T = T.row_insert(3, Matrix([[0, 0, 0, 1]]))\n",
    "\n",
    "display(T)\n",
    "\n",
    "# EVAL T_AC \n",
    "values_ab = {'alpha':pi/2,'beta':pi/4,'gamma':0,'px':1,'py':1,'pz':0}\n",
    "values_bc = {'alpha':0,'beta':pi/4,'gamma':pi,'px':0,'py':0,'pz':2}\n",
    "\n",
    "T_ab = T.subs(values_ab)\n",
    "T_bc = T.subs(values_bc)\n",
    "\n",
    "display(T_ab * T_bc)"
   ]
  },
  {
   "cell_type": "markdown",
   "metadata": {},
   "source": [
    "## 2. Forward Kinematics\n",
    "-------------------------------\n",
    "\n",
    "\n",
    "### 2.1. Denavit-Hartemberg Parameters"
   ]
  },
  {
   "cell_type": "markdown",
   "metadata": {},
   "source": [
    "Jacques Denavit and Richard Hartenberg proposed a systematic method of attaching reference frames to the links of a manipulator that **simplifies the homogeneous transforms** from six independent parameters per joint to only four to describe the position and orientation of adjacent reference frames.\n",
    "\n",
    "Several modifications have been made to the DH method, but the following modified convention is the most commonly used. The coordinates of frame Oi − 1 is put on axis i − 1, not axis i as in classic DH convention. The coordinates of frame Oi is put on the axis i, not the axis i + 1 in classic DH convention. \n",
    "\n",
    "<p align=\"center\">\n",
    "     <img src=\"img/DHParameter.png\" width=\"640\">\n",
    "</p>\n",
    "\n",
    "[source: Udacity](https://eu.udacity.com/course/robotics-software-engineer--nd209)\n",
    "\n",
    "The four DH parameter are:\n",
    "\n",
    "* $d_i$: Link offset, distance between $X_{i−1}$ and $X_i$, measured along $Z_{i−1}$.\n",
    "\n",
    "* $α_{i−1}$: Angle between $Z_{i−1}$ and $Z_i$, measured along $X_i$, measured in a right-hand way.\n",
    "\n",
    "* $a_{i−1}$: Link length, distance between $Z_{i−1}$ and $Z_i$, measured along $Z_{i−1}$.\n",
    "\n",
    "* $θ_i$: Joint angle, Angle between $X_{i−1}$ and $X_i$, measured along $Z_i$, measured in a right-hand way, *variable in **revolute** joints*.\n",
    "\n",
    "Using this DH convention, the homogeneous transform from frame **i-1** to frame **i** can be coputed by the following order of operations:\n",
    "\n",
    "* roation by $\\alpha_{-1}$ along $X_i−1$\n",
    "* translation by $a_i−1$ along $X_i−1$\n",
    "* rotation by $\\theta_{i}$ along $Z_i$\n",
    "* translation by $d_i$ along $Z_i$.\n",
    "\n",
    "So:\n",
    "\n",
    "$ T^{i}_{i-1} = R(\\alpha_{i-1})_X \\cdot D(a_{i-1})_X \\cdot R(\\theta_{i})_Z \\cdot D(d_i)_Z $\n",
    "\n",
    "$ T^{i}_{i-1} = \\quad\n",
    "\\begin{pmatrix}\n",
    "\\cos(\\theta_{i}) & -\\sin(\\theta_{i}) & 0 & a_{i-1}\\\\\n",
    "\\sin(\\theta_{i})\\cos(\\alpha_{i-1}) & \\cos(\\theta_{i})\\cos(\\alpha_{i-1}) & -\\sin(\\alpha_{i-1}) & -\\sin(\\alpha_{i-1})d_i\\\\\n",
    "\\sin(\\theta_{i})\\sin(\\alpha_{i-1}) & \\cos(\\theta_{i})\\cos(\\alpha_{i-1}) &  \\cos(\\alpha_{i-1}) &  \\cos(\\alpha_{i-1})d_i\\\\\n",
    "0 & 0 & 0 & 1\n",
    "\\end{pmatrix} \\quad\n",
    "$"
   ]
  },
  {
   "cell_type": "markdown",
   "metadata": {},
   "source": [
    "#### 2.1.1 KUKA KR210 DH Parameters\n",
    "\n",
    "We can now derive the parameters for the Kuka KR210 arm. Given the kinematic chain, the diagram below shows how Joints Frames are choosen: these gives the $\\alpha$ and $q$ parameters.\n",
    "\n",
    "<p align=\"center\">\n",
    "     <img src=\"img/joints_frames.png\" width=\"640\">\n",
    "</p>\n",
    "\n",
    "The choice of x-y-z axis for each frame should follow the rules of **minimizing the number of non-zero parameters** (for example, having multiple joints reference frames with the same origin reduces the number of non-zero parameters).\n",
    "\n",
    "Measures for *d* and *a* parameters are found in the *kr210.urdf.xacro*: the file uses the *universal robot description framework* to describe the robot in the simulated environment. The URDF of the robot can be used to study to the relative position between current joint and its parent joint.\n",
    "\n",
    "When moving to ROS it can be seen that it does not use **joint reference frames** but instead uses **link reference frames**.\n",
    "\n",
    "In an URDF file, a joint defines the origin of a *child_link* frame relative to its *parent_link* frame:\n",
    "\n",
    "|Joint_name |Parent_Link |Child_Link |x_offset |y_offset |z_offset |\n",
    "|---|---|---|---|---|---|\n",
    "|Joint_1        |base_link  |link_1          |0    |0       |0.33 |\n",
    "|Joint_2        |link_1      |link_2         |0.35    |0       |0.42 |\n",
    "|Joint_3        |link_2      |link_3         |0    |0       |1.25 |\n",
    "|Joint_4        |link_3      |link_4         |0.96 |0       |-0.054 |\n",
    "|Joint_5        |link_4      |link_5         |0.54    |0       |0 |\n",
    "|Joint_6        |link_5      |link_6         |0.193   |0       |0 |\n",
    "|Gripper_Joint  |link_6      |gripper_link   |0.11  |0        |0 |\n",
    "\n",
    "Here is The URDF visualized in Rviz (ros visualization tool).\n",
    "\n",
    "<p align=\"center\">\n",
    "     <img src=\"img/rviz_urdf.png\" width=\"640\">\n",
    "</p>\n",
    "\n",
    "[source: Udacity](https://eu.udacity.com/course/robotics-software-engineer--nd209)\n",
    "\n",
    "\n",
    "\n",
    "The modified DH parameters table is:\n",
    "\n",
    "|$Joint_i$ |$α_{i−1}$ |$a_{i−1}$ |$d_i$ |$θ_i$ |\n",
    "---|---|---|---|---|\n",
    "|1        |0      |0      |0.75 |q1       |\n",
    "|2        |-pi/2  |0.35   |0    |q2 - pi/2|\n",
    "|3        |0      |1.25   |0    |q3       |\n",
    "|4        |-p1/2  |-0.054 |1.50 |q4       |\n",
    "|5        |pi/2   |0      |0    |q5       |\n",
    "|6        |-pi/2  |0      |0    |q6       |\n",
    "|7(G)     |0      |0      |0.3  |0        |\n",
    "\n",
    "#### 2.1.2 Python Code: KR210 DH Parameters"
   ]
  },
  {
   "cell_type": "code",
   "execution_count": 1,
   "metadata": {},
   "outputs": [],
   "source": [
    "# Sympy is used for symbolic computation\n",
    "from sympy import *\n",
    "\n",
    "# Define DH param symbols\n",
    "d1, d2, d3, d4, d5, d6, d7 = symbols('d1:8')  # link_offset_i\n",
    "a0, a1, a2, a3, a4, a5, a6 = symbols('a0:7')  # link_length_i\n",
    "alpha0, alpha1, alpha2, alpha3, alpha4, alpha5, alpha6 = symbols('alpha0:7')  # link_twist_i\n",
    "\n",
    "# Joint angle symbols \n",
    "q1, q2, q3, q4, q5, q6, q7 = symbols('q1:8') # theta_i\n",
    "\n",
    "DH = {   alpha0: 0,      a0: 0,      d1: 0.75,    q1: q1,\n",
    "         alpha1: -pi/2,  a1: 0.35,   d2: 0,       q2: q2-pi/2,\n",
    "         alpha2: 0,      a2: 1.25,   d3: 0,       q3: q3,\n",
    "         alpha3: -pi/2,  a3: 0.0536, d4: 1.5014,  q4: q4,\n",
    "         alpha4: pi/2,   a4: 0,      d5: 0,       q5: q5,\n",
    "         alpha5: -pi/2,  a5: 0,      d6: 0,       q6: q6,\n",
    "         alpha6: 0,      a6: 0,      d7: 0.303,   q7: 0}\n",
    "\n",
    "# Creates Homogeneous Transform Matrix from DH parameters \n",
    "def homogeneous_transform(q, d, a, alpha):\n",
    "    \n",
    "    T = Matrix([[cos(q),            -sin(q),           0,             a          ],\n",
    "                [ sin(q)*cos(alpha), cos(q)*cos(alpha), -sin(alpha), -sin(alpha)*d],\n",
    "                [ sin(q)*sin(alpha), cos(q)*sin(alpha),  cos(alpha),  cos(alpha)*d],\n",
    "                [                 0,                 0,           0,             1]])\n",
    "    return T"
   ]
  },
  {
   "cell_type": "markdown",
   "metadata": {},
   "source": [
    "### 2.2. Computing Forward Kinematics\n",
    "\n",
    "Forward Kinematics is the process of computing a manipulator's end-effector position and orientation in Cartesian coordinates from its given joint angles.\n",
    "\n",
    "Supposing the transformation matrices between adjacent links are known (for instance using DH parameters): the transformation that relates the last and first frames in a serial manipulator arm, and thus, the solution to the forward kinematics problem, is then represented by the compound homogeneous transformation matrix. \n",
    "\n",
    "The axes are moving, thus, the compound homogeneous transformation matrix is found by premultiplying the individual transformation matrices: \n",
    "\n",
    "$T^{EE}_0=T^1_0 \\cdot T^2_1 \\cdot T^3_2 \\cdot T^4_3 \\cdot T^5_4 \\cdot T^6_5 \\cdot T^{EE}_6$\n",
    "\n",
    "#### 2.2.1. Aligning to Gazebo gripper frame\n",
    "\n",
    "The forward kinematics specifies the gripper orientation in DH convention(yellow) where the finger are parallel to the Z axis. However, In ROS the gripper_link frame uses a different convention(green) where the X axis is parallel to the fingers.\n",
    "\n",
    "See image below:\n",
    "\n",
    "<p align=\"center\">\n",
    "     <img src=\"img/total-transform-corretion.jpg\" width=\"640\">\n",
    "</p>\n",
    "\n",
    "[source: Udacity](https://eu.udacity.com/course/robotics-software-engineer--nd209)\n",
    "\n",
    "So, to have coherent results in simulation, the resulting orientation of the forward kinematics should be corrected by rotating by $\\pi$ along Z, and then by $-\\pi/2$ along Y.\n",
    "\n",
    "#### 2.2.2. Python Code: Forward Kinematics"
   ]
  },
  {
   "cell_type": "code",
   "execution_count": 18,
   "metadata": {},
   "outputs": [
    {
     "data": {
      "text/latex": [
       "$\\displaystyle \\left[\\begin{matrix}- \\left(\\left(\\sin{\\left(q_{2} \\right)} \\cos{\\left(q_{1} \\right)} \\cos{\\left(q_{3} \\right)} + \\sin{\\left(q_{3} \\right)} \\cos{\\left(q_{1} \\right)} \\cos{\\left(q_{2} \\right)}\\right) \\cos{\\left(q_{4} \\right)} + \\sin{\\left(q_{1} \\right)} \\sin{\\left(q_{4} \\right)}\\right) \\sin{\\left(q_{5} \\right)} + \\left(- \\sin{\\left(q_{2} \\right)} \\sin{\\left(q_{3} \\right)} \\cos{\\left(q_{1} \\right)} + \\cos{\\left(q_{1} \\right)} \\cos{\\left(q_{2} \\right)} \\cos{\\left(q_{3} \\right)}\\right) \\cos{\\left(q_{5} \\right)} & \\left(\\left(\\left(\\sin{\\left(q_{2} \\right)} \\cos{\\left(q_{1} \\right)} \\cos{\\left(q_{3} \\right)} + \\sin{\\left(q_{3} \\right)} \\cos{\\left(q_{1} \\right)} \\cos{\\left(q_{2} \\right)}\\right) \\cos{\\left(q_{4} \\right)} + \\sin{\\left(q_{1} \\right)} \\sin{\\left(q_{4} \\right)}\\right) \\cos{\\left(q_{5} \\right)} + \\left(- \\sin{\\left(q_{2} \\right)} \\sin{\\left(q_{3} \\right)} \\cos{\\left(q_{1} \\right)} + \\cos{\\left(q_{1} \\right)} \\cos{\\left(q_{2} \\right)} \\cos{\\left(q_{3} \\right)}\\right) \\sin{\\left(q_{5} \\right)}\\right) \\sin{\\left(q_{6} \\right)} + \\left(\\left(\\sin{\\left(q_{2} \\right)} \\cos{\\left(q_{1} \\right)} \\cos{\\left(q_{3} \\right)} + \\sin{\\left(q_{3} \\right)} \\cos{\\left(q_{1} \\right)} \\cos{\\left(q_{2} \\right)}\\right) \\sin{\\left(q_{4} \\right)} - \\sin{\\left(q_{1} \\right)} \\cos{\\left(q_{4} \\right)}\\right) \\cos{\\left(q_{6} \\right)} & \\left(\\left(\\left(\\sin{\\left(q_{2} \\right)} \\cos{\\left(q_{1} \\right)} \\cos{\\left(q_{3} \\right)} + \\sin{\\left(q_{3} \\right)} \\cos{\\left(q_{1} \\right)} \\cos{\\left(q_{2} \\right)}\\right) \\cos{\\left(q_{4} \\right)} + \\sin{\\left(q_{1} \\right)} \\sin{\\left(q_{4} \\right)}\\right) \\cos{\\left(q_{5} \\right)} + \\left(- \\sin{\\left(q_{2} \\right)} \\sin{\\left(q_{3} \\right)} \\cos{\\left(q_{1} \\right)} + \\cos{\\left(q_{1} \\right)} \\cos{\\left(q_{2} \\right)} \\cos{\\left(q_{3} \\right)}\\right) \\sin{\\left(q_{5} \\right)}\\right) \\cos{\\left(q_{6} \\right)} - \\left(\\left(\\sin{\\left(q_{2} \\right)} \\cos{\\left(q_{1} \\right)} \\cos{\\left(q_{3} \\right)} + \\sin{\\left(q_{3} \\right)} \\cos{\\left(q_{1} \\right)} \\cos{\\left(q_{2} \\right)}\\right) \\sin{\\left(q_{4} \\right)} - \\sin{\\left(q_{1} \\right)} \\cos{\\left(q_{4} \\right)}\\right) \\sin{\\left(q_{6} \\right)} & - 0.303 \\left(\\left(\\sin{\\left(q_{2} \\right)} \\cos{\\left(q_{1} \\right)} \\cos{\\left(q_{3} \\right)} + \\sin{\\left(q_{3} \\right)} \\cos{\\left(q_{1} \\right)} \\cos{\\left(q_{2} \\right)}\\right) \\cos{\\left(q_{4} \\right)} + \\sin{\\left(q_{1} \\right)} \\sin{\\left(q_{4} \\right)}\\right) \\sin{\\left(q_{5} \\right)} + 0.303 \\left(- \\sin{\\left(q_{2} \\right)} \\sin{\\left(q_{3} \\right)} \\cos{\\left(q_{1} \\right)} + \\cos{\\left(q_{1} \\right)} \\cos{\\left(q_{2} \\right)} \\cos{\\left(q_{3} \\right)}\\right) \\cos{\\left(q_{5} \\right)} - 1.5014 \\sin{\\left(q_{2} \\right)} \\sin{\\left(q_{3} \\right)} \\cos{\\left(q_{1} \\right)} + 0.0536 \\sin{\\left(q_{2} \\right)} \\cos{\\left(q_{1} \\right)} \\cos{\\left(q_{3} \\right)} + 1.25 \\sin{\\left(q_{2} \\right)} \\cos{\\left(q_{1} \\right)} + 0.0536 \\sin{\\left(q_{3} \\right)} \\cos{\\left(q_{1} \\right)} \\cos{\\left(q_{2} \\right)} + 1.5014 \\cos{\\left(q_{1} \\right)} \\cos{\\left(q_{2} \\right)} \\cos{\\left(q_{3} \\right)} + 0.35 \\cos{\\left(q_{1} \\right)}\\\\- \\left(\\left(\\sin{\\left(q_{1} \\right)} \\sin{\\left(q_{2} \\right)} \\cos{\\left(q_{3} \\right)} + \\sin{\\left(q_{1} \\right)} \\sin{\\left(q_{3} \\right)} \\cos{\\left(q_{2} \\right)}\\right) \\cos{\\left(q_{4} \\right)} - \\sin{\\left(q_{4} \\right)} \\cos{\\left(q_{1} \\right)}\\right) \\sin{\\left(q_{5} \\right)} + \\left(- \\sin{\\left(q_{1} \\right)} \\sin{\\left(q_{2} \\right)} \\sin{\\left(q_{3} \\right)} + \\sin{\\left(q_{1} \\right)} \\cos{\\left(q_{2} \\right)} \\cos{\\left(q_{3} \\right)}\\right) \\cos{\\left(q_{5} \\right)} & \\left(\\left(\\left(\\sin{\\left(q_{1} \\right)} \\sin{\\left(q_{2} \\right)} \\cos{\\left(q_{3} \\right)} + \\sin{\\left(q_{1} \\right)} \\sin{\\left(q_{3} \\right)} \\cos{\\left(q_{2} \\right)}\\right) \\cos{\\left(q_{4} \\right)} - \\sin{\\left(q_{4} \\right)} \\cos{\\left(q_{1} \\right)}\\right) \\cos{\\left(q_{5} \\right)} + \\left(- \\sin{\\left(q_{1} \\right)} \\sin{\\left(q_{2} \\right)} \\sin{\\left(q_{3} \\right)} + \\sin{\\left(q_{1} \\right)} \\cos{\\left(q_{2} \\right)} \\cos{\\left(q_{3} \\right)}\\right) \\sin{\\left(q_{5} \\right)}\\right) \\sin{\\left(q_{6} \\right)} + \\left(\\left(\\sin{\\left(q_{1} \\right)} \\sin{\\left(q_{2} \\right)} \\cos{\\left(q_{3} \\right)} + \\sin{\\left(q_{1} \\right)} \\sin{\\left(q_{3} \\right)} \\cos{\\left(q_{2} \\right)}\\right) \\sin{\\left(q_{4} \\right)} + \\cos{\\left(q_{1} \\right)} \\cos{\\left(q_{4} \\right)}\\right) \\cos{\\left(q_{6} \\right)} & \\left(\\left(\\left(\\sin{\\left(q_{1} \\right)} \\sin{\\left(q_{2} \\right)} \\cos{\\left(q_{3} \\right)} + \\sin{\\left(q_{1} \\right)} \\sin{\\left(q_{3} \\right)} \\cos{\\left(q_{2} \\right)}\\right) \\cos{\\left(q_{4} \\right)} - \\sin{\\left(q_{4} \\right)} \\cos{\\left(q_{1} \\right)}\\right) \\cos{\\left(q_{5} \\right)} + \\left(- \\sin{\\left(q_{1} \\right)} \\sin{\\left(q_{2} \\right)} \\sin{\\left(q_{3} \\right)} + \\sin{\\left(q_{1} \\right)} \\cos{\\left(q_{2} \\right)} \\cos{\\left(q_{3} \\right)}\\right) \\sin{\\left(q_{5} \\right)}\\right) \\cos{\\left(q_{6} \\right)} - \\left(\\left(\\sin{\\left(q_{1} \\right)} \\sin{\\left(q_{2} \\right)} \\cos{\\left(q_{3} \\right)} + \\sin{\\left(q_{1} \\right)} \\sin{\\left(q_{3} \\right)} \\cos{\\left(q_{2} \\right)}\\right) \\sin{\\left(q_{4} \\right)} + \\cos{\\left(q_{1} \\right)} \\cos{\\left(q_{4} \\right)}\\right) \\sin{\\left(q_{6} \\right)} & - 0.303 \\left(\\left(\\sin{\\left(q_{1} \\right)} \\sin{\\left(q_{2} \\right)} \\cos{\\left(q_{3} \\right)} + \\sin{\\left(q_{1} \\right)} \\sin{\\left(q_{3} \\right)} \\cos{\\left(q_{2} \\right)}\\right) \\cos{\\left(q_{4} \\right)} - \\sin{\\left(q_{4} \\right)} \\cos{\\left(q_{1} \\right)}\\right) \\sin{\\left(q_{5} \\right)} + 0.303 \\left(- \\sin{\\left(q_{1} \\right)} \\sin{\\left(q_{2} \\right)} \\sin{\\left(q_{3} \\right)} + \\sin{\\left(q_{1} \\right)} \\cos{\\left(q_{2} \\right)} \\cos{\\left(q_{3} \\right)}\\right) \\cos{\\left(q_{5} \\right)} - 1.5014 \\sin{\\left(q_{1} \\right)} \\sin{\\left(q_{2} \\right)} \\sin{\\left(q_{3} \\right)} + 0.0536 \\sin{\\left(q_{1} \\right)} \\sin{\\left(q_{2} \\right)} \\cos{\\left(q_{3} \\right)} + 1.25 \\sin{\\left(q_{1} \\right)} \\sin{\\left(q_{2} \\right)} + 0.0536 \\sin{\\left(q_{1} \\right)} \\sin{\\left(q_{3} \\right)} \\cos{\\left(q_{2} \\right)} + 1.5014 \\sin{\\left(q_{1} \\right)} \\cos{\\left(q_{2} \\right)} \\cos{\\left(q_{3} \\right)} + 0.35 \\sin{\\left(q_{1} \\right)}\\\\- \\left(- \\sin{\\left(q_{2} \\right)} \\sin{\\left(q_{3} \\right)} + \\cos{\\left(q_{2} \\right)} \\cos{\\left(q_{3} \\right)}\\right) \\sin{\\left(q_{5} \\right)} \\cos{\\left(q_{4} \\right)} + \\left(- \\sin{\\left(q_{2} \\right)} \\cos{\\left(q_{3} \\right)} - \\sin{\\left(q_{3} \\right)} \\cos{\\left(q_{2} \\right)}\\right) \\cos{\\left(q_{5} \\right)} & \\left(- \\sin{\\left(q_{2} \\right)} \\sin{\\left(q_{3} \\right)} + \\cos{\\left(q_{2} \\right)} \\cos{\\left(q_{3} \\right)}\\right) \\sin{\\left(q_{4} \\right)} \\cos{\\left(q_{6} \\right)} + \\left(\\left(- \\sin{\\left(q_{2} \\right)} \\sin{\\left(q_{3} \\right)} + \\cos{\\left(q_{2} \\right)} \\cos{\\left(q_{3} \\right)}\\right) \\cos{\\left(q_{4} \\right)} \\cos{\\left(q_{5} \\right)} + \\left(- \\sin{\\left(q_{2} \\right)} \\cos{\\left(q_{3} \\right)} - \\sin{\\left(q_{3} \\right)} \\cos{\\left(q_{2} \\right)}\\right) \\sin{\\left(q_{5} \\right)}\\right) \\sin{\\left(q_{6} \\right)} & - \\left(- \\sin{\\left(q_{2} \\right)} \\sin{\\left(q_{3} \\right)} + \\cos{\\left(q_{2} \\right)} \\cos{\\left(q_{3} \\right)}\\right) \\sin{\\left(q_{4} \\right)} \\sin{\\left(q_{6} \\right)} + \\left(\\left(- \\sin{\\left(q_{2} \\right)} \\sin{\\left(q_{3} \\right)} + \\cos{\\left(q_{2} \\right)} \\cos{\\left(q_{3} \\right)}\\right) \\cos{\\left(q_{4} \\right)} \\cos{\\left(q_{5} \\right)} + \\left(- \\sin{\\left(q_{2} \\right)} \\cos{\\left(q_{3} \\right)} - \\sin{\\left(q_{3} \\right)} \\cos{\\left(q_{2} \\right)}\\right) \\sin{\\left(q_{5} \\right)}\\right) \\cos{\\left(q_{6} \\right)} & - 0.303 \\left(- \\sin{\\left(q_{2} \\right)} \\sin{\\left(q_{3} \\right)} + \\cos{\\left(q_{2} \\right)} \\cos{\\left(q_{3} \\right)}\\right) \\sin{\\left(q_{5} \\right)} \\cos{\\left(q_{4} \\right)} + 0.303 \\left(- \\sin{\\left(q_{2} \\right)} \\cos{\\left(q_{3} \\right)} - \\sin{\\left(q_{3} \\right)} \\cos{\\left(q_{2} \\right)}\\right) \\cos{\\left(q_{5} \\right)} - 0.0536 \\sin{\\left(q_{2} \\right)} \\sin{\\left(q_{3} \\right)} - 1.5014 \\sin{\\left(q_{2} \\right)} \\cos{\\left(q_{3} \\right)} - 1.5014 \\sin{\\left(q_{3} \\right)} \\cos{\\left(q_{2} \\right)} + 0.0536 \\cos{\\left(q_{2} \\right)} \\cos{\\left(q_{3} \\right)} + 1.25 \\cos{\\left(q_{2} \\right)} + 0.75\\\\0 & 0 & 0 & 1\\end{matrix}\\right]$"
      ],
      "text/plain": [
       "Matrix([\n",
       "[-((sin(q2)*cos(q1)*cos(q3) + sin(q3)*cos(q1)*cos(q2))*cos(q4) + sin(q1)*sin(q4))*sin(q5) + (-sin(q2)*sin(q3)*cos(q1) + cos(q1)*cos(q2)*cos(q3))*cos(q5), (((sin(q2)*cos(q1)*cos(q3) + sin(q3)*cos(q1)*cos(q2))*cos(q4) + sin(q1)*sin(q4))*cos(q5) + (-sin(q2)*sin(q3)*cos(q1) + cos(q1)*cos(q2)*cos(q3))*sin(q5))*sin(q6) + ((sin(q2)*cos(q1)*cos(q3) + sin(q3)*cos(q1)*cos(q2))*sin(q4) - sin(q1)*cos(q4))*cos(q6), (((sin(q2)*cos(q1)*cos(q3) + sin(q3)*cos(q1)*cos(q2))*cos(q4) + sin(q1)*sin(q4))*cos(q5) + (-sin(q2)*sin(q3)*cos(q1) + cos(q1)*cos(q2)*cos(q3))*sin(q5))*cos(q6) - ((sin(q2)*cos(q1)*cos(q3) + sin(q3)*cos(q1)*cos(q2))*sin(q4) - sin(q1)*cos(q4))*sin(q6), -0.303*((sin(q2)*cos(q1)*cos(q3) + sin(q3)*cos(q1)*cos(q2))*cos(q4) + sin(q1)*sin(q4))*sin(q5) + 0.303*(-sin(q2)*sin(q3)*cos(q1) + cos(q1)*cos(q2)*cos(q3))*cos(q5) - 1.5014*sin(q2)*sin(q3)*cos(q1) + 0.0536*sin(q2)*cos(q1)*cos(q3) + 1.25*sin(q2)*cos(q1) + 0.0536*sin(q3)*cos(q1)*cos(q2) + 1.5014*cos(q1)*cos(q2)*cos(q3) + 0.35*cos(q1)],\n",
       "[-((sin(q1)*sin(q2)*cos(q3) + sin(q1)*sin(q3)*cos(q2))*cos(q4) - sin(q4)*cos(q1))*sin(q5) + (-sin(q1)*sin(q2)*sin(q3) + sin(q1)*cos(q2)*cos(q3))*cos(q5), (((sin(q1)*sin(q2)*cos(q3) + sin(q1)*sin(q3)*cos(q2))*cos(q4) - sin(q4)*cos(q1))*cos(q5) + (-sin(q1)*sin(q2)*sin(q3) + sin(q1)*cos(q2)*cos(q3))*sin(q5))*sin(q6) + ((sin(q1)*sin(q2)*cos(q3) + sin(q1)*sin(q3)*cos(q2))*sin(q4) + cos(q1)*cos(q4))*cos(q6), (((sin(q1)*sin(q2)*cos(q3) + sin(q1)*sin(q3)*cos(q2))*cos(q4) - sin(q4)*cos(q1))*cos(q5) + (-sin(q1)*sin(q2)*sin(q3) + sin(q1)*cos(q2)*cos(q3))*sin(q5))*cos(q6) - ((sin(q1)*sin(q2)*cos(q3) + sin(q1)*sin(q3)*cos(q2))*sin(q4) + cos(q1)*cos(q4))*sin(q6), -0.303*((sin(q1)*sin(q2)*cos(q3) + sin(q1)*sin(q3)*cos(q2))*cos(q4) - sin(q4)*cos(q1))*sin(q5) + 0.303*(-sin(q1)*sin(q2)*sin(q3) + sin(q1)*cos(q2)*cos(q3))*cos(q5) - 1.5014*sin(q1)*sin(q2)*sin(q3) + 0.0536*sin(q1)*sin(q2)*cos(q3) + 1.25*sin(q1)*sin(q2) + 0.0536*sin(q1)*sin(q3)*cos(q2) + 1.5014*sin(q1)*cos(q2)*cos(q3) + 0.35*sin(q1)],\n",
       "[                                                   -(-sin(q2)*sin(q3) + cos(q2)*cos(q3))*sin(q5)*cos(q4) + (-sin(q2)*cos(q3) - sin(q3)*cos(q2))*cos(q5),                                                                                       (-sin(q2)*sin(q3) + cos(q2)*cos(q3))*sin(q4)*cos(q6) + ((-sin(q2)*sin(q3) + cos(q2)*cos(q3))*cos(q4)*cos(q5) + (-sin(q2)*cos(q3) - sin(q3)*cos(q2))*sin(q5))*sin(q6),                                                                                      -(-sin(q2)*sin(q3) + cos(q2)*cos(q3))*sin(q4)*sin(q6) + ((-sin(q2)*sin(q3) + cos(q2)*cos(q3))*cos(q4)*cos(q5) + (-sin(q2)*cos(q3) - sin(q3)*cos(q2))*sin(q5))*cos(q6),                                                                                                    -0.303*(-sin(q2)*sin(q3) + cos(q2)*cos(q3))*sin(q5)*cos(q4) + 0.303*(-sin(q2)*cos(q3) - sin(q3)*cos(q2))*cos(q5) - 0.0536*sin(q2)*sin(q3) - 1.5014*sin(q2)*cos(q3) - 1.5014*sin(q3)*cos(q2) + 0.0536*cos(q2)*cos(q3) + 1.25*cos(q2) + 0.75],\n",
       "[                                                                                                                                                      0,                                                                                                                                                                                                                                                          0,                                                                                                                                                                                                                                                          0,                                                                                                                                                                                                                                                                                                                                             1]])"
      ]
     },
     "metadata": {},
     "output_type": "display_data"
    }
   ],
   "source": [
    "# Create individual transformation matrices\n",
    "T0_1  = homogeneous_transform(q1, d1, a0, alpha0).subs(DH)\n",
    "T1_2  = homogeneous_transform(q2, d2, a1, alpha1).subs(DH)\n",
    "T2_3  = homogeneous_transform(q3, d3, a2, alpha2).subs(DH)\n",
    "T3_4  = homogeneous_transform(q4, d4, a3, alpha3).subs(DH)\n",
    "T4_5  = homogeneous_transform(q5, d5, a4, alpha4).subs(DH)\n",
    "T5_6  = homogeneous_transform(q6, d6, a5, alpha5).subs(DH)\n",
    "T6_EE = homogeneous_transform(q7, d7, a6, alpha6).subs(DH)\n",
    "\n",
    "T0_EE = T0_1*T1_2*T2_3*T3_4*T4_5*T5_6*T6_EE\n",
    "\n",
    "#display(T0_EE)\n",
    "\n",
    "# Align orientation with gazebo\n",
    "angle = symbols('angle')\n",
    "\n",
    "R_y = Matrix([[  cos(angle), 0, sin(angle)],\n",
    "              [           0, 1,          0],\n",
    "              [ -sin(angle), 0, cos(angle)]])\n",
    "\n",
    "R_z = Matrix([[ cos(angle), -sin(angle),  0],\n",
    "              [ sin(angle),  cos(angle),  0],\n",
    "              [          0,           0,  1]])\n",
    "\n",
    "\n",
    "\n",
    "R_CORR = R_z.subs('angle',pi)*R_y.subs('angle',-pi/2)\n",
    "T_CORR = R_CORR.col_insert(3, Matrix([0, 0, 0]))      #To make it easy to make column vectors, a list of elements in sympy is considered to be a column vector.\n",
    "T_CORR = T_CORR.row_insert(3, Matrix([[0, 0, 0, 1]])) #While, a list of lists in sympy is considered to be a list of row vectors.\n",
    "T0_EE_GAZEBO = T0_EE*T_CORR\n",
    "\n",
    "display(T0_EE_GAZEBO)"
   ]
  },
  {
   "cell_type": "markdown",
   "metadata": {},
   "source": [
    "#### 2.2.3. Python Code: Extract EE Coordinates from Matrix"
   ]
  },
  {
   "cell_type": "code",
   "execution_count": 9,
   "metadata": {},
   "outputs": [
    {
     "data": {
      "text/latex": [
       "$\\displaystyle \\left[\\begin{matrix}- 0.303 \\left(\\left(\\sin{\\left(q_{2} \\right)} \\cos{\\left(q_{1} \\right)} \\cos{\\left(q_{3} \\right)} + \\sin{\\left(q_{3} \\right)} \\cos{\\left(q_{1} \\right)} \\cos{\\left(q_{2} \\right)}\\right) \\cos{\\left(q_{4} \\right)} + \\sin{\\left(q_{1} \\right)} \\sin{\\left(q_{4} \\right)}\\right) \\sin{\\left(q_{5} \\right)} + 0.303 \\left(- \\sin{\\left(q_{2} \\right)} \\sin{\\left(q_{3} \\right)} \\cos{\\left(q_{1} \\right)} + \\cos{\\left(q_{1} \\right)} \\cos{\\left(q_{2} \\right)} \\cos{\\left(q_{3} \\right)}\\right) \\cos{\\left(q_{5} \\right)} - 1.5014 \\sin{\\left(q_{2} \\right)} \\sin{\\left(q_{3} \\right)} \\cos{\\left(q_{1} \\right)} + 0.0536 \\sin{\\left(q_{2} \\right)} \\cos{\\left(q_{1} \\right)} \\cos{\\left(q_{3} \\right)} + 1.25 \\sin{\\left(q_{2} \\right)} \\cos{\\left(q_{1} \\right)} + 0.0536 \\sin{\\left(q_{3} \\right)} \\cos{\\left(q_{1} \\right)} \\cos{\\left(q_{2} \\right)} + 1.5014 \\cos{\\left(q_{1} \\right)} \\cos{\\left(q_{2} \\right)} \\cos{\\left(q_{3} \\right)} + 0.35 \\cos{\\left(q_{1} \\right)}\\\\- 0.303 \\left(\\left(\\sin{\\left(q_{1} \\right)} \\sin{\\left(q_{2} \\right)} \\cos{\\left(q_{3} \\right)} + \\sin{\\left(q_{1} \\right)} \\sin{\\left(q_{3} \\right)} \\cos{\\left(q_{2} \\right)}\\right) \\cos{\\left(q_{4} \\right)} - \\sin{\\left(q_{4} \\right)} \\cos{\\left(q_{1} \\right)}\\right) \\sin{\\left(q_{5} \\right)} + 0.303 \\left(- \\sin{\\left(q_{1} \\right)} \\sin{\\left(q_{2} \\right)} \\sin{\\left(q_{3} \\right)} + \\sin{\\left(q_{1} \\right)} \\cos{\\left(q_{2} \\right)} \\cos{\\left(q_{3} \\right)}\\right) \\cos{\\left(q_{5} \\right)} - 1.5014 \\sin{\\left(q_{1} \\right)} \\sin{\\left(q_{2} \\right)} \\sin{\\left(q_{3} \\right)} + 0.0536 \\sin{\\left(q_{1} \\right)} \\sin{\\left(q_{2} \\right)} \\cos{\\left(q_{3} \\right)} + 1.25 \\sin{\\left(q_{1} \\right)} \\sin{\\left(q_{2} \\right)} + 0.0536 \\sin{\\left(q_{1} \\right)} \\sin{\\left(q_{3} \\right)} \\cos{\\left(q_{2} \\right)} + 1.5014 \\sin{\\left(q_{1} \\right)} \\cos{\\left(q_{2} \\right)} \\cos{\\left(q_{3} \\right)} + 0.35 \\sin{\\left(q_{1} \\right)}\\\\- 0.303 \\left(- \\sin{\\left(q_{2} \\right)} \\sin{\\left(q_{3} \\right)} + \\cos{\\left(q_{2} \\right)} \\cos{\\left(q_{3} \\right)}\\right) \\sin{\\left(q_{5} \\right)} \\cos{\\left(q_{4} \\right)} + 0.303 \\left(- \\sin{\\left(q_{2} \\right)} \\cos{\\left(q_{3} \\right)} - \\sin{\\left(q_{3} \\right)} \\cos{\\left(q_{2} \\right)}\\right) \\cos{\\left(q_{5} \\right)} - 0.0536 \\sin{\\left(q_{2} \\right)} \\sin{\\left(q_{3} \\right)} - 1.5014 \\sin{\\left(q_{2} \\right)} \\cos{\\left(q_{3} \\right)} - 1.5014 \\sin{\\left(q_{3} \\right)} \\cos{\\left(q_{2} \\right)} + 0.0536 \\cos{\\left(q_{2} \\right)} \\cos{\\left(q_{3} \\right)} + 1.25 \\cos{\\left(q_{2} \\right)} + 0.75\\\\\\operatorname{atan_{2}}{\\left(\\left(- \\sin{\\left(q_{2} \\right)} \\sin{\\left(q_{3} \\right)} + \\cos{\\left(q_{2} \\right)} \\cos{\\left(q_{3} \\right)}\\right) \\sin{\\left(q_{4} \\right)} \\cos{\\left(q_{6} \\right)} + \\left(\\left(- \\sin{\\left(q_{2} \\right)} \\sin{\\left(q_{3} \\right)} + \\cos{\\left(q_{2} \\right)} \\cos{\\left(q_{3} \\right)}\\right) \\cos{\\left(q_{4} \\right)} \\cos{\\left(q_{5} \\right)} + \\left(- \\sin{\\left(q_{2} \\right)} \\cos{\\left(q_{3} \\right)} - \\sin{\\left(q_{3} \\right)} \\cos{\\left(q_{2} \\right)}\\right) \\sin{\\left(q_{5} \\right)}\\right) \\sin{\\left(q_{6} \\right)},- \\left(- \\sin{\\left(q_{2} \\right)} \\sin{\\left(q_{3} \\right)} + \\cos{\\left(q_{2} \\right)} \\cos{\\left(q_{3} \\right)}\\right) \\sin{\\left(q_{4} \\right)} \\sin{\\left(q_{6} \\right)} + \\left(\\left(- \\sin{\\left(q_{2} \\right)} \\sin{\\left(q_{3} \\right)} + \\cos{\\left(q_{2} \\right)} \\cos{\\left(q_{3} \\right)}\\right) \\cos{\\left(q_{4} \\right)} \\cos{\\left(q_{5} \\right)} + \\left(- \\sin{\\left(q_{2} \\right)} \\cos{\\left(q_{3} \\right)} - \\sin{\\left(q_{3} \\right)} \\cos{\\left(q_{2} \\right)}\\right) \\sin{\\left(q_{5} \\right)}\\right) \\cos{\\left(q_{6} \\right)} \\right)}\\\\\\operatorname{atan_{2}}{\\left(\\left(- \\sin{\\left(q_{2} \\right)} \\sin{\\left(q_{3} \\right)} + \\cos{\\left(q_{2} \\right)} \\cos{\\left(q_{3} \\right)}\\right) \\sin{\\left(q_{5} \\right)} \\cos{\\left(q_{4} \\right)} - \\left(- \\sin{\\left(q_{2} \\right)} \\cos{\\left(q_{3} \\right)} - \\sin{\\left(q_{3} \\right)} \\cos{\\left(q_{2} \\right)}\\right) \\cos{\\left(q_{5} \\right)},\\sqrt{\\left(- \\left(\\left(\\sin{\\left(q_{1} \\right)} \\sin{\\left(q_{2} \\right)} \\cos{\\left(q_{3} \\right)} + \\sin{\\left(q_{1} \\right)} \\sin{\\left(q_{3} \\right)} \\cos{\\left(q_{2} \\right)}\\right) \\cos{\\left(q_{4} \\right)} - \\sin{\\left(q_{4} \\right)} \\cos{\\left(q_{1} \\right)}\\right) \\sin{\\left(q_{5} \\right)} + \\left(- \\sin{\\left(q_{1} \\right)} \\sin{\\left(q_{2} \\right)} \\sin{\\left(q_{3} \\right)} + \\sin{\\left(q_{1} \\right)} \\cos{\\left(q_{2} \\right)} \\cos{\\left(q_{3} \\right)}\\right) \\cos{\\left(q_{5} \\right)}\\right)^{2} + \\left(- \\left(\\left(\\sin{\\left(q_{2} \\right)} \\cos{\\left(q_{1} \\right)} \\cos{\\left(q_{3} \\right)} + \\sin{\\left(q_{3} \\right)} \\cos{\\left(q_{1} \\right)} \\cos{\\left(q_{2} \\right)}\\right) \\cos{\\left(q_{4} \\right)} + \\sin{\\left(q_{1} \\right)} \\sin{\\left(q_{4} \\right)}\\right) \\sin{\\left(q_{5} \\right)} + \\left(- \\sin{\\left(q_{2} \\right)} \\sin{\\left(q_{3} \\right)} \\cos{\\left(q_{1} \\right)} + \\cos{\\left(q_{1} \\right)} \\cos{\\left(q_{2} \\right)} \\cos{\\left(q_{3} \\right)}\\right) \\cos{\\left(q_{5} \\right)}\\right)^{2}} \\right)}\\\\\\operatorname{atan_{2}}{\\left(- \\left(\\left(\\sin{\\left(q_{1} \\right)} \\sin{\\left(q_{2} \\right)} \\cos{\\left(q_{3} \\right)} + \\sin{\\left(q_{1} \\right)} \\sin{\\left(q_{3} \\right)} \\cos{\\left(q_{2} \\right)}\\right) \\cos{\\left(q_{4} \\right)} - \\sin{\\left(q_{4} \\right)} \\cos{\\left(q_{1} \\right)}\\right) \\sin{\\left(q_{5} \\right)} + \\left(- \\sin{\\left(q_{1} \\right)} \\sin{\\left(q_{2} \\right)} \\sin{\\left(q_{3} \\right)} + \\sin{\\left(q_{1} \\right)} \\cos{\\left(q_{2} \\right)} \\cos{\\left(q_{3} \\right)}\\right) \\cos{\\left(q_{5} \\right)},- \\left(\\left(\\sin{\\left(q_{2} \\right)} \\cos{\\left(q_{1} \\right)} \\cos{\\left(q_{3} \\right)} + \\sin{\\left(q_{3} \\right)} \\cos{\\left(q_{1} \\right)} \\cos{\\left(q_{2} \\right)}\\right) \\cos{\\left(q_{4} \\right)} + \\sin{\\left(q_{1} \\right)} \\sin{\\left(q_{4} \\right)}\\right) \\sin{\\left(q_{5} \\right)} + \\left(- \\sin{\\left(q_{2} \\right)} \\sin{\\left(q_{3} \\right)} \\cos{\\left(q_{1} \\right)} + \\cos{\\left(q_{1} \\right)} \\cos{\\left(q_{2} \\right)} \\cos{\\left(q_{3} \\right)}\\right) \\cos{\\left(q_{5} \\right)} \\right)}\\end{matrix}\\right]$"
      ],
      "text/plain": [
       "Matrix([\n",
       "[                                                                                                -0.303*((sin(q2)*cos(q1)*cos(q3) + sin(q3)*cos(q1)*cos(q2))*cos(q4) + sin(q1)*sin(q4))*sin(q5) + 0.303*(-sin(q2)*sin(q3)*cos(q1) + cos(q1)*cos(q2)*cos(q3))*cos(q5) - 1.5014*sin(q2)*sin(q3)*cos(q1) + 0.0536*sin(q2)*cos(q1)*cos(q3) + 1.25*sin(q2)*cos(q1) + 0.0536*sin(q3)*cos(q1)*cos(q2) + 1.5014*cos(q1)*cos(q2)*cos(q3) + 0.35*cos(q1)],\n",
       "[                                                                                                -0.303*((sin(q1)*sin(q2)*cos(q3) + sin(q1)*sin(q3)*cos(q2))*cos(q4) - sin(q4)*cos(q1))*sin(q5) + 0.303*(-sin(q1)*sin(q2)*sin(q3) + sin(q1)*cos(q2)*cos(q3))*cos(q5) - 1.5014*sin(q1)*sin(q2)*sin(q3) + 0.0536*sin(q1)*sin(q2)*cos(q3) + 1.25*sin(q1)*sin(q2) + 0.0536*sin(q1)*sin(q3)*cos(q2) + 1.5014*sin(q1)*cos(q2)*cos(q3) + 0.35*sin(q1)],\n",
       "[                                                                                                                                                                                                   -0.303*(-sin(q2)*sin(q3) + cos(q2)*cos(q3))*sin(q5)*cos(q4) + 0.303*(-sin(q2)*cos(q3) - sin(q3)*cos(q2))*cos(q5) - 0.0536*sin(q2)*sin(q3) - 1.5014*sin(q2)*cos(q3) - 1.5014*sin(q3)*cos(q2) + 0.0536*cos(q2)*cos(q3) + 1.25*cos(q2) + 0.75],\n",
       "[                                                                                           atan2((-sin(q2)*sin(q3) + cos(q2)*cos(q3))*sin(q4)*cos(q6) + ((-sin(q2)*sin(q3) + cos(q2)*cos(q3))*cos(q4)*cos(q5) + (-sin(q2)*cos(q3) - sin(q3)*cos(q2))*sin(q5))*sin(q6), -(-sin(q2)*sin(q3) + cos(q2)*cos(q3))*sin(q4)*sin(q6) + ((-sin(q2)*sin(q3) + cos(q2)*cos(q3))*cos(q4)*cos(q5) + (-sin(q2)*cos(q3) - sin(q3)*cos(q2))*sin(q5))*cos(q6))],\n",
       "[atan2((-sin(q2)*sin(q3) + cos(q2)*cos(q3))*sin(q5)*cos(q4) - (-sin(q2)*cos(q3) - sin(q3)*cos(q2))*cos(q5), sqrt((-((sin(q1)*sin(q2)*cos(q3) + sin(q1)*sin(q3)*cos(q2))*cos(q4) - sin(q4)*cos(q1))*sin(q5) + (-sin(q1)*sin(q2)*sin(q3) + sin(q1)*cos(q2)*cos(q3))*cos(q5))**2 + (-((sin(q2)*cos(q1)*cos(q3) + sin(q3)*cos(q1)*cos(q2))*cos(q4) + sin(q1)*sin(q4))*sin(q5) + (-sin(q2)*sin(q3)*cos(q1) + cos(q1)*cos(q2)*cos(q3))*cos(q5))**2))],\n",
       "[                                                                                                                      atan2(-((sin(q1)*sin(q2)*cos(q3) + sin(q1)*sin(q3)*cos(q2))*cos(q4) - sin(q4)*cos(q1))*sin(q5) + (-sin(q1)*sin(q2)*sin(q3) + sin(q1)*cos(q2)*cos(q3))*cos(q5), -((sin(q2)*cos(q1)*cos(q3) + sin(q3)*cos(q1)*cos(q2))*cos(q4) + sin(q1)*sin(q4))*sin(q5) + (-sin(q2)*sin(q3)*cos(q1) + cos(q1)*cos(q2)*cos(q3))*cos(q5))]])"
      ]
     },
     "metadata": {},
     "output_type": "display_data"
    }
   ],
   "source": [
    "def x_from_matrix(T):\n",
    "    X = zeros(6,1)\n",
    "    #display(X)\n",
    "    \n",
    "    # Position\n",
    "    X[0:3,0] = T[0:3,3]\n",
    "    \n",
    "    # Extract RPY\n",
    "    X[3,0]  = atan2(T[2,1],T[2,2]) #Roll\n",
    "    X[4,0] = atan2(-T[2,0], sqrt(T[0,0]*T[0,0] + T[1,0]*T[1,0])) #Pitch\n",
    "    X[5,0]   = atan2(T[1,0],T[0,0]) #YAW\n",
    "    \n",
    "    return X\n",
    "\n",
    "X = x_from_matrix(T0_EE_GAZEBO)\n",
    "display(X)"
   ]
  },
  {
   "cell_type": "markdown",
   "metadata": {},
   "source": [
    "## 3. Inverse Kinematics\n",
    "\n",
    "*intro here*\n",
    "\n",
    "### 3.1. The Analytical Jacobian\n",
    "*source[]()*\n",
    "\n",
    "Forward kinematics describes the mapping between a given joint configuration $q$ and end-effector configuration $X_e$, \n",
    "\n",
    "$ X_e = f(q) $\n",
    "\n",
    "Where $X_e$ parametrized with the stacked vector of position and orientation, orientation is any sets of Eulers angles:\n",
    "\n",
    "$ X_e = \\quad\n",
    "\\begin{pmatrix}\n",
    "P_1 \\\\\n",
    "P_2 \\\\\n",
    "P_3 \\\\\n",
    "O_1 \\\\\n",
    "O_2 \\\\\n",
    "O_3\n",
    "\\end{pmatrix}\n",
    "\\quad $\n",
    "\n",
    "So:\n",
    "\n",
    "$ \\frac{\\partial X_e}{\\partial q} = \\frac{\\partial f(q)}{\\partial q} = J(q)$\n",
    "\n",
    "Where:\n",
    "\n",
    "$ J(q) = \\quad\n",
    "\\begin{pmatrix}\n",
    "\\frac{\\partial P_1}{\\partial q_1} & \\dots & \\frac{\\partial P_1}{\\partial q_n} \\\\\n",
    "\\frac{\\partial P_2}{\\partial q_1} & \\dots & \\frac{\\partial P_2}{\\partial q_n} \\\\\n",
    "\\frac{\\partial P_3}{\\partial q_1} & \\dots & \\frac{\\partial P_3}{\\partial q_n} \\\\\n",
    "\\frac{\\partial O_1}{\\partial q_1} & \\dots & \\frac{\\partial O_1}{\\partial q_n} \\\\\n",
    "\\frac{\\partial O_2}{\\partial q_1} & \\dots & \\frac{\\partial O_2}{\\partial q_n} \\\\\n",
    "\\frac{\\partial O_3}{\\partial q_1} & \\dots & \\frac{\\partial O_3}{\\partial q_n} \n",
    "\\end{pmatrix}\n",
    "\\quad $\n",
    "\n",
    "The mxn matrix $J(q)$ is the **analytical Jacobian**. The Jacobian matrix is very often used in kinematics and dynamics of robotic systems. \n",
    "\n",
    "It **relates differences from joint space to configuration space**.\n",
    "\n",
    "While it represents an **approximation in the context of finite differences**:\n",
    "\n",
    "$\\Delta x_e \\approx J \\Delta q$\n",
    "\n",
    "it results in an exact relation between velocities: ̇\n",
    "\n",
    "$ \\dot{x}_e = J \\dot{q}$\n",
    "\n",
    "Jacobian strongly depends onthe selected parameterization. For example for a n joints robot, when using Euler Angles the dimension of the orientation part of J is 3×n (as above), in case of quaternions it is 4×n, and for the full rotation matrix parameters 9×n.\n",
    "\n",
    "#### 3.1.1. Python Code: Compute the analytical jacobian"
   ]
  },
  {
   "cell_type": "code",
   "execution_count": 14,
   "metadata": {},
   "outputs": [],
   "source": [
    "def compute_J(X):\n",
    "    J = zeros(6,6)\n",
    "    \n",
    "    J[:,0] = diff(X,q1)\n",
    "    J[:,1] = diff(X,q2)\n",
    "    J[:,2] = diff(X,q3)\n",
    "    J[:,3] = diff(X,q4)\n",
    "    J[:,4] = diff(X,q5)\n",
    "    J[:,5] = diff(X,q6)\n",
    "    \n",
    "    return J\n",
    "\n",
    "J = compute_J(X)\n",
    "#display(J)"
   ]
  },
  {
   "cell_type": "markdown",
   "metadata": {},
   "source": [
    "Computing the symbolical form of forward kinematics and of the jacobian is very expensive!\n",
    "\n",
    "Python **pickle** module is used for serializing and de-serializing a Python object structure. Any object in Python can be pickled so that it can be saved on disk.\n",
    "\n",
    "Pickling is a way to convert a python object (list, dict, etc.) into a character stream. The idea is that this character stream contains all the information necessary to reconstruct the object in another python script."
   ]
  },
  {
   "cell_type": "code",
   "execution_count": 16,
   "metadata": {},
   "outputs": [],
   "source": [
    "import pickle\n",
    "pickle.dump(X,open('data/forward_kinematics.p','wb')) #note that write binary mode is used\n",
    "pickle.dump(J,open('data/jacobian.p','wb'))           #note that write binary mode is used\n",
    "\n",
    "X = pickle.load(open('data/forward_kinematics.p', 'rb'))\n",
    "J = pickle.load(open('data/jacobian.p', 'rb'))"
   ]
  },
  {
   "cell_type": "code",
   "execution_count": 17,
   "metadata": {},
   "outputs": [
    {
     "name": "stdout",
     "output_type": "stream",
     "text": [
      "CPU times: user 344 ms, sys: 0 ns, total: 344 ms\n",
      "Wall time: 343 ms\n"
     ]
    },
    {
     "data": {
      "text/latex": [
       "$\\displaystyle \\left[\\begin{matrix}-0.267019535978954 & 0.305874036774367 & -0.913088872227902 & 0.0136276482002597 & -0.254016523833012 & 0\\\\2.09465263923424 & 0.0306897711792092 & -0.0916144725798604 & 0.135837907847838 & 0.0785825119694059 & 0\\\\0 & -1.76084557343691 & -1.51250890994308 & 0.0496441617547149 & -0.145290723834562 & 0\\\\0 & 0.538469390040572 & 0.538469390040572 & 1.4134904867223 & 0.796669414600801 & 1.0\\\\0 & 0.948403567710697 & 0.948403567710697 & -0.278251349550077 & 0.814342282257084 & 0\\\\1.0 & 0.435222484778813 & 0.435222484778813 & 0.663040223091448 & 0.98566160698726 & 0\\end{matrix}\\right]$"
      ],
      "text/plain": [
       "Matrix([\n",
       "[-0.267019535978954,  0.305874036774367,  -0.913088872227902, 0.0136276482002597, -0.254016523833012,   0],\n",
       "[  2.09465263923424, 0.0306897711792092, -0.0916144725798604,  0.135837907847838, 0.0785825119694059,   0],\n",
       "[                 0,  -1.76084557343691,   -1.51250890994308, 0.0496441617547149, -0.145290723834562,   0],\n",
       "[                 0,  0.538469390040572,   0.538469390040572,    1.4134904867223,  0.796669414600801, 1.0],\n",
       "[                 0,  0.948403567710697,   0.948403567710697, -0.278251349550077,  0.814342282257084,   0],\n",
       "[               1.0,  0.435222484778813,   0.435222484778813,  0.663040223091448,   0.98566160698726,   0]])"
      ]
     },
     "execution_count": 17,
     "metadata": {},
     "output_type": "execute_result"
    }
   ],
   "source": [
    "%%time\n",
    "J.subs({'q1':0.1,'q2':0.2,'q3':0.3,'q4':0.4,'q5':0.5,'q6':0.6}).evalf()"
   ]
  },
  {
   "cell_type": "markdown",
   "metadata": {},
   "source": [
    "### 3.2. Jacobian-Traspose IK Algorithm\n",
    "*source[ETHZ - Robot Dynamics](https://ethz.ch/content/dam/ethz/special-interest/mavt/robotics-n-intelligent-systems/rsl-dam/documents/RobotDynamics2017/RD_HS2017script.pdf)*\n",
    "\n",
    "With increasing computational power, **numerical approaches** are a common tool to solve the inverse kinematics problem.\n",
    "\n",
    "Differences in joint space coordinates $\\Delta q$ can be directly mapped to differences in end-effector coordinates $\\Delta x_e$ using the analytical Jacobian: $\\Delta x_e = J \\Delta q$.\n",
    "\n",
    "This relationship can be **inverted** and used to **iteratively** solve the inverse kinematics problem for a given desired end-effector configuration $X^*_e$ and start configuration $q0$. \n",
    "\n",
    "$ \\Delta q = J^+\\Delta X_e$\n",
    "\n",
    "The algorithm iterates until the target location $q^*$ is reached with a certain tolerance:\n",
    "\n",
    "$ \\mid \\Delta X_e \\mid = \\mid X^*_e - X_e(q^*) \\mid < tol $.\n",
    "\n",
    "Unfortunately, this approach has some problems: \n",
    "\n",
    "First, if the error between the target and actual configuration $\\Delta X_e$ is getting large, the error linearization as implemented by analytical Jacobian is not accurate enough. A simple way to deal with this issue is to scale each update step by a factor $0< k <1$ in order to remain within the validity region of the linearization and avoid overshooting or divergence.\n",
    "\n",
    "$ q \\leftarrow q + k*J^+\\Delta X_e$\n",
    "\n",
    "Second, in case the target is close to a **singularity position** the Jacobian inversion becomes a **badly conditioned** problem, it is important to understand that the choice of parameterization leadsto very different numerical behaviors. An approach is to use the **Jacoban-transposed** method.\n",
    "\n",
    "$ q \\leftarrow q + k*J^T\\Delta X_e$\n",
    "\n",
    "When choosing the parameter k small enough, convergence of the problem can be guaranteed. At the same time, there is no time-consuming inversion required."
   ]
  },
  {
   "cell_type": "code",
   "execution_count": 12,
   "metadata": {},
   "outputs": [],
   "source": [
    "from geometry_msgs.msg import Pose\n",
    "from trajectory_msgs.msg import JointTrajectoryPoint\n",
    "import tf\n",
    "\n",
    "############ ROS SERVICE SIMULATION############\n",
    "class request_fake():\n",
    "    def __init__(self):\n",
    "        self.poses = [Pose()]\n",
    "        self.poses[0].position.x = 1\n",
    "        self.poses[0].position.y = 1\n",
    "        self.poses[0].position.z = 1\n",
    "###############################################\n",
    "\n",
    "req = request_fake()\n",
    "\n",
    "for x in xrange(0, len(req.poses)):\n",
    "    # IK code starts here\n",
    "    joint_trajectory_point = JointTrajectoryPoint()\n",
    "\n",
    "    # Extract end-effector position and orientation from request\n",
    "    # px,py,pz = end-effector position\n",
    "    # roll, pitch, yaw = end-effector orientation\n",
    "    px = req.poses[x].position.x\n",
    "    py = req.poses[x].position.y\n",
    "    pz = req.poses[x].position.z\n",
    "\n",
    "    (roll, pitch, yaw) = tf.transformations.euler_from_quaternion(\n",
    "                            [req.poses[x].orientation.x, req.poses[x].orientation.y,\n",
    "                            req.poses[x].orientation.z, req.poses[x].orientation.w])"
   ]
  },
  {
   "cell_type": "markdown",
   "metadata": {},
   "source": [
    "Sources:\n",
    "    \n",
    "* https://github.com/udacity/RoboND-Kinematics-Project\n",
    "    \n",
    "* https://jychstar.blogspot.com/2017/09/robot-nd-a2-kinematics.html"
   ]
  },
  {
   "cell_type": "code",
   "execution_count": null,
   "metadata": {},
   "outputs": [],
   "source": []
  }
 ],
 "metadata": {
  "kernelspec": {
   "display_name": "Python 2",
   "language": "python",
   "name": "python2"
  },
  "language_info": {
   "codemirror_mode": {
    "name": "ipython",
    "version": 2
   },
   "file_extension": ".py",
   "mimetype": "text/x-python",
   "name": "python",
   "nbconvert_exporter": "python",
   "pygments_lexer": "ipython2",
   "version": "2.7.15+"
  }
 },
 "nbformat": 4,
 "nbformat_minor": 2
}
