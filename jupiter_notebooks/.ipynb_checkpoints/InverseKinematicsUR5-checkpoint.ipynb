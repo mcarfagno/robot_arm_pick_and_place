{
 "cells": [
  {
   "cell_type": "markdown",
   "metadata": {},
   "source": [
    "# UR5 INVERSE KINEMATICS NOTEBOOK\n",
    "\n",
    "This project is originated from Udacity's [Robotic arm - Pick & Place project](https://github.com/udacity/RoboND-Kinematics-Project)\n"
   ]
  },
  {
   "cell_type": "markdown",
   "metadata": {},
   "source": [
    "## Overview\n",
    "\n",
    "The objective of this project is to perform a pick and place task in simulation using a UR5 manipulator with 6 degrees of freedom.\n",
    "\n",
    "The robot is simulated and controlled using the **ROS** Robot Operating System Framework.\n",
    "\n",
    "Python's symbolic library **Sympy** is used to solve the problem using *analytical solutions* and forms. Instead **NumPy** is used for numerical implementation of the final algorithm.\n",
    "\n",
    "## 1. Introduction\n",
    "\n",
    "---------------------------------------------------------------------------\n",
    "\n",
    "From: [Robotics_Kinematics_and_Dynamics](https://en.wikibooks.org/wiki/Robotics_Kinematics_and_Dynamics)\n",
    "\n",
    "**Serial manipulators** are robots composed as a sequence of links connected by joints (**Kinematic Chain**).\n",
    "\n",
    "<p align=\"center\">\n",
    "     <img src=\"img/joints.png\" width=\"640\">\n",
    "</p>\n",
    "\n",
    "[source: Udacity](https://eu.udacity.com/course/robotics-software-engineer--nd209)\n",
    "\n",
    "Joints give the manipulator Degrees of freedom(**Dof**): The DOF of a manipulator describes the number of indipendent variables that the robot uses to define its state in free space. A robot requires at least 6DOF fo freely move its end-effector in 3D space. \n",
    "\n",
    "A typical serial manipulator has 6 degree of freedom: the first 3 joints control the location of the wrist center, while the last 3 only control the orientation of the end effector.\n",
    "\n",
    "In robotics **kinematics** is used to calculate the relations between end-effector state and joint angles, kinematics is a branch of classical mechanics that studies how things move without considering the forces required to produce the motion. \n",
    "\n",
    "The **forward kinematics** problem can be stated as follows: *given the different joint angles, what is the position of the end-effector?*\n",
    "\n",
    "The **inverse kinematics**problem is the opposite of the forward kinematics problem and can be summarized as follows: *given the desired position of the end effector, what combinations of the joint angles can be used to achieve this position?*\n",
    "\n",
    "<p align=\"center\">\n",
    "     <img src=\"img/forward-kinematics-01.png\" width=\"640\">\n",
    "</p>\n",
    "\n",
    "[source: Udacity](https://eu.udacity.com/course/robotics-software-engineer--nd209)\n",
    "\n",
    "Some theorical background concepts are necessary for this project:\n",
    "\n",
    "* Reference Frames\n",
    "* Rotation Matrices\n",
    "* Euler Angles\n",
    "* Transformation Matrices\n",
    "\n",
    "### 1.1. Reference Frames\n",
    "\n",
    "In general, a rigid body in three-dimensional space has **six degrees of freedom**: three rotational and three translational. The **position** and **orientation** of a rigid body can be described by attaching a **frame** to it.\n",
    "\n",
    "After defining a **reference coordinate system**, the position and orientation of the rigid body are fully described by the position of the frame's origin and the orientation of its axes, relative to the reference frame. \n",
    "\n",
    "### 1.2. Rotation Matrices\n",
    "\n",
    "A **rotation matrix** describes the relative orientation of two such frames. The columns of this 3 × 3 matrix consist of the *unit vectors* along the axes of one frame, relative to the other, reference frame. Thus, the relative orientation of a frame *b* with respect to a reference frame *a*  is given by the rotation matrix $R_{a}^{b}$\n",
    "\n",
    "$ R^{b}_{a} = \\quad\n",
    "\\begin{pmatrix}\n",
    "x^b \\cdot x^a & y^b \\cdot x^a & z^b \\cdot x^a \\\\\n",
    "x^b \\cdot y^a & y^b \\cdot y^a & z^b \\cdot y^a \\\\\n",
    "x^b \\cdot z^a & y^b \\cdot z^a & z^b \\cdot z^a\n",
    "\\end{pmatrix} \\quad\n",
    "$\n",
    "\n",
    "The expressions for elementary rotations about frame axes can easily be derived:\n",
    "\n",
    "<p align=\"center\">\n",
    "     <img src=\"img/Rotation_about_z-axis.png\" width=\"320\">\n",
    "</p>\n",
    "\n",
    "[source: Wikibooks](https://en.wikibooks.org/wiki/Robotics_Kinematics_and_Dynamics/Description_of_Position_and_Orientation)\n",
    "\n",
    "$ R_{z}(\\gamma) = \\quad\n",
    "\\begin{pmatrix}\n",
    "\\cos{\\gamma} & -\\sin{\\gamma} & 0 \\\\\n",
    "\\sin{\\gamma} & \\cos{\\gamma} & 0 \\\\\n",
    "0 & 0 & 1\n",
    "\\end{pmatrix} \\quad\n",
    "$\n",
    "\n",
    "$ R_{x}(\\alpha) = \\quad\n",
    "\\begin{pmatrix}\n",
    "1 & 0 & 0 \\\\\n",
    "0 & \\cos{\\alpha} & -\\sin{\\alpha} \\\\\n",
    "0 & \\sin{\\alpha} & \\cos{\\alpha}\n",
    "\\end{pmatrix} \\quad\n",
    "$\n",
    "\n",
    "$ R_{y}(\\beta) = \\quad\n",
    "\\begin{pmatrix}\n",
    "\\cos{\\beta} & 0 & \\sin{\\beta}\\\\\n",
    "0 & 1 & 0 \\\\\n",
    "-\\sin{\\beta} & 0 & \\cos{\\beta}\n",
    "\\end{pmatrix} \\quad\n",
    "$\n",
    "\n",
    "Compound (3D) rotations are found by **multiplication** of the different elementary rotation matrices. \n",
    "\n",
    "The composition of rotations about **moving** axes (each rotation is relative to the newest rotated frame) can be found by **postmultiplying** the elementay rotation matrices (multiplying them in the same order in which the rotations take place).\n",
    "\n",
    "The composition of rotations about **fixed** axes (all rotation are relative to the starting frame), on the other hand, is found by **premultiplying** the elementary rotation matrices.\n",
    "\n",
    "The **inverse** of a single rotation about a frame axis is a rotation by the **negative** of the rotation angle about the same axis:\n",
    "\n",
    "$R^{-1}_z(\\alpha) = R_z(-\\alpha)$\n",
    "\n",
    "The inverse of a compound rotation follows from the inverse of the matrix product:\n",
    "\n",
    "$R^{-1}_{zy}(\\alpha,-\\beta) = R^{-1}_y(-\\beta) \\cdot R^{-1}_z(\\alpha) = R_y(\\beta) \\cdot R_z(-\\alpha)$\n",
    "\n",
    "#### 1.2.1. Python Code: Rotation Matrices"
   ]
  },
  {
   "cell_type": "code",
   "execution_count": 5,
   "metadata": {},
   "outputs": [
    {
     "data": {
      "text/latex": [
       "$\\displaystyle \\left[\\begin{matrix}\\cos{\\left(\\gamma \\right)} & - \\sin{\\left(\\gamma \\right)} & 0\\\\\\sin{\\left(\\gamma \\right)} \\cos{\\left(\\alpha \\right)} & \\cos{\\left(\\alpha \\right)} \\cos{\\left(\\gamma \\right)} & - \\sin{\\left(\\alpha \\right)}\\\\\\sin{\\left(\\alpha \\right)} \\sin{\\left(\\gamma \\right)} & \\sin{\\left(\\alpha \\right)} \\cos{\\left(\\gamma \\right)} & \\cos{\\left(\\alpha \\right)}\\end{matrix}\\right]$"
      ],
      "text/plain": [
       "Matrix([\n",
       "[           cos(gamma),           -sin(gamma),           0],\n",
       "[sin(gamma)*cos(alpha), cos(alpha)*cos(gamma), -sin(alpha)],\n",
       "[sin(alpha)*sin(gamma), sin(alpha)*cos(gamma),  cos(alpha)]])"
      ]
     },
     "metadata": {},
     "output_type": "display_data"
    }
   ],
   "source": [
    "from sympy import *\n",
    "\n",
    "alpha, beta, gamma = symbols('alpha,beta,gamma')\n",
    "\n",
    "R_x = Matrix([[ 1,          0,           0],\n",
    "              [ 0, cos(alpha), -sin(alpha)],\n",
    "              [ 0, sin(alpha),  cos(alpha)]])\n",
    "\n",
    "R_y = Matrix([[  cos(beta), 0, sin(beta)],\n",
    "              [          0, 1,         0],\n",
    "              [ -sin(beta), 0, cos(beta)]])\n",
    "\n",
    "R_z = Matrix([[ cos(gamma), -sin(gamma),  0],\n",
    "              [ sin(gamma),  cos(gamma),  0],\n",
    "              [          0,           0,  1]])\n",
    "\n",
    "display(R_x*R_z)"
   ]
  },
  {
   "cell_type": "markdown",
   "metadata": {},
   "source": [
    "### 1.3. Euler Angles\n",
    "\n",
    "**Euler angles** are a **minimal representation** of relative orientation. This set of three angles describes a sequence of three rotations about **moving axes**. There are many sets that describe the same orientation: in fact different sets of axes (e.g. ZXZ, ZYZ, and so on) lead to different Euler angles. \n",
    "\n",
    "Euler angles are often used for the description of the orientation of end-effectors of many serial manipulator robots. \n",
    "\n",
    "#### 1.3.1. Euler Angles forward mapping\n",
    "\n",
    "Forward mapping, wich means computing the rotation matrix of the end-effector with respect to the base frame given a set of euler angles, follows from the composition of rotations about moving axes:\n",
    "\n",
    "* Euler XYZ: *moving frame* compound rotation around x0,y1,z2:\n",
    "\n",
    "    $R^{ee}_{base} = R_{xyz}(\\alpha,\\beta,\\gamma) = R_x(\\alpha)R_y(\\beta)R_z(\\gamma)$\n",
    "\n",
    "* Euler ZYZ: *moving frame* compound rotation around z0,y1,z2:\n",
    "\n",
    "    $R^{ee}_{base} = R_{zyz}(\\alpha,\\beta,\\gamma) = R_z(\\alpha)R_y(\\beta)R_z(\\gamma)$\n",
    "    \n",
    "* Euler ZYX: *moving frame* compound rotation around z0,y1,x2:\n",
    "\n",
    "    $R^{ee}_{base} = R_{zyx}(\\alpha,\\beta,\\gamma) = R_z(\\alpha)R_y(\\beta)R_x(\\gamma)$\n",
    "\n",
    "#### 1.3.2. Python Code: Euler Angles"
   ]
  },
  {
   "cell_type": "code",
   "execution_count": 6,
   "metadata": {},
   "outputs": [
    {
     "data": {
      "text/latex": [
       "$\\displaystyle \\left[\\begin{matrix}\\cos{\\left(\\beta \\right)} \\cos{\\left(\\gamma \\right)} & - \\sin{\\left(\\gamma \\right)} \\cos{\\left(\\beta \\right)} & \\sin{\\left(\\beta \\right)}\\\\\\sin{\\left(\\alpha \\right)} \\sin{\\left(\\beta \\right)} \\cos{\\left(\\gamma \\right)} + \\sin{\\left(\\gamma \\right)} \\cos{\\left(\\alpha \\right)} & - \\sin{\\left(\\alpha \\right)} \\sin{\\left(\\beta \\right)} \\sin{\\left(\\gamma \\right)} + \\cos{\\left(\\alpha \\right)} \\cos{\\left(\\gamma \\right)} & - \\sin{\\left(\\alpha \\right)} \\cos{\\left(\\beta \\right)}\\\\\\sin{\\left(\\alpha \\right)} \\sin{\\left(\\gamma \\right)} - \\sin{\\left(\\beta \\right)} \\cos{\\left(\\alpha \\right)} \\cos{\\left(\\gamma \\right)} & \\sin{\\left(\\alpha \\right)} \\cos{\\left(\\gamma \\right)} + \\sin{\\left(\\beta \\right)} \\sin{\\left(\\gamma \\right)} \\cos{\\left(\\alpha \\right)} & \\cos{\\left(\\alpha \\right)} \\cos{\\left(\\beta \\right)}\\end{matrix}\\right]$"
      ],
      "text/plain": [
       "Matrix([\n",
       "[                                   cos(beta)*cos(gamma),                                    -sin(gamma)*cos(beta),             sin(beta)],\n",
       "[sin(alpha)*sin(beta)*cos(gamma) + sin(gamma)*cos(alpha), -sin(alpha)*sin(beta)*sin(gamma) + cos(alpha)*cos(gamma), -sin(alpha)*cos(beta)],\n",
       "[sin(alpha)*sin(gamma) - sin(beta)*cos(alpha)*cos(gamma),  sin(alpha)*cos(gamma) + sin(beta)*sin(gamma)*cos(alpha),  cos(alpha)*cos(beta)]])"
      ]
     },
     "metadata": {},
     "output_type": "display_data"
    },
    {
     "data": {
      "text/latex": [
       "$\\displaystyle \\left[\\begin{matrix}- \\sin{\\left(\\alpha \\right)} \\sin{\\left(\\gamma \\right)} + \\cos{\\left(\\alpha \\right)} \\cos{\\left(\\beta \\right)} \\cos{\\left(\\gamma \\right)} & - \\sin{\\left(\\alpha \\right)} \\cos{\\left(\\gamma \\right)} - \\sin{\\left(\\gamma \\right)} \\cos{\\left(\\alpha \\right)} \\cos{\\left(\\beta \\right)} & \\sin{\\left(\\beta \\right)} \\cos{\\left(\\alpha \\right)}\\\\\\sin{\\left(\\alpha \\right)} \\cos{\\left(\\beta \\right)} \\cos{\\left(\\gamma \\right)} + \\sin{\\left(\\gamma \\right)} \\cos{\\left(\\alpha \\right)} & - \\sin{\\left(\\alpha \\right)} \\sin{\\left(\\gamma \\right)} \\cos{\\left(\\beta \\right)} + \\cos{\\left(\\alpha \\right)} \\cos{\\left(\\gamma \\right)} & \\sin{\\left(\\alpha \\right)} \\sin{\\left(\\beta \\right)}\\\\- \\sin{\\left(\\beta \\right)} \\cos{\\left(\\gamma \\right)} & \\sin{\\left(\\beta \\right)} \\sin{\\left(\\gamma \\right)} & \\cos{\\left(\\beta \\right)}\\end{matrix}\\right]$"
      ],
      "text/plain": [
       "Matrix([\n",
       "[-sin(alpha)*sin(gamma) + cos(alpha)*cos(beta)*cos(gamma), -sin(alpha)*cos(gamma) - sin(gamma)*cos(alpha)*cos(beta), sin(beta)*cos(alpha)],\n",
       "[ sin(alpha)*cos(beta)*cos(gamma) + sin(gamma)*cos(alpha), -sin(alpha)*sin(gamma)*cos(beta) + cos(alpha)*cos(gamma), sin(alpha)*sin(beta)],\n",
       "[                                   -sin(beta)*cos(gamma),                                     sin(beta)*sin(gamma),            cos(beta)]])"
      ]
     },
     "metadata": {},
     "output_type": "display_data"
    },
    {
     "data": {
      "text/latex": [
       "$\\displaystyle \\left[\\begin{matrix}\\cos{\\left(\\alpha \\right)} \\cos{\\left(\\beta \\right)} & - \\sin{\\left(\\alpha \\right)} \\cos{\\left(\\gamma \\right)} + \\sin{\\left(\\beta \\right)} \\sin{\\left(\\gamma \\right)} \\cos{\\left(\\alpha \\right)} & \\sin{\\left(\\alpha \\right)} \\sin{\\left(\\gamma \\right)} + \\sin{\\left(\\beta \\right)} \\cos{\\left(\\alpha \\right)} \\cos{\\left(\\gamma \\right)}\\\\\\sin{\\left(\\alpha \\right)} \\cos{\\left(\\beta \\right)} & \\sin{\\left(\\alpha \\right)} \\sin{\\left(\\beta \\right)} \\sin{\\left(\\gamma \\right)} + \\cos{\\left(\\alpha \\right)} \\cos{\\left(\\gamma \\right)} & \\sin{\\left(\\alpha \\right)} \\sin{\\left(\\beta \\right)} \\cos{\\left(\\gamma \\right)} - \\sin{\\left(\\gamma \\right)} \\cos{\\left(\\alpha \\right)}\\\\- \\sin{\\left(\\beta \\right)} & \\sin{\\left(\\gamma \\right)} \\cos{\\left(\\beta \\right)} & \\cos{\\left(\\beta \\right)} \\cos{\\left(\\gamma \\right)}\\end{matrix}\\right]$"
      ],
      "text/plain": [
       "Matrix([\n",
       "[cos(alpha)*cos(beta), -sin(alpha)*cos(gamma) + sin(beta)*sin(gamma)*cos(alpha), sin(alpha)*sin(gamma) + sin(beta)*cos(alpha)*cos(gamma)],\n",
       "[sin(alpha)*cos(beta),  sin(alpha)*sin(beta)*sin(gamma) + cos(alpha)*cos(gamma), sin(alpha)*sin(beta)*cos(gamma) - sin(gamma)*cos(alpha)],\n",
       "[          -sin(beta),                                     sin(gamma)*cos(beta),                                    cos(beta)*cos(gamma)]])"
      ]
     },
     "metadata": {},
     "output_type": "display_data"
    }
   ],
   "source": [
    "from sympy import *\n",
    "\n",
    "angle,alpha, beta, gamma = symbols('angle,alpha,beta,gamma')\n",
    "\n",
    "R_x = Matrix([[ 1,          0,           0],\n",
    "              [ 0, cos(angle), -sin(angle)],\n",
    "              [ 0, sin(angle),  cos(angle)]])\n",
    "\n",
    "R_y = Matrix([[  cos(angle), 0, sin(angle)],\n",
    "              [          0, 1,         0],\n",
    "              [ -sin(angle), 0, cos(angle)]])\n",
    "\n",
    "R_z = Matrix([[ cos(angle), -sin(angle),  0],\n",
    "              [ sin(angle),  cos(angle),  0],\n",
    "              [          0,           0,  1]])\n",
    "\n",
    "\n",
    "#display('Euler XYZ:')\n",
    "R_xyz = R_x.subs('angle',alpha)*R_y.subs('angle',beta)*R_z.subs('angle',gamma)\n",
    "display(R_xyz)\n",
    "\n",
    "#display('Euler ZYZ:')\n",
    "R_zyz = R_z.subs('angle',alpha)*R_y.subs('angle',beta)*R_z.subs('angle',gamma)\n",
    "display(R_zyz)\n",
    "\n",
    "#display('Euler ZYX:')\n",
    "R_zyx = R_z.subs('angle',alpha)*R_y.subs('angle',beta)*R_x.subs('angle',gamma)\n",
    "display(R_zyx)"
   ]
  },
  {
   "cell_type": "markdown",
   "metadata": {},
   "source": [
    "#### 1.3.3. Extract Euler Angles from Rotation Matrix\n",
    "\n",
    "In order to drive the end-effector, the inverse problem must be solved: given a certain orientation matrix, which are the **equivalent Euler angles** that accomplish the same orientation?\n",
    "\n",
    "Euler angles are found by inspection of the respective rotation matrix (the one found by computing forward mapping):\n",
    "\n",
    "* Euler XYZ\n",
    "\n",
    "    $ \\alpha = \\arctan_2(r_{13},-r_{23}) $\n",
    "    \n",
    "    $ \\beta = \\arctan_2(-r_{23}\\cos{\\alpha} + r_{13}\\sin{\\alpha},r_{33}) $\n",
    "    \n",
    "    $ \\gamma = \\arctan_2(r_{31},r_{32}) $\n",
    "\n",
    "#### 1.3.4. Python Code: Euler Angles inverse mapping"
   ]
  },
  {
   "cell_type": "code",
   "execution_count": 7,
   "metadata": {},
   "outputs": [
    {
     "name": "stdout",
     "output_type": "stream",
     "text": [
      "1.45422478442154\n",
      "0.833216776799274\n",
      "1.87050492656345\n"
     ]
    }
   ],
   "source": [
    "from sympy import *\n",
    "\n",
    "angle,alpha, beta, gamma = symbols('angle,alpha,beta,gamma')\n",
    "\n",
    "R_x = Matrix([[ 1,          0,           0],\n",
    "              [ 0, cos(angle), -sin(angle)],\n",
    "              [ 0, sin(angle),  cos(angle)]])\n",
    "\n",
    "R_y = Matrix([[  cos(angle), 0, sin(angle)],\n",
    "              [          0, 1,         0],\n",
    "              [ -sin(angle), 0, cos(angle)]])\n",
    "\n",
    "R_z = Matrix([[ cos(angle), -sin(angle),  0],\n",
    "              [ sin(angle),  cos(angle),  0],\n",
    "              [          0,           0,  1]])\n",
    "\n",
    "R = R_z.subs('angle',pi/10)*R_y.subs('angle',pi/4)*R_x.subs('angle',pi/10)*R_z.subs('angle',pi)\n",
    "\n",
    "alpha  = atan2(R[0,2],-R[1,2]).evalf()\n",
    "beta = atan2(-R[1,2]*cos(alpha) + R[0,2]*sin(alpha), R[2,2]).evalf()\n",
    "gamma   = atan2(R[2,0],R[2,1]).evalf()\n",
    "\n",
    "print(alpha)\n",
    "print(beta)\n",
    "print(gamma)"
   ]
  },
  {
   "cell_type": "markdown",
   "metadata": {},
   "source": [
    "#### 1.3.5 Coordinate Singularities\n",
    "\n",
    "In the above example, a **coordinate singularity** exists for $\\beta = 0i$. The equations are badly numerically conditioned and the first and last equaton become undefined.\n",
    "\n",
    "The occurrence of a coordinate singularity involves the **loss of a degree of freedom** (gimball lock problem): no minimal representation of orientation can globally describe all orientations without coordinate singularities occurring."
   ]
  },
  {
   "cell_type": "markdown",
   "metadata": {},
   "source": [
    "### 1.4 Roll-Pitch-Yaw Angles\n",
    "\n",
    "The orientation of a rigid body may be equally described by three consecutive rotations about **fixed axes.** This leads to a notation with **Roll-Pitch-Yaw** (RPY) angles. Since the frame now rotates about fixed axes instead of moving axes, the order in which the different rotation matrices are multiplied is inversed.\n",
    "\n",
    "#### 1.4.1 RPY Forward mapping\n",
    "\n",
    "* Roll-Pitch-Yaw: *fixed frame* compound rotation around x0,y0,z0:\n",
    "    \n",
    "    $R^{ee}_{base} =R_{rpy}(roll,pitch,yaw) = R_z(yaw)R_y(roll)R_x(pitch)$\n",
    "    \n",
    "It can be seen that:\n",
    "\n",
    "    $ R_{rpy}(\\alpha,\\beta,\\gamma) == R_{zyx}(\\gamma,\\beta,\\alpha) $\n",
    "\n",
    "#### 1.4.2 Python Code: RPY Forward mapping"
   ]
  },
  {
   "cell_type": "code",
   "execution_count": 8,
   "metadata": {},
   "outputs": [
    {
     "data": {
      "text/latex": [
       "$\\displaystyle \\left[\\begin{matrix}\\cos{\\left(pitch \\right)} \\cos{\\left(yaw \\right)} & \\sin{\\left(pitch \\right)} \\sin{\\left(roll \\right)} \\cos{\\left(yaw \\right)} - \\sin{\\left(yaw \\right)} \\cos{\\left(roll \\right)} & \\sin{\\left(pitch \\right)} \\cos{\\left(roll \\right)} \\cos{\\left(yaw \\right)} + \\sin{\\left(roll \\right)} \\sin{\\left(yaw \\right)}\\\\\\sin{\\left(yaw \\right)} \\cos{\\left(pitch \\right)} & \\sin{\\left(pitch \\right)} \\sin{\\left(roll \\right)} \\sin{\\left(yaw \\right)} + \\cos{\\left(roll \\right)} \\cos{\\left(yaw \\right)} & \\sin{\\left(pitch \\right)} \\sin{\\left(yaw \\right)} \\cos{\\left(roll \\right)} - \\sin{\\left(roll \\right)} \\cos{\\left(yaw \\right)}\\\\- \\sin{\\left(pitch \\right)} & \\sin{\\left(roll \\right)} \\cos{\\left(pitch \\right)} & \\cos{\\left(pitch \\right)} \\cos{\\left(roll \\right)}\\end{matrix}\\right]$"
      ],
      "text/plain": [
       "Matrix([\n",
       "[cos(pitch)*cos(yaw), sin(pitch)*sin(roll)*cos(yaw) - sin(yaw)*cos(roll), sin(pitch)*cos(roll)*cos(yaw) + sin(roll)*sin(yaw)],\n",
       "[sin(yaw)*cos(pitch), sin(pitch)*sin(roll)*sin(yaw) + cos(roll)*cos(yaw), sin(pitch)*sin(yaw)*cos(roll) - sin(roll)*cos(yaw)],\n",
       "[        -sin(pitch),                               sin(roll)*cos(pitch),                               cos(pitch)*cos(roll)]])"
      ]
     },
     "metadata": {},
     "output_type": "display_data"
    }
   ],
   "source": [
    "from sympy import *\n",
    "\n",
    "roll, pitch, yaw = symbols('roll,pitch,yaw')\n",
    "\n",
    "R_x = Matrix([[ 1,          0,           0],\n",
    "              [ 0, cos(roll), -sin(roll)],\n",
    "              [ 0, sin(roll),  cos(roll)]])\n",
    "\n",
    "R_y = Matrix([[  cos(pitch), 0, sin(pitch)],\n",
    "              [          0, 1,         0],\n",
    "              [ -sin(pitch), 0, cos(pitch)]])\n",
    "\n",
    "R_z = Matrix([[ cos(yaw), -sin(yaw),  0],\n",
    "              [ sin(yaw),  cos(yaw),  0],\n",
    "              [          0,           0,  1]])\n",
    "\n",
    "R_rpy = R_z*R_y*R_x\n",
    "display(R_rpy)"
   ]
  },
  {
   "cell_type": "markdown",
   "metadata": {},
   "source": [
    "#### 1.4.3 RPY Inverse mapping\n",
    "\n",
    "* RPY (Euler ZYX) -> [source](http://web.mit.edu/2.05/www/Handout/HO2.PDF)\n",
    "\n",
    "    $ r = \\arctan_2(r_{32},r_{33}) $\n",
    "    \n",
    "    $ p = \\arctan_2(-r_{31},\\sqrt{r_{11}^2 + r_{21}^2}) $\n",
    "    \n",
    "    $ y = \\arctan_2(r_{21},r_{11}) $\n",
    "\n",
    "    The above equations are badly numerically conditioned for values of $p = -\\pi/2$ and $p = +\\pi/2$.\n",
    "    So if $r_11=r_21=0$ then:\n",
    "\n",
    "    $ r = \\arctan_2(r_{12},r_{22}) $\n",
    "    \n",
    "    $ p = \\pi/2 $\n",
    "    \n",
    "    $ y = 0 $\n",
    "    \n",
    "#### 1.4.4. Python code: RPY Inverse mapping"
   ]
  },
  {
   "cell_type": "code",
   "execution_count": 9,
   "metadata": {},
   "outputs": [
    {
     "name": "stdout",
     "output_type": "stream",
     "text": [
      "0.564999903941821\n",
      "0.649735502983060\n",
      "0.692198404040452\n"
     ]
    }
   ],
   "source": [
    "R = R_z.subs('yaw',pi/10)*R_y.subs('pitch',pi/4)*R_x.subs('roll',pi/10)*R_z.subs('yaw',pi/10)\n",
    "\n",
    "roll  = atan2(R[2,1],R[2,2]).evalf()\n",
    "pitch = atan2(-R[2,0], sqrt(R[0,0]*R[0,0] + R[1,0]*R[1,0])).evalf()\n",
    "yaw   = atan2(R[1,0],R[0,0]).evalf()\n",
    "\n",
    "print(roll)\n",
    "print(pitch)\n",
    "print(yaw)"
   ]
  },
  {
   "cell_type": "markdown",
   "metadata": {},
   "source": [
    "### 1.5. Quaternions\n",
    "*source: [Quaternion kinematics for the error-state Kalman filter](http://www.iri.upc.edu/people/jsola/JoanSola/objectes/notes/kinematics.pdf)*\n",
    "\n",
    "A non-minimal representation of rotations which does not suffer from the disadvantageencountered with the angle axis is provided by **unit quaternions**.\n",
    "\n",
    "A quaternion can be posed as a sum scalar + vector:\n",
    "\n",
    "$ Q=q_w + q_x*i + q_y*j +q_z*k$\n",
    "\n",
    "Where i,j,k are three imaginary numbers so that:\n",
    "\n",
    "$ i^2 = j^2 = k^2 = ijk =-1$\n",
    "\n",
    "The *unit quaternion* fulfills the constraint:\n",
    "\n",
    "$ q_w^2 + q_x^2 + q_y^2 + q_z^2 =1$\n",
    "\n",
    "Although the most common representation of quaternion in robotics is that of a 4 element vector:\n",
    "\n",
    "$\n",
    "Q = \\quad\n",
    "\\begin{pmatrix}\n",
    "q_w\\\\\n",
    "q_x\\\\\n",
    "q_y\\\\\n",
    "q_z\n",
    "\\end{pmatrix} \\quad\n",
    "$\n",
    "\n",
    "Which allows to use matrix algebra for operations involving quaternions.\n",
    "\n",
    "#### 1.5.1. Extract Quaternions from rotation matrix\n",
    "\n",
    "Given a rotation matrix, the corresponding quaternions are:\n",
    "\n",
    "$\n",
    "Q = \\frac{1}{2}\\quad\n",
    "\\begin{pmatrix}\n",
    "\\sqrt{r_{11}+r_{22}+r_{33}+1}\\\\\n",
    "sgn(r_{32}-r_{23})\\sqrt{r_{11}-r_{22}-r_{33}+1}\\\\\n",
    "sgn(r_{13}-r_{31})\\sqrt{r_{22}-r_{33}-r_{11}+1}\\\\\n",
    "sgn(r_{21}-r_{12})\\sqrt{r_{33}-r_{11}-r_{22}-+1}\n",
    "\\end{pmatrix} \\quad\n",
    "$\n",
    "\n",
    "#### 1.5.2. Python Code: Extract Quaternions from rotation matrix"
   ]
  },
  {
   "cell_type": "code",
   "execution_count": 10,
   "metadata": {},
   "outputs": [
    {
     "name": "stdout",
     "output_type": "stream",
     "text": [
      "0.886343131378687\n",
      "0.144526600430022\n",
      "0.377971964285927\n",
      "0.225044683207140\n"
     ]
    }
   ],
   "source": [
    "R = R_z.subs('yaw',pi/10)*R_y.subs('pitch',pi/4)*R_x.subs('roll',pi/10)*R_z.subs('yaw',pi/10)\n",
    "\n",
    "w = 0.5*sqrt(R[0,0]+R[1,1]+R[2,2]+1).evalf()\n",
    "x = 0.5*sign(R[2,1]-R[1,2])*sqrt(R[0,0]-R[1,1]-R[2,2]+1).evalf()\n",
    "y = 0.5*sign(R[0,2]-R[2,0])*sqrt(-R[0,0]+R[1,1]-R[2,2]+1).evalf()\n",
    "z = 0.5*sign(R[1,0]-R[0,1])*sqrt(-R[0,0]-R[1,1]+R[2,2]+1).evalf()\n",
    "\n",
    "print(w)\n",
    "print(x)\n",
    "print(y)\n",
    "print(z)\n",
    "#print(w**2+x**2+y**2+z**2)"
   ]
  },
  {
   "cell_type": "markdown",
   "metadata": {},
   "source": [
    "### 1.6. Homogeneous Transforms\n",
    "\n",
    "The notations above describe only relative **orientation**, but in the most cases, two reference frames have both a position offset and relative rotation.\n",
    "\n",
    "As a result, a point P can be transformed from one frame to another using a combined translation and rotation.\n",
    "\n",
    "The coordinates of  point relative to a frame b, are given in trference frame a by:\n",
    "\n",
    "$ P_a = R^b_aP_b + p_a^{a,b} $\n",
    "\n",
    "Rotation plus translation can be compacted into the form of a **homogeneous transformation matrix** or **pose** (matrix). \n",
    "\n",
    "It is defined as follows:\n",
    "\n",
    "$\n",
    "T^b_a = \\quad\n",
    "\\begin{pmatrix}\n",
    "R^b_a & p_a^{a,b}\\\\\n",
    "0 & 1 \n",
    "\\end{pmatrix} \\quad\n",
    "$\n",
    "\n",
    "This matrix represents the position and orientation of a frame *b* whose origin, relative to a reference frame *a* , is described by $ p_a^{a,b} $, and whose orientation, relative to the same reference frame *a* , is described by the rotation matrix $ R^b_a $.\n",
    "\n",
    "Homogeneous transformation matrices can be interpreted in an active (\"displacement\"), and a passive (\"pose\") manner. It is also a **non-minimal representation of a pose**, that does not suffer from coordinate singularities.\n",
    "\n",
    "If the pose of a frame *c*  is known relative to *b* , whose pose is known with respect to a third frame *a*, the resulting **compound pose**  is found as follows:\n",
    "\n",
    "$ T^c_a=T^b_a * T^c_b $\n",
    "\n",
    "#### 1.6.1. Python Code: Homogeneous Transforms"
   ]
  },
  {
   "cell_type": "code",
   "execution_count": 12,
   "metadata": {},
   "outputs": [],
   "source": [
    "# ROTATION MATRIX: USING ANY COMPOSITION OF ROTATIONS\n",
    "Rot = R_x*R_y*R_z\n",
    "\n",
    "# POSITION\n",
    "px,py,pz = symbols(\"px,py,pz\")\n",
    "Pos = Matrix([px,py,pz])\n",
    "\n",
    "# HOMOGENEOUS TRANSFORM\n",
    "T = Rot.col_insert(3,Pos)\n",
    "T = T.row_insert(3, Matrix([[0, 0, 0, 1]]))\n",
    "\n",
    "#display(T)\n",
    "\n",
    "# EVAL T_AC \n",
    "values_ab = {'alpha':pi/2,'beta':pi/4,'gamma':0,'px':1,'py':1,'pz':0}\n",
    "values_bc = {'alpha':0,'beta':pi/4,'gamma':pi,'px':0,'py':0,'pz':2}\n",
    "\n",
    "T_ab = T.subs(values_ab)\n",
    "T_bc = T.subs(values_bc)\n",
    "\n",
    "#display(T_ab * T_bc)"
   ]
  },
  {
   "cell_type": "markdown",
   "metadata": {},
   "source": [
    "#### 1.6.3. Homogeneous Transform Inverse\n",
    "\n",
    "Given the transform matrix:\n",
    "\n",
    "$\n",
    "T^b_a = \\quad\n",
    "\\begin{pmatrix}\n",
    "R^b_a & p_a^{a,b}\\\\\n",
    "0 & 1 \n",
    "\\end{pmatrix} \\quad\n",
    "$\n",
    "\n",
    "The inverse relation $T^a_b$ can be computed as:\n",
    "\n",
    "$\n",
    "T^a_b=(T^b_a)^{-1} =\\quad\n",
    "\\begin{pmatrix}\n",
    "(R^b_a)^{-1} & -(R^b_a)^{-1}*p_a^{a,b}\\\\\n",
    "0 & 1 \n",
    "\\end{pmatrix} \\quad =\\quad\n",
    "\\begin{pmatrix}\n",
    "(R^a_a) & p_b^{b,a}\\\\\n",
    "0 & 1 \n",
    "\\end{pmatrix} \\quad\n",
    "$"
   ]
  },
  {
   "cell_type": "markdown",
   "metadata": {},
   "source": [
    "## 2. Forward Kinematics\n",
    "-------------------------------\n",
    "\n",
    "\n",
    "### 2.1. Denavit-Hartemberg Parameters"
   ]
  },
  {
   "cell_type": "markdown",
   "metadata": {},
   "source": [
    "Jacques Denavit and Richard Hartenberg proposed a systematic method of attaching reference frames to the links of a manipulator that **simplifies the homogeneous transforms** from six independent parameters per joint to only four to describe the position and orientation of adjacent reference frames.\n",
    "\n",
    "Several modifications have been made to the DH method, but the following modified convention is the most commonly used. The coordinates of frame Oi − 1 is put on axis i − 1, not axis i as in classic DH convention. The coordinates of frame Oi is put on the axis i, not the axis i + 1 in classic DH convention. \n",
    "\n",
    "<p align=\"center\">\n",
    "     <img src=\"img/DHParameter.png\" width=\"640\">\n",
    "</p>\n",
    "\n",
    "[source: Udacity](https://eu.udacity.com/course/robotics-software-engineer--nd209)\n",
    "\n",
    "The four DH parameter are:\n",
    "\n",
    "* $d_i$: Link offset, distance between $X_{i−1}$ and $X_i$, measured along $Z_{i−1}$.\n",
    "\n",
    "* $α_{i−1}$: Angle between $Z_{i−1}$ and $Z_i$, measured along $X_i$, measured in a right-hand way.\n",
    "\n",
    "* $a_{i−1}$: Link length, distance between $Z_{i−1}$ and $Z_i$, measured along $Z_{i−1}$.\n",
    "\n",
    "* $θ_i$: Joint angle, Angle between $X_{i−1}$ and $X_i$, measured along $Z_i$, measured in a right-hand way, *variable in **revolute** joints*.\n",
    "\n",
    "Using this DH convention, the homogeneous transform from frame **i-1** to frame **i** can be coputed by the following order of operations:\n",
    "\n",
    "* roation by $\\alpha_{-1}$ along $X_i−1$\n",
    "* translation by $a_i−1$ along $X_i−1$\n",
    "* rotation by $\\theta_{i}$ along $Z_i$\n",
    "* translation by $d_i$ along $Z_i$.\n",
    "\n",
    "So:\n",
    "\n",
    "$ T^{i}_{i-1} = R(\\alpha_{i-1})_X \\cdot D(a_{i-1})_X \\cdot R(\\theta_{i})_Z \\cdot D(d_i)_Z $\n",
    "\n",
    "$ T^{i}_{i-1} = \\quad\n",
    "\\begin{pmatrix}\n",
    "\\cos(\\theta_{i}) & -\\sin(\\theta_{i}) & 0 & a_{i-1}\\\\\n",
    "\\sin(\\theta_{i})\\cos(\\alpha_{i-1}) & \\cos(\\theta_{i})\\cos(\\alpha_{i-1}) & -\\sin(\\alpha_{i-1}) & -\\sin(\\alpha_{i-1})d_i\\\\\n",
    "\\sin(\\theta_{i})\\sin(\\alpha_{i-1}) & \\cos(\\theta_{i})\\cos(\\alpha_{i-1}) &  \\cos(\\alpha_{i-1}) &  \\cos(\\alpha_{i-1})d_i\\\\\n",
    "0 & 0 & 0 & 1\n",
    "\\end{pmatrix} \\quad\n",
    "$"
   ]
  },
  {
   "cell_type": "markdown",
   "metadata": {},
   "source": [
    "#### 2.1.1 UR5 DH Parameters\n",
    "\n",
    "Given the kinematic chain of the Universal Robot UR5 arm, the diagram below shows how Joints Frames are choosen.\n",
    "These gives the $\\alpha$ and $q$ parameters.\n",
    "\n",
    "<p align=\"center\">\n",
    "     <img src=\"img/joint_frames_ur5.png\" width=\"860\">\n",
    "</p>\n",
    "\n",
    "The modified DH parameters table is:\n",
    "\n",
    "|$Joint_i$ |$α_{i−1}$ |$a_{i−1}$ |$d_i$ |$θ_i$ |\n",
    "---|---|---|---|---|\n",
    "|1     |0     |0  |d1  |q1  |\n",
    "|2     |pi/2  |0  |0   |q2  |\n",
    "|3     |0     |a2 |0   |q3  |\n",
    "|4     |0     |a3 |d4  |q4  |\n",
    "|5     |pi/2  |0  |d5  |q5  |\n",
    "|6     |-pi/2 |0  |d6  |q6  |\n",
    "\n",
    "The choice of x-y-z axis for each frame should follow the rules of **minimizing the number of non-zero parameters** (for example, having multiple joints reference frames with the same origin reduces the number of non-zero parameters).\n",
    "\n",
    "Measures for *d* and *a* parameters may be found in the *ur5.urdf.xacro*, provided by [universal robot](https://github.com/ros-industrial/universal_robot).\n",
    "\n",
    "    <xacro:property name=\"d1\" value=\"0.089159\" />\n",
    "    <xacro:property name=\"a2\" value=\"-0.42500\" />\n",
    "    <xacro:property name=\"a3\" value=\"-0.39225\" />\n",
    "    <xacro:property name=\"d4\" value=\"0.10915\" />\n",
    "    <xacro:property name=\"d5\" value=\"0.09465\" />\n",
    "    <xacro:property name=\"d6\" value=\"0.0823\" />\n",
    "\n",
    "The file uses the *universal robot description framework* to describe the robot in the simulated environment. The URDF of the robot can be used to study to the relative position between current joint and its parent joint.\n",
    "\n",
    "When observing the simulated robot in ROS it can be seen that it does not use **joint reference frames** but instead uses **link reference frames**.\n",
    "\n",
    "In an URDF file, a joint defines the origin of a *child_link* frame relative to its *parent_link* frame:\n",
    "\n",
    "|Joint_name |Parent_Link |Child_Link |Joint_Type |x_offset |y_offset |z_offset |\n",
    "|---|---|---|---|---|---|---|\n",
    "|shoulder_pan_joint        |base_link        |shoulder_link   |revolute     |0    |0                   |d1 |\n",
    "|shoulder_lift_joint       |shoulder_link    |upper_arm_link  |revolute     |0    |0.135               |0 |\n",
    "|elbow_joint               |upper_arm_link   |forearm_link    |revolute     |0    |-0.1197             |-a2 |\n",
    "|wrist_1_joint             |forearm_link     |wrist_1_link    |revolute     |0    |0                   |-a3 |\n",
    "|wrist_2_joint             |wrist_1_link     |wrist_2_link    |revolute     |0    |d4-(-0.1197)-0.1358 |0 |\n",
    "|wrist_3_joint             |wrist_2_link     |wrist_3_link    |revolute     |0    |0                   |d5 |\n",
    "|ee_fixed_joint            |wrist_3_link     |ee_link         |fixed        |0    |d6                  |0 |\n",
    "\n",
    "Here is The URDF visualized in Rviz (ros visualization tool).\n",
    "\n",
    "<p align=\"center\">\n",
    "     <img src=\"img/ur5_rviz_frames.png\" width=\"860\">\n",
    "</p>\n",
    "\n",
    "\n",
    "#### 2.1.2. Python Code: UR5 DH Parameters"
   ]
  },
  {
   "cell_type": "code",
   "execution_count": 1,
   "metadata": {},
   "outputs": [],
   "source": [
    "# Sympy is used for symbolic computation\n",
    "from sympy import *\n",
    "\n",
    "# Define DH param symbols\n",
    "d1, d2, d3, d4, d5, d6, d7 = symbols('d1:8')  # link_offset_i\n",
    "a0, a1, a2, a3, a4, a5, a6 = symbols('a0:7')  # link_length_i\n",
    "alpha0, alpha1, alpha2, alpha3, alpha4, alpha5, alpha6 = symbols('alpha0:7')  # link_twist_i\n",
    "\n",
    "# Joint angle symbols \n",
    "q1, q2, q3, q4, q5, q6, q7 = symbols('q1:8') # theta_i\n",
    "\n",
    "DH = {   alpha0: 0,      a0: 0,       d1: 0.089159, q1: q1, #Shoulder Pan Joint\n",
    "         alpha1: pi/2,   a1: 0,        d2: 0,       q2: q2, #Shoulder Lift Joint\n",
    "         alpha2: 0,      a2: -0.42500, d3: 0,       q3: q3, #Elbow Joint\n",
    "         alpha3: 0,      a3: -0.39225, d4: 0.10915, q4: q4, #Wirst 1 Joint\n",
    "         alpha4: pi/2,   a4: 0,        d5: 0.09465, q5: q5, #Wirst 2 Joint\n",
    "         alpha5: -pi/2,  a5: 0,        d6: 0.0823,  q6: q6} #Wirst 3 Joint\n",
    "\n",
    "# Creates Homogeneous Transform Matrix from DH parameters \n",
    "def homogeneous_transform(q, d, a, alpha):\n",
    "    \n",
    "    T = Matrix([[cos(q),            -sin(q),           0,             a          ],\n",
    "                [ sin(q)*cos(alpha), cos(q)*cos(alpha), -sin(alpha), -sin(alpha)*d],\n",
    "                [ sin(q)*sin(alpha), cos(q)*sin(alpha),  cos(alpha),  cos(alpha)*d],\n",
    "                [                 0,                 0,           0,             1]])\n",
    "    return T"
   ]
  },
  {
   "cell_type": "markdown",
   "metadata": {},
   "source": [
    "### 2.2. Computing Forward Kinematics\n",
    "\n",
    "Forward Kinematics is the process of computing a manipulator's end-effector position and orientation in Cartesian coordinates from its given joint angles.\n",
    "\n",
    "Supposing the transformation matrices between adjacent links are known (for instance using DH parameters): the transformation that relates the last and first frames in a serial manipulator arm, and thus, the solution to the forward kinematics problem, is then represented by the compound homogeneous transformation matrix. \n",
    "\n",
    "The axes are moving, thus, the compound homogeneous transformation matrix is found by premultiplying the individual transformation matrices: \n",
    "\n",
    "$T^{N}_0=T^1_0 \\cdot T^2_1 \\cdot T^3_2 \\cdot ... \\cdot T^{N}_{N-1}$\n",
    "\n",
    "The position and rotation of a frame with respect to a base can be **parameterized**. Hence, the combined position and orientation of the end-effector is given by $X_e$ which can be parameterized by:\n",
    "\n",
    "$\n",
    "X_e = X_e = \\quad\n",
    "\\begin{pmatrix}\n",
    "X_eP \\\\\n",
    "X_eO\n",
    "\\end{pmatrix}\n",
    "\\quad = \\quad\n",
    "\\begin{pmatrix}\n",
    "X_1 \\\\\n",
    "\\vdots \\\\\n",
    "X_m\n",
    "\\end{pmatrix}\n",
    "\\quad\n",
    "$\n",
    "\n",
    "The  number m varies depending on the orientation parameterization (Euler angles, quaternions...). When using RPY:\n",
    "\n",
    "$\n",
    "X_e = \\quad\n",
    "\\begin{pmatrix}\n",
    "x \\\\\n",
    "y \\\\\n",
    "z \\\\\n",
    "r \\\\\n",
    "p \\\\\n",
    "y \\\\\n",
    "\\end{pmatrix}\n",
    "\\quad\n",
    "$\n",
    "\n",
    "#### 2.2.1. Kinematics for Simulated Robot\n",
    "\n",
    "Two issues must be considered when considering the kinematics of robots **simulated** in ROS:\n",
    "\n",
    "In this case, the frame at the base of the robot X0 in DH convention(purple) has a different orientation that the *base_link* frame used in the simulation(green).\n",
    "\n",
    "See image below:\n",
    "\n",
    "<p align=\"center\">\n",
    "     <img src=\"img/base_frame.png\" width=\"480\">\n",
    "</p>\n",
    "\n",
    "Moreover, the forward kinematics using DH parameters specifies the final orientation (*frame 6*) in DH convention(purple) where the fingers are parallel to the Z axis. However, In ROS the *ee_link* frame uses a different convention(green) where the X axis is parallel to the fingers, to make easier to compute orientation using RPY.\n",
    "\n",
    "See image below:\n",
    "\n",
    "<p align=\"center\">\n",
    "     <img src=\"img/gripper_frame.png\" width=\"480\">\n",
    "</p>\n",
    "\n",
    "So, to have coherent results in simulation, the resulting orientation of the forward kinematics should be corrected by rotating by $\\pi$ along Z to compensate the base offset, then by rotating by $\\pi/2$ along Z plus $-\\pi/2$ along Y to correct *ee_link* frame orientation.\n",
    "\n",
    "Hence:\n",
    "\n",
    "$ T^{EE}_0GAZEBO = T_{BASE\\_LINK}^0 * T^{EE}_0 * T^{EE\\_GAZEBO}_{EE}$\n",
    "\n",
    "Although so far **only** the manipulator is considered, it is also important to consider depending on the task:\n",
    "\n",
    "* Origin of the robot base relative to a common **world** frame (e.G. the robot is on a table).\n",
    "\n",
    "* Actual lenght offset of different **grippers** (ee_link frame cosiders only the point where the gripper is attached).\n",
    "\n",
    "So a more general way to compute the FK of the robot would be:\n",
    "$ T^{EE}_{WORLD}GAZEBO = T_{WORLD}^0 * T^{6}_0 * T^{GRIPPER}_{6}GAZEBO$\n",
    "\n",
    "Where:\n",
    "\n",
    "* $T^{EE}_{WORLD}GAZEBO$ Simulation world frame -> DH base frame\n",
    "\n",
    "* $T^{GRIPPER}_{6}GAZEBO$ DH last frame -> gripper frame in simulation. \n",
    "\n",
    "#### 2.2.2. Python Code: Forward Kinematics"
   ]
  },
  {
   "cell_type": "code",
   "execution_count": 3,
   "metadata": {},
   "outputs": [
    {
     "data": {
      "text/plain": [
       "Matrix([\n",
       "[-sin(q1)*cos(q5) + sin(q5)*cos(q1)*cos(q2 + q3 + q4), (sin(q1)*sin(q5) + cos(q1)*cos(q5)*cos(q2 + q3 + q4))*cos(q6) - sin(q6)*sin(q2 + q3 + q4)*cos(q1), -(sin(q1)*sin(q5) + cos(q1)*cos(q5)*cos(q2 + q3 + q4))*sin(q6) - sin(q2 + q3 + q4)*cos(q1)*cos(q6), -0.1173*sin(q1)*cos(q5) - 0.10915*sin(q1) + 0.1173*sin(q5)*cos(q1)*cos(q2 + q3 + q4) - 0.09465*sin(q2 + q3 + q4)*cos(q1) + 0.425*cos(q1)*cos(q2) + 0.39225*cos(q1)*cos(q2 + q3)],\n",
       "[ sin(q1)*sin(q5)*cos(q2 + q3 + q4) + cos(q1)*cos(q5), (sin(q1)*cos(q5)*cos(q2 + q3 + q4) - sin(q5)*cos(q1))*cos(q6) - sin(q1)*sin(q6)*sin(q2 + q3 + q4), (-sin(q1)*cos(q5)*cos(q2 + q3 + q4) + sin(q5)*cos(q1))*sin(q6) - sin(q1)*sin(q2 + q3 + q4)*cos(q6),  0.1173*sin(q1)*sin(q5)*cos(q2 + q3 + q4) - 0.09465*sin(q1)*sin(q2 + q3 + q4) + 0.425*sin(q1)*cos(q2) + 0.39225*sin(q1)*cos(q2 + q3) + 0.1173*cos(q1)*cos(q5) + 0.10915*cos(q1)],\n",
       "[                          -sin(q5)*sin(q2 + q3 + q4),                                    -sin(q6)*cos(q2 + q3 + q4) - sin(q2 + q3 + q4)*cos(q5)*cos(q6),                                      sin(q6)*sin(q2 + q3 + q4)*cos(q5) - cos(q6)*cos(q2 + q3 + q4),                                                                 -0.425*sin(q2) - 0.1173*sin(q5)*sin(q2 + q3 + q4) - 0.39225*sin(q2 + q3) - 0.09465*cos(q2 + q3 + q4) + 0.089159],\n",
       "[                                                   0,                                                                                                 0,                                                                                                  0,                                                                                                                                                                               1]])"
      ]
     },
     "metadata": {},
     "output_type": "display_data"
    }
   ],
   "source": [
    "# Create individual transformation matrices\n",
    "T0_1  = homogeneous_transform(q1, d1, a0, alpha0).subs(DH)\n",
    "T1_2  = homogeneous_transform(q2, d2, a1, alpha1).subs(DH)\n",
    "T2_3  = homogeneous_transform(q3, d3, a2, alpha2).subs(DH)\n",
    "T3_4  = homogeneous_transform(q4, d4, a3, alpha3).subs(DH)\n",
    "T4_5  = homogeneous_transform(q5, d5, a4, alpha4).subs(DH)\n",
    "T5_6  = homogeneous_transform(q6, d6, a5, alpha5).subs(DH)\n",
    "\n",
    "T0_EE = T0_1*T1_2*T2_3*T3_4*T4_5*T5_6\n",
    "\n",
    "#display(T0_EE)\n",
    "\n",
    "# Align orientation with gazebo\n",
    "angle = symbols('angle')\n",
    "\n",
    "R_x = Matrix([[ 1,          0,           0],\n",
    "              [ 0, cos(angle), -sin(angle)],\n",
    "              [ 0, sin(angle),  cos(angle)]])\n",
    "\n",
    "R_y = Matrix([[  cos(angle), 0, sin(angle)],\n",
    "              [           0, 1,          0],\n",
    "              [ -sin(angle), 0, cos(angle)]])\n",
    "\n",
    "R_z = Matrix([[ cos(angle), -sin(angle),  0],\n",
    "              [ sin(angle),  cos(angle),  0],\n",
    "              [          0,           0,  1]])\n",
    "\n",
    "base_x =0.0\n",
    "base_y =0.0\n",
    "base_z =0.0\n",
    "gripper_z_offset = 0.035\n",
    "\n",
    "R_BASE = R_z.subs('angle',pi)\n",
    "T_BASE = R_BASE.col_insert(3, Matrix([base_x, base_y, base_z]))      #To make it easy to make column vectors, a list of elements in sympy is considered to be a column vector.\n",
    "T_BASE = T_BASE.row_insert(3, Matrix([[0, 0, 0, 1]])) #While, a list of lists in sympy is considered to be a list of row vectors.\n",
    "\n",
    "R_GRIPPER = R_z.subs('angle',pi/2)*R_y.subs('angle',-pi/2)\n",
    "T_GRIPPER = R_GRIPPER.col_insert(3, Matrix([0, 0, gripper_z_offset]))      #To make it easy to make column vectors, a list of elements in sympy is considered to be a column vector.\n",
    "T_GRIPPER = T_GRIPPER.row_insert(3, Matrix([[0, 0, 0, 1]])) #While, a list of lists in sympy is considered to be a list of row vectors.\n",
    "\n",
    "T0_EE_GAZEBO = T_BASE*T0_EE*T_GRIPPER\n",
    "\n",
    "display(T0_EE_GAZEBO.applyfunc(simplify))"
   ]
  },
  {
   "cell_type": "markdown",
   "metadata": {},
   "source": [
    "#### 2.2.3. Python Code: Parametrized EE Coordinates from Matrix\n",
    "##### 2.2.3.a. RPY"
   ]
  },
  {
   "cell_type": "code",
   "execution_count": 4,
   "metadata": {},
   "outputs": [],
   "source": [
    "def x_rpy_from_matrix(T):\n",
    "    '''\n",
    "    '''\n",
    "    X = zeros(6,1)\n",
    "    #display(X)\n",
    "    \n",
    "    # Position\n",
    "    X[0:3,0] = T[0:3,3]\n",
    "    \n",
    "    # Extract RPY\n",
    "    X[3,0]  = atan2(T[2,1],T[2,2]) #Roll\n",
    "    X[4,0] = atan2(-T[2,0], sqrt(T[0,0]*T[0,0] + T[1,0]*T[1,0])) #Pitch\n",
    "    X[5,0]   = atan2(T[1,0],T[0,0]) #YAW\n",
    "    \n",
    "    return X\n",
    "\n",
    "X_rpy = x_rpy_from_matrix(T0_EE_GAZEBO).applyfunc(simplify)\n",
    "#display(X_rpy)"
   ]
  },
  {
   "cell_type": "markdown",
   "metadata": {},
   "source": [
    "##### 2.2.3.b. Quaternion"
   ]
  },
  {
   "cell_type": "code",
   "execution_count": 5,
   "metadata": {},
   "outputs": [],
   "source": [
    "def x_quat_from_matrix(T):\n",
    "    '''\n",
    "    '''\n",
    "    X = zeros(7,1)\n",
    "    \n",
    "    # Position\n",
    "    X[0:3,0] = T[0:3,3]\n",
    "    \n",
    "    # Extract quaternion\n",
    "    \n",
    "    X[3,0] = 0.5*sign(T[2,1]-T[1,2])*sqrt(T[0,0]-T[1,1]-T[2,2]+1)  #qx\n",
    "    X[4,0] = 0.5*sign(T[0,2]-T[2,0])*sqrt(-T[0,0]+T[1,1]-T[2,2]+1) #qy\n",
    "    X[5,0] = 0.5*sign(T[1,0]-T[0,1])*sqrt(-T[0,0]-T[1,1]+T[2,2]+1) #qz\n",
    "    X[6,0] = 0.5*sqrt(T[0,0]+T[1,1]+T[2,2]+1)                      #w\n",
    "    \n",
    "    return X\n",
    "\n",
    "X_quat = x_quat_from_matrix(T0_EE_GAZEBO)#.applyfunc(simplify)\n",
    "#display(X_quat)"
   ]
  },
  {
   "cell_type": "markdown",
   "metadata": {},
   "source": [
    "#### 2.2.4. Validate FK\n",
    "\n",
    "<p align=\"center\">\n",
    "     <img src=\"img/fk_test.png\" width=\"980\">\n",
    "</p>\n",
    "\n",
    "(NOTE: the link highlined in rviz is the ee_link of the arm and not the actual gripper centre)"
   ]
  },
  {
   "cell_type": "code",
   "execution_count": 6,
   "metadata": {},
   "outputs": [
    {
     "data": {
      "text/plain": [
       "Matrix([\n",
       "[   0.412546091092288],\n",
       "[   0.108070424374569],\n",
       "[   0.373234224456707],\n",
       "[   0.934113870259335],\n",
       "[-0.00429866974331811],\n",
       "[  -0.356945514943803],\n",
       "[ 0.00164261653097737]])"
      ]
     },
     "metadata": {},
     "output_type": "display_data"
    }
   ],
   "source": [
    "display(x_quat_from_matrix(T0_EE_GAZEBO).subs({\"q1\":0,\"q2\":-1.58,\"q3\":1.56,\"q4\":0.75,\"q5\":1.58,\"q6\":0}))\n",
    "#display(x_rpy_from_matrix(T0_EE_GAZEBO).subs({\"q1\":-2.61,\"q2\":-1.65,\"q3\":-2.16,\"q4\":-4.95,\"q5\":-3.87,\"q6\":2.28}).evalf())"
   ]
  },
  {
   "cell_type": "markdown",
   "metadata": {},
   "source": [
    "## 3. Inverse Kinematics\n",
    "---------------\n",
    "*source: [ETHZ - Robot Dynamics](https://ethz.ch/content/dam/ethz/special-interest/mavt/robotics-n-intelligent-systems/rsl-dam/documents/RobotDynamics2017/RD_HS2017script.pdf)*\n",
    "\n",
    "The goal of inverse kinematics is to find a joint configuration q as a function of a given goal end-effector configuration $x^*$\n",
    "\n",
    "$ q=q(x^*) $\n",
    "\n",
    "### 3.1. The Analytical Jacobian\n",
    "\n",
    "Forward kinematics describes the mapping between a given joint configuration $q$ and end-effector configuration $X_e$, \n",
    "\n",
    "$ X_e = f(q) $\n",
    "\n",
    "Where $X_e$ parametrized with the stacked vector of position and orientation:\n",
    "\n",
    "$\n",
    "X_e = \\quad\n",
    "\\begin{pmatrix}\n",
    "X_1 \\\\\n",
    "\\vdots \\\\\n",
    "X_m\n",
    "\\end{pmatrix}\n",
    "\\quad\n",
    "$\n",
    "\n",
    "So:\n",
    "\n",
    "$ \\frac{\\partial X_e}{\\partial q} = \\frac{\\partial f(q)}{\\partial q} = J(q)$\n",
    "\n",
    "Where:\n",
    "\n",
    "$ J(q) = \\quad\n",
    "\\begin{pmatrix}\n",
    "\\frac{\\partial X_1}{\\partial q_1} & \\dots & \\frac{\\partial X_1}{\\partial q_n} \\\\\n",
    "\\vdots & \\ddots & \\vdots \\\\\n",
    "\\frac{\\partial X_m}{\\partial q_1} & \\dots & \\frac{\\partial X_m}{\\partial q_n} \n",
    "\\end{pmatrix}\n",
    "\\quad $\n",
    "\n",
    "The mxn matrix $J(q)$ is the **analytical Jacobian**. The Jacobian matrix is very often used in kinematics and dynamics of robotic systems. \n",
    "\n",
    "It **relates differences from joint space to configuration space**.\n",
    "\n",
    "While it represents an **approximation in the context of finite differences**:\n",
    "\n",
    "$\\Delta X_e \\approx J \\Delta q$\n",
    "\n",
    "it results in an exact relation between velocities: ̇\n",
    "\n",
    "$ \\dot{X}_e = J \\dot{q}$\n",
    "\n",
    "Jacobian strongly depends onthe selected parameterization. For example for a n joints robot, when using Euler Angles the dimension of the orientation part of J is 3×n (as above), in case of quaternions it is 4×n, and for the full rotation matrix parameters 9×n.\n",
    "\n",
    "#### 3.1.1. Python Code: Compute the analytical jacobian\n",
    "##### 3.1.1.a. RPY Jacobian"
   ]
  },
  {
   "cell_type": "code",
   "execution_count": 44,
   "metadata": {},
   "outputs": [],
   "source": [
    "def compute_J(X):\n",
    "    '''\n",
    "    '''\n",
    "    J = zeros(6,6)\n",
    "    \n",
    "    J[:,0] = diff(X,q1)\n",
    "    J[:,1] = diff(X,q2)\n",
    "    J[:,2] = diff(X,q3)\n",
    "    J[:,3] = diff(X,q4)\n",
    "    J[:,4] = diff(X,q5)\n",
    "    J[:,5] = diff(X,q6)\n",
    "    \n",
    "    return J\n",
    "\n",
    "J_rpy = compute_J(X_rpy).applyfunc(simplify)\n",
    "#display(J_rpy)"
   ]
  },
  {
   "cell_type": "markdown",
   "metadata": {},
   "source": [
    "##### 3.1.1.b. Quaternions Jacobian"
   ]
  },
  {
   "cell_type": "code",
   "execution_count": 45,
   "metadata": {},
   "outputs": [],
   "source": [
    "def compute_J(X):\n",
    "    '''\n",
    "    '''\n",
    "    J = zeros(7,6)\n",
    "    \n",
    "    J[:,0] = diff(X,q1)\n",
    "    J[:,1] = diff(X,q2)\n",
    "    J[:,2] = diff(X,q3)\n",
    "    J[:,3] = diff(X,q4)\n",
    "    J[:,4] = diff(X,q5)\n",
    "    J[:,5] = diff(X,q6)\n",
    "    \n",
    "    return J\n",
    "\n",
    "J_quat = compute_J(X_quat).applyfunc(simplify)\n",
    "#display(J_quat)"
   ]
  },
  {
   "cell_type": "markdown",
   "metadata": {},
   "source": [
    "##### 3.1.1.c. Storing the results\n",
    "\n",
    "Computing the symbolical form of forward kinematics and of the jacobian is very expensive!\n",
    "\n",
    "Python **pickle** module is used for serializing and de-serializing a Python object structure. Any object in Python can be pickled so that it can be saved on disk.\n",
    "\n",
    "Pickling is a way to convert a python object (list, dict, etc.) into a character stream. The idea is that this character stream contains all the information necessary to reconstruct the object in another python script."
   ]
  },
  {
   "cell_type": "code",
   "execution_count": 46,
   "metadata": {},
   "outputs": [],
   "source": [
    "import pickle\n",
    "pickle.dump(X_rpy,open('data/forward_kinematics_rpy.p','wb'))          #note that write binary mode is used\n",
    "pickle.dump(J_rpy,open('data/jacobian_rpy.p','wb'))                    #note that write binary mode is used\n",
    "pickle.dump(X_quat,open('data/forward_kinematics_quaternions.p','wb')) #note that write binary mode is used\n",
    "pickle.dump(J_quat,open('data/jacobian_quaternions.p','wb'))           #note that write binary mode is used\n",
    "\n",
    "#X = pickle.load(open('data/forward_kinematics.p', 'rb'))\n",
    "#J = pickle.load(open('data/jacobian.p', 'rb'))"
   ]
  },
  {
   "cell_type": "markdown",
   "metadata": {},
   "source": [
    "### 3.2. Jacobian-based IK Algorithms\n",
    "*sources: [ETHZ - Robot Dynamics](https://ethz.ch/content/dam/ethz/special-interest/mavt/robotics-n-intelligent-systems/rsl-dam/documents/RobotDynamics2017/RD_HS2017script.pdf), [University of California - Introduction to Inverse Kinematics](https://www.math.ucsd.edu/~sbuss/ResearchWeb/ikmethods/iksurvey.pdf)*\n",
    "\n",
    "With increasing computational power, **numerical approaches** are a common tool to solve the inverse kinematics problem.\n",
    "\n",
    "Differences in joint space coordinates $\\Delta q$ can be directly mapped to differences in end-effector coordinates $\\Delta x_e$ using the analytical Jacobian: $\\Delta x_e = J \\Delta q$.\n",
    "\n",
    "This relationship can be **inverted** and used to **iteratively** solve the inverse kinematics problem for a given desired end-effector configuration $X^*_e$ and start configuration $q0$. \n",
    "\n",
    "$ \\Delta q = J^+\\Delta X_e$\n",
    "\n",
    "The algorithm iterates until the target location $q^*$ is reached with a certain tolerance:\n",
    "\n",
    "$ \\mid \\Delta X_e \\mid = \\mid X^*_e - X_e(q^*) \\mid < tol $.\n",
    "\n",
    "Unfortunately, this approach has some problems: \n",
    "\n",
    "* First, if the error between the target and actual configuration $\\Delta X_e$ is getting large, the error linearization as implemented by analytical Jacobian is not accurate  enough. A simple way to deal with this issue is to scale each update step by a factor $0< k <1$ in order to remain within the validity region of the linearization and avoid overshooting or divergence.\n",
    "\n",
    "    $ q \\leftarrow q + k*J^+\\Delta X_e$\n",
    "\n",
    "* Second, in case the target is close to a **singularity position** the Jacobian inversion becomes a **badly conditioned** problem, it is important to understand that the choice of parameterization leadsto very different numerical behaviors. An approach is to use the **Jacoban-transposed** method to perform the update.\n",
    "\n",
    "    $ q \\leftarrow q + k*J^T\\Delta X_e$\n",
    "\n",
    "    When choosing the parameter k small enough, convergence of the problem can be guaranteed. At the same time, there is no time-consuming inversion required.\n",
    "\n",
    "So, the pseudoinverse method is widely discussed in the literature but it often performs poorly because of instability near singularities.\n",
    "\n",
    "The **damped least squares method** avoids many of the pseudoinversemethod's problems with singularities and can give a numerically stablemethod of selecting $ \\Delta q $. Rather than just finding the minimum vector that gives a best solution to equation $\\Delta x_e = J \\Delta q$, DLS finds the value of $ \\Delta q $ that minimizes the quantity:\n",
    "\n",
    "$ \\| J \\Delta q - X_e \\|^2  + \\lambda^2 \\| \\Delta q \\|^2 $\n",
    "\n",
    "where $\\Delta q$ is a non-zero *damping* constant. This is equivalent to minimizing the quantity:\n",
    "\n",
    "$ \\| \\begin{pmatrix} J \\\\ \\lambda I \\end{pmatrix} \\Delta q - \\begin{pmatrix} X_e \\\\ 0 \\end{pmatrix} \\| $\n",
    "    \n",
    "The corresponding normal equation is:\n",
    "\n",
    "$ \\begin{pmatrix} J \\\\ \\lambda I \\end{pmatrix}^T \\begin{pmatrix} J \\\\ \\lambda I \\end{pmatrix} \\Delta q =  \\begin{pmatrix} J \\\\ \\lambda I \\end{pmatrix}^T \\begin{pmatrix} X_e \\\\ 0 \\end{pmatrix} $\n",
    "\n",
    "This can be equivalently rewritten as:\n",
    "\n",
    "$ (J^T J + \\lambda^2 I) \\Delta q = J^T X_e $\n",
    "\n",
    "The *damped least squares solution* is equal to:\n",
    "\n",
    "$ \\Delta q = (J^T J + \\lambda^2 I)^{-1}J^T X_e $\n",
    "\n",
    "Becouse $ (J^T J + \\lambda^2 I)^{-1}J^T = J^T(J J^T + \\lambda^2 I)^{-1}$ the solution can be rewritten as:\n",
    "\n",
    "$ \\Delta q = J^T(J J^T + \\lambda^2 I)^{-1} X_e $\n",
    "\n",
    "The advantage of this second form is that the dimension of the inverted matrix is smaller."
   ]
  },
  {
   "cell_type": "markdown",
   "metadata": {},
   "source": [
    "#### 3.2.1. Python Code: Jacobian-Traspose IK Algorithm\n",
    "##### 3.2.1.a. RPY "
   ]
  },
  {
   "cell_type": "code",
   "execution_count": 48,
   "metadata": {},
   "outputs": [],
   "source": [
    "import pickle\n",
    "from sympy import *\n",
    "X = pickle.load(open('data/forward_kinematics_rpy.p', 'rb'))\n",
    "J = pickle.load(open('data/jacobian_rpy.p', 'rb'))"
   ]
  },
  {
   "cell_type": "markdown",
   "metadata": {},
   "source": [
    "##### 3.2.1.a. Numerical Computation\n",
    "\n",
    "Symbolic computer algebra systems like SymPy facilitate the construction and manipulation of mathematical expressions. Unfortunately when it comes time to evaluate these expressions on numerical data, symbolic systems often have poor performance. SymPy offers a number of easy-to-use hooks into other numeric systems, allowing you to create mathematical expressions in SymPy and then ship them off to the numeric system. \n",
    "\n",
    "**Subs** is the slowest but simplest option. It runs at SymPy speeds. The .subs(...).evalf() method can substitute a numeric value for a symbolic one and then evaluate the result within SymPy. his method is slow. You should use this method production only if performance is not an issue.\n",
    "\n",
    "The **lambdify** function translates SymPy expressions into Python functions. Lambdify can leverage a variety of numerical backends: by default it uses the *math* library, however it also supports *mpmath* and most notably, *numpy*."
   ]
  },
  {
   "cell_type": "code",
   "execution_count": 49,
   "metadata": {},
   "outputs": [],
   "source": [
    "import math as m\n",
    "import numpy as np\n",
    "\n",
    "'''\n",
    "'''\n",
    "q1, q2, q3, q4, q5, q6 = symbols('q1:7')\n",
    "forward_kinematics=lambdify([q1,q2,q3,q4,q5,q6],X)\n",
    "forward_kinematics_np=lambdify([q1,q2,q3,q4,q5,q6],X,\"numpy\")"
   ]
  },
  {
   "cell_type": "markdown",
   "metadata": {},
   "source": [
    "Here are some performance evaluations"
   ]
  },
  {
   "cell_type": "code",
   "execution_count": 26,
   "metadata": {},
   "outputs": [
    {
     "name": "stdout",
     "output_type": "stream",
     "text": [
      "CPU times: user 46.1 ms, sys: 0 ns, total: 46.1 ms\n",
      "Wall time: 43 ms\n"
     ]
    },
    {
     "data": {
      "text/plain": [
       "sympy.matrices.dense.MutableDenseMatrix"
      ]
     },
     "execution_count": 26,
     "metadata": {},
     "output_type": "execute_result"
    }
   ],
   "source": [
    "%%time\n",
    "type(X.subs({'q1':1,'q2':2,'q3':3,'q4':4,'q5':5,'q6':6}).evalf())"
   ]
  },
  {
   "cell_type": "code",
   "execution_count": 27,
   "metadata": {},
   "outputs": [
    {
     "name": "stdout",
     "output_type": "stream",
     "text": [
      "CPU times: user 466 µs, sys: 0 ns, total: 466 µs\n",
      "Wall time: 434 µs\n"
     ]
    },
    {
     "data": {
      "text/plain": [
       "numpy.ndarray"
      ]
     },
     "execution_count": 27,
     "metadata": {},
     "output_type": "execute_result"
    }
   ],
   "source": [
    "%%time\n",
    "type(forward_kinematics(1,2,3,4,5,6))"
   ]
  },
  {
   "cell_type": "code",
   "execution_count": 28,
   "metadata": {},
   "outputs": [
    {
     "name": "stdout",
     "output_type": "stream",
     "text": [
      "CPU times: user 157 µs, sys: 0 ns, total: 157 µs\n",
      "Wall time: 151 µs\n"
     ]
    },
    {
     "data": {
      "text/plain": [
       "numpy.ndarray"
      ]
     },
     "execution_count": 28,
     "metadata": {},
     "output_type": "execute_result"
    }
   ],
   "source": [
    "%%time\n",
    "type(forward_kinematics_np(1,2,3,4,5,6))"
   ]
  },
  {
   "cell_type": "markdown",
   "metadata": {},
   "source": [
    "**sympy** implementation"
   ]
  },
  {
   "cell_type": "code",
   "execution_count": 50,
   "metadata": {},
   "outputs": [],
   "source": [
    "def ik(J,X,x_goal,q_start):\n",
    "    '''\n",
    "    Compute inverse kinematic\n",
    "    PARAMS\n",
    "        X       -> 6x1 Sympy Matrix of Symbolic ee configuration\n",
    "        J       -> 6x6 Sympy Matrix of Symbolic Analytical Jacobian\n",
    "        q_start -> 6x1 Sympy Matrix of starting joint configuration\n",
    "        x_goal  -> 6x1 Sympy Matrix of desired ee configuration\n",
    "    '''\n",
    "\n",
    "    def compute_diff(X,q,x_goal):\n",
    "        '''\n",
    "        utility function to compute delta X\n",
    "        PARAMS\n",
    "            X      -> 6x1 Sympy Matrix of Symbolic ee configuration\n",
    "            q      -> 6x1 Sympy Matrix of current joint configuration\n",
    "            x_goal -> 6x1 Sympy Matrix of desired ee configuration\n",
    "        '''\n",
    "        x_ee = X.subs({'q1':q[0],'q2':q[1],'q3':q[2],'q4':q[3],'q5':q[4],'q6':q[5]}).evalf()\n",
    "        delta_x = x_goal - x_ee\n",
    "\n",
    "        #rephase angles in [-pi,pi}\n",
    "        delta_x[3]=( delta_x[3] + pi) % (2 * pi ) - pi\n",
    "        delta_x[4]=( delta_x[4] + pi) % (2 * pi ) - pi\n",
    "        delta_x[5]=( delta_x[5] + pi) % (2 * pi ) - pi\n",
    "\n",
    "        return delta_x\n",
    "    \n",
    "    #starting conditions\n",
    "    q = q_start\n",
    "    delta_x=compute_diff(X,q,x_goal)\n",
    "    \n",
    "    #save history to check convergence\n",
    "    delta_x_mat=Matrix(delta_x)\n",
    "    \n",
    "    max_iter=100\n",
    "    i=0\n",
    "    while(sum(abs(delta_x)) > 0.1):\n",
    "        ja=J.subs({'q1':q[0],'q2':q[1],'q3':q[2],'q4':q[3],'q5':q[4],'q6':q[5]}).evalf()\n",
    "        delta_q = 0.25*ja.T*delta_x\n",
    "        q=q+delta_q\n",
    "        delta_x=compute_diff(X,q,x_goal)\n",
    "        delta_x_mat=delta_x_mat.col_insert(delta_x_mat.shape[1],delta_x)\n",
    "        \n",
    "        if (sum(abs(delta_x)) >= 10):\n",
    "            break\n",
    "        \n",
    "        if i >= max_iter:\n",
    "            break\n",
    "        \n",
    "        i+=1\n",
    "       \n",
    "    return q,delta_x_mat"
   ]
  },
  {
   "cell_type": "code",
   "execution_count": 51,
   "metadata": {},
   "outputs": [
    {
     "name": "stdout",
     "output_type": "stream",
     "text": [
      "CPU times: user 22.8 s, sys: 3.98 ms, total: 22.8 s\n",
      "Wall time: 22.8 s\n"
     ]
    }
   ],
   "source": [
    "%%time\n",
    "x_goal = Matrix([1,0.5,1,0,0,3.1416/4])\n",
    "q_start = Matrix([0,0,0,0,0,0])\n",
    "\n",
    "q_star,x_err=ik(J,X,x_goal,q_start)"
   ]
  },
  {
   "cell_type": "code",
   "execution_count": 53,
   "metadata": {},
   "outputs": [
    {
     "data": {
      "text/plain": [
       "<matplotlib.legend.Legend at 0x7f8476f2bc50>"
      ]
     },
     "execution_count": 53,
     "metadata": {},
     "output_type": "execute_result"
    },
    {
     "data": {
      "image/png": "[encoded data removed]",
      "text/plain": [
       "<matplotlib.figure.Figure at 0x7f847c5d11d0>"
      ]
     },
     "metadata": {},
     "output_type": "display_data"
    }
   ],
   "source": [
    "#Plot error over-time\n",
    "import matplotlib.pyplot as plt\n",
    "plt.style.use('ggplot')\n",
    "plt.plot(range(x_err.shape[1]),x_err.row(0).T, 'r', marker='o',markevery=10, label=\"x error\")\n",
    "plt.plot(range(x_err.shape[1]),x_err.row(1).T, 'g', marker='o',markevery=10, label=\"y error\")\n",
    "plt.plot(range(x_err.shape[1]),x_err.row(2).T, 'b', marker='o',markevery=10, label=\"z error\")\n",
    "plt.plot(range(x_err.shape[1]),x_err.row(3).T, 'm', marker='o',markevery=10, label=\"roll error\")\n",
    "plt.plot(range(x_err.shape[1]),x_err.row(4).T, 'c', marker='o',markevery=10, label=\"pitch error\")\n",
    "plt.plot(range(x_err.shape[1]),x_err.row(5).T, 'y', marker='o',markevery=10, label=\"yaw error\")\n",
    "plt.xlabel(\"iter\")\n",
    "plt.ylabel(\"err[m][rad]\")\n",
    "plt.legend()"
   ]
  },
  {
   "cell_type": "markdown",
   "metadata": {},
   "source": [
    "**numpy** implementation"
   ]
  },
  {
   "cell_type": "code",
   "execution_count": 54,
   "metadata": {},
   "outputs": [],
   "source": [
    "def ik_np(J,X,x_goal,q_start):\n",
    "    '''\n",
    "    Compute inverse kinematic\n",
    "    PARAMS\n",
    "        X       -> 6x1 Sympy Matrix of Symbolic ee configuration\n",
    "        J       -> 6x6 Sympy Matrix of Symbolic Analytical Jacobian\n",
    "        \n",
    "        q_start -> 6x1 Numpy ndarray of starting joint configuration\n",
    "        x_goal  -> 6x1 Numpy ndarray of desired ee configuration\n",
    "    '''\n",
    "    \n",
    "    q1, q2, q3, q4, q5, q6 = symbols('q1:7')\n",
    "    x=lambdify([q1,q2,q3,q4,q5,q6],X,\"numpy\")\n",
    "    j=lambdify([q1,q2,q3,q4,q5,q6],J,\"numpy\")\n",
    "    \n",
    "    #starting conditions\n",
    "    q = q_start\n",
    "    \n",
    "    x_ee=x(q[0],q[1],q[2],q[3],q[4],q[5]).astype(np.float64)\n",
    "    x_ee=np.squeeze(x_ee, axis=2)\n",
    "    \n",
    "    delta_x=x_goal-x_ee\n",
    "    delta_x[3]=( delta_x[3] + np.pi) % (2 * np.pi ) - np.pi\n",
    "    delta_x[4]=( delta_x[4] + np.pi) % (2 * np.pi ) - np.pi\n",
    "    delta_x[5]=( delta_x[5] + np.pi) % (2 * np.pi ) - np.pi\n",
    "\n",
    "    #save history to check convergence\n",
    "    delta_x_arr=delta_x\n",
    "    max_iter=500\n",
    "    i=0\n",
    "    \n",
    "    while(np.sum(np.abs(delta_x)) > 0.1):\n",
    "        \n",
    "        ja=(j(q[0],q[1],q[2],q[3],q[4],q[5])).astype(np.float64)\n",
    "\n",
    "        delta_q = 0.25*(ja.T).dot(delta_x)\n",
    "#         print(\"ITER: {}\".format(i))\n",
    "#         print(\"X: {}\".format(x_ee))\n",
    "#         print(\"J: {}\".format(ja))\n",
    "#         print(\"Q: {}\".format(q))\n",
    "#         print(\"DQ: {}\".format(delta_q))\n",
    "        q=q+delta_q\n",
    "        x_ee=x(q[0],q[1],q[2],q[3],q[4],q[5]).astype(np.float64)\n",
    "        x_ee=np.squeeze(x_ee, axis=2)\n",
    "\n",
    "        delta_x=x_goal-x_ee\n",
    "        delta_x[3]=( delta_x[3] + np.pi) % (2 * np.pi ) - np.pi\n",
    "        delta_x[4]=( delta_x[4] + np.pi) % (2 * np.pi ) - np.pi\n",
    "        delta_x[5]=( delta_x[5] + np.pi) % (2 * np.pi ) - np.pi\n",
    "        \n",
    "        delta_x_arr=np.hstack((delta_x_arr, delta_x))\n",
    "        \n",
    "        if (np.sum(np.abs(delta_x)) >= 10):\n",
    "            break\n",
    "        \n",
    "        if i >= max_iter:\n",
    "            break\n",
    "        \n",
    "        i+=1\n",
    "       \n",
    "    return q,delta_x_arr"
   ]
  },
  {
   "cell_type": "code",
   "execution_count": 55,
   "metadata": {},
   "outputs": [
    {
     "name": "stdout",
     "output_type": "stream",
     "text": [
      "CPU times: user 336 ms, sys: 0 ns, total: 336 ms\n",
      "Wall time: 334 ms\n"
     ]
    }
   ],
   "source": [
    "%%time\n",
    "x_goal = np.array([[0.5,0.25,0.5,0,0,3.1416/4]]).T\n",
    "q_start = np.array([[0,0,0,0,0,0]]).T\n",
    "\n",
    "q_star,x_err=ik_np(J,X,x_goal,q_start)"
   ]
  },
  {
   "cell_type": "code",
   "execution_count": 56,
   "metadata": {},
   "outputs": [
    {
     "data": {
      "text/plain": [
       "<matplotlib.legend.Legend at 0x7f8476e8bb10>"
      ]
     },
     "execution_count": 56,
     "metadata": {},
     "output_type": "execute_result"
    },
    {
     "data": {
      "image/png": "[encoded data removed]",
      "text/plain": [
       "<matplotlib.figure.Figure at 0x7f8476e73150>"
      ]
     },
     "metadata": {},
     "output_type": "display_data"
    }
   ],
   "source": [
    "#Plot error over-time\n",
    "import matplotlib.pyplot as plt\n",
    "plt.style.use('ggplot')\n",
    "plt.plot(range(x_err.shape[1]),x_err[0,:], 'r', marker='o',markevery=10, label=\"x error\")\n",
    "plt.plot(range(x_err.shape[1]),x_err[1,:], 'g', marker='o',markevery=10, label=\"y error\")\n",
    "plt.plot(range(x_err.shape[1]),x_err[2,:], 'b', marker='o',markevery=10, label=\"z error\")\n",
    "plt.plot(range(x_err.shape[1]),x_err[3,:], 'm', marker='o',markevery=10, label=\"roll error\")\n",
    "plt.plot(range(x_err.shape[1]),x_err[4,:], 'c', marker='o',markevery=10, label=\"pitch error\")\n",
    "plt.plot(range(x_err.shape[1]),x_err[5,:], 'y', marker='o',markevery=10, label=\"yaw error\")\n",
    "plt.xlabel(\"iter\")\n",
    "plt.ylabel(\"err[m][rad]\")\n",
    "plt.legend()"
   ]
  },
  {
   "cell_type": "markdown",
   "metadata": {},
   "source": [
    "##### 3.2.1.b. Quaternions"
   ]
  },
  {
   "cell_type": "code",
   "execution_count": 57,
   "metadata": {},
   "outputs": [],
   "source": [
    "import pickle\n",
    "from sympy import *\n",
    "X = pickle.load(open('data/forward_kinematics_quaternions.p', 'rb'))\n",
    "J = pickle.load(open('data/jacobian_quaternions.p', 'rb'))"
   ]
  },
  {
   "cell_type": "code",
   "execution_count": null,
   "metadata": {},
   "outputs": [],
   "source": [
    "q1, q2, q3, q4, q5, q6 = symbols('q1:7')\n",
    "j=lambdify([q1,q2,q3,q4,q5,q6],J,\"numpy\")\n",
    "j(1,1,1,1,1,1)"
   ]
  },
  {
   "cell_type": "code",
   "execution_count": null,
   "metadata": {},
   "outputs": [],
   "source": [
    "def ik(J,X,x_goal,q_start):\n",
    "    '''\n",
    "    Compute inverse kinematic\n",
    "    PARAMS\n",
    "        X       -> 7x1 Sympy Matrix of Symbolic ee configuration\n",
    "        J       -> 7x6 Sympy Matrix of Symbolic Analytical Jacobian\n",
    "        \n",
    "        q_start -> 6x1 Numpy ndarray of starting joint configuration\n",
    "        x_goal  -> 6x1 Numpy ndarray of desired ee configuration\n",
    "    '''\n",
    "    \n",
    "    q1, q2, q3, q4, q5, q6 = symbols('q1:7')\n",
    "    x=lambdify([q1,q2,q3,q4,q5,q6],X,\"numpy\")\n",
    "    j=lambdify([q1,q2,q3,q4,q5,q6],J,\"numpy\")\n",
    "    \n",
    "    #starting conditions\n",
    "    q = q_start\n",
    "    \n",
    "    x_ee=x(q[0],q[1],q[2],q[3],q[4],q[5]).astype(np.float64)\n",
    "    x_ee=np.squeeze(x_ee, axis=2)\n",
    "    \n",
    "    delta_x=x_goal-x_ee\n",
    "\n",
    "    #save history to check convergence\n",
    "    delta_x_arr=delta_x\n",
    "    max_iter=500\n",
    "    i=0\n",
    "    \n",
    "    while(np.sum(np.abs(delta_x)) > 0.1):\n",
    "        \n",
    "        ja=(j(q[0],q[1],q[2],q[3],q[4],q[5])).astype(np.float64)\n",
    "\n",
    "        delta_q = 0.1*(ja.T).dot(delta_x)\n",
    "#         print(\"ITER: {}\".format(i))\n",
    "#         print(\"X: {}\".format(x_ee))\n",
    "#         print(\"J: {}\".format(ja))\n",
    "#         print(\"Q: {}\".format(q))\n",
    "#         print(\"DQ: {}\".format(delta_q))\n",
    "        q=q+delta_q\n",
    "        x_ee=x(q[0],q[1],q[2],q[3],q[4],q[5]).astype(np.float64)\n",
    "        x_ee=np.squeeze(x_ee, axis=2)\n",
    "\n",
    "        delta_x=x_goal-x_ee\n",
    "        \n",
    "        delta_x_arr=np.hstack((delta_x_arr, delta_x))\n",
    "        \n",
    "        if (np.sum(np.abs(delta_x)) >= 10):\n",
    "            break\n",
    "        \n",
    "        if i >= max_iter:\n",
    "            break\n",
    "        \n",
    "        i+=1\n",
    "       \n",
    "    return q,delta_x_arr"
   ]
  },
  {
   "cell_type": "code",
   "execution_count": null,
   "metadata": {},
   "outputs": [],
   "source": [
    "%%time\n",
    "x_goal = np.array([[0,0.5,0.5,1,0,0,0]]).T\n",
    "q_start = np.array([[0,0,0,0,0,0]]).T\n",
    "\n",
    "q_star,x_err=ik(J,X,x_goal,q_start)"
   ]
  },
  {
   "cell_type": "markdown",
   "metadata": {},
   "source": [
    "#### 3.2.2. Python Code: Damped Least Squares IK Algorithm\n",
    "##### 3.2.2.a. RPY"
   ]
  },
  {
   "cell_type": "code",
   "execution_count": 23,
   "metadata": {},
   "outputs": [],
   "source": [
    "import pickle\n",
    "from sympy import *\n",
    "import numpy as np\n",
    "X = pickle.load(open('data/forward_kinematics_rpy.p', 'rb'))\n",
    "J = pickle.load(open('data/jacobian_rpy.p', 'rb'))"
   ]
  },
  {
   "cell_type": "markdown",
   "metadata": {},
   "source": [
    "*numpy* implemenation"
   ]
  },
  {
   "cell_type": "code",
   "execution_count": 24,
   "metadata": {},
   "outputs": [],
   "source": [
    "def ik_np(J,X,x_goal,q_start):\n",
    "    '''\n",
    "    Compute inverse kinematic\n",
    "    PARAMS\n",
    "        X       -> 6x1 Sympy Matrix of Symbolic ee configuration\n",
    "        J       -> 6x6 Sympy Matrix of Symbolic Analytical Jacobian\n",
    "        \n",
    "        q_start -> 6x1 Numpy ndarray of starting joint configuration\n",
    "        x_goal  -> 6x1 Numpy ndarray of desired ee configuration\n",
    "    '''\n",
    "    \n",
    "    q1, q2, q3, q4, q5, q6 = symbols('q1:7')\n",
    "    x=lambdify([q1,q2,q3,q4,q5,q6],X,\"numpy\")\n",
    "    j=lambdify([q1,q2,q3,q4,q5,q6],J,\"numpy\")\n",
    "    \n",
    "    #starting conditions\n",
    "    q = q_start\n",
    "    \n",
    "    x_ee=x(q[0],q[1],q[2],q[3],q[4],q[5]).astype(np.float64)\n",
    "    x_ee=np.squeeze(x_ee, axis=2)\n",
    "    \n",
    "    delta_x=x_goal-x_ee\n",
    "    delta_x[3]=( delta_x[3] + np.pi) % (2 * np.pi ) - np.pi\n",
    "    delta_x[4]=( delta_x[4] + np.pi) % (2 * np.pi ) - np.pi\n",
    "    delta_x[5]=( delta_x[5] + np.pi) % (2 * np.pi ) - np.pi\n",
    "\n",
    "    #save history to check convergence\n",
    "    delta_x_arr=delta_x\n",
    "    max_iter=500\n",
    "    i=0\n",
    "    \n",
    "    print(np.shape(q_start))\n",
    "    print(np.shape(x_goal))\n",
    "    print(np.shape(delta_x))\n",
    "    print(np.shape(x_ee))\n",
    "    \n",
    "    a = True\n",
    "    \n",
    "    while(np.sum(np.abs(delta_x)) > 0.1):\n",
    "        \n",
    "        ja=(j(q[0],q[1],q[2],q[3],q[4],q[5])).astype(np.float64)\n",
    "\n",
    "        #delta_q = 0.25*(ja.T).dot(delta_x)\n",
    "        damp=1\n",
    "        delta_q = (ja.T).dot( np.linalg.inv(ja.dot(ja.T) + damp**2*np.eye(6)) ).dot(delta_x)\n",
    "        \n",
    "        if a is True:\n",
    "            print(np.shape(delta_q))\n",
    "            a=False\n",
    "        \n",
    "#         print(\"ITER: {}\".format(i))\n",
    "#         print(\"X: {}\".format(x_ee))\n",
    "#         print(\"J: {}\".format(ja))\n",
    "#         print(\"Q: {}\".format(q))\n",
    "#         print(\"DQ: {}\".format(delta_q))\n",
    "        q=q+delta_q\n",
    "        x_ee=x(q[0],q[1],q[2],q[3],q[4],q[5]).astype(np.float64)\n",
    "        x_ee=np.squeeze(x_ee, axis=2)\n",
    "\n",
    "        delta_x=x_goal-x_ee\n",
    "        delta_x[3]=( delta_x[3] + np.pi) % (2 * np.pi ) - np.pi\n",
    "        delta_x[4]=( delta_x[4] + np.pi) % (2 * np.pi ) - np.pi\n",
    "        delta_x[5]=( delta_x[5] + np.pi) % (2 * np.pi ) - np.pi\n",
    "        \n",
    "        delta_x_arr=np.hstack((delta_x_arr, delta_x))\n",
    "        \n",
    "        if (np.sum(np.abs(delta_x)) >= 10):\n",
    "            break\n",
    "        \n",
    "        if i >= max_iter:\n",
    "            break\n",
    "        \n",
    "        i+=1\n",
    "       \n",
    "    return q,delta_x_arr"
   ]
  },
  {
   "cell_type": "code",
   "execution_count": 25,
   "metadata": {},
   "outputs": [
    {
     "name": "stdout",
     "output_type": "stream",
     "text": [
      "(6, 1)\n",
      "(6, 1)\n",
      "(6, 1)\n",
      "(6, 1)\n",
      "(6, 1)\n",
      "CPU times: user 281 ms, sys: 272 ms, total: 553 ms\n",
      "Wall time: 184 ms\n"
     ]
    }
   ],
   "source": [
    "%%time\n",
    "x_goal = np.array([[0.5,0.25,0.5,0,0,3.1416/4]]).T\n",
    "q_start = np.array([[0,0,0,0,0,0]]).T\n",
    "\n",
    "q_star,x_err=ik_np(J,X,x_goal,q_start)"
   ]
  },
  {
   "cell_type": "code",
   "execution_count": 26,
   "metadata": {},
   "outputs": [
    {
     "data": {
      "text/plain": [
       "<matplotlib.legend.Legend at 0x7f3b40e901d0>"
      ]
     },
     "execution_count": 26,
     "metadata": {},
     "output_type": "execute_result"
    },
    {
     "data": {
      "image/png": "[encoded data removed]",
      "text/plain": [
       "<Figure size 432x288 with 1 Axes>"
      ]
     },
     "metadata": {},
     "output_type": "display_data"
    }
   ],
   "source": [
    "#Plot error over-time\n",
    "import matplotlib.pyplot as plt\n",
    "plt.style.use('ggplot')\n",
    "plt.plot(range(x_err.shape[1]),x_err[0,:], 'r', marker='o',markevery=10, label=\"x error\")\n",
    "plt.plot(range(x_err.shape[1]),x_err[1,:], 'g', marker='o',markevery=10, label=\"y error\")\n",
    "plt.plot(range(x_err.shape[1]),x_err[2,:], 'b', marker='o',markevery=10, label=\"z error\")\n",
    "plt.plot(range(x_err.shape[1]),x_err[3,:], 'm', marker='o',markevery=10, label=\"roll error\")\n",
    "plt.plot(range(x_err.shape[1]),x_err[4,:], 'c', marker='o',markevery=10, label=\"pitch error\")\n",
    "plt.plot(range(x_err.shape[1]),x_err[5,:], 'y', marker='o',markevery=10, label=\"yaw error\")\n",
    "plt.xlabel(\"iter\")\n",
    "plt.ylabel(\"err[m][rad]\")\n",
    "plt.legend()"
   ]
  },
  {
   "cell_type": "markdown",
   "metadata": {},
   "source": [
    "*Numpy* implementation V2: using preallocation to improve performance"
   ]
  },
  {
   "cell_type": "code",
   "execution_count": 30,
   "metadata": {},
   "outputs": [],
   "source": [
    "def ik_np(J,X,x_goal,q_start):\n",
    "    '''\n",
    "    Compute inverse kinematic\n",
    "    PARAMS\n",
    "        X       -> 6x1 Sympy Matrix of Symbolic ee configuration\n",
    "        J       -> 6x6 Sympy Matrix of Symbolic Analytical Jacobian\n",
    "        \n",
    "        q_start -> array_like\n",
    "        x_goal  -> array_like\n",
    "    '''\n",
    "    \n",
    "    q1, q2, q3, q4, q5, q6 = symbols('q1:7')\n",
    "    x=lambdify([q1,q2,q3,q4,q5,q6],X,\"numpy\")\n",
    "    j=lambdify([q1,q2,q3,q4,q5,q6],J,\"numpy\")\n",
    "    \n",
    "    #Preallocate NP arrays\n",
    "    N=6\n",
    "    M=6\n",
    "    q = np.empty(N).reshape(6,1)\n",
    "    delta_q = np.empty(N).reshape(6,1)\n",
    "    x_ee = np.empty(M).reshape(6,1)\n",
    "    delta_x = np.empty(M).reshape(6,1)\n",
    "    ja=np.empty((M,N))\n",
    "    \n",
    "    #starting conditions\n",
    "    q[:,0] = q_start\n",
    "\n",
    "    x_ee[:]=x(q[0,0],q[1,0],q[2,0],q[3,0],q[4,0],q[5,0]).astype(np.float64)\n",
    "    #x_ee=np.squeeze(x_ee, axis=2)\n",
    "    \n",
    "    for idx in range(M):\n",
    "        delta_x[idx,0] = x_goal[idx] - x_ee[idx,0]\n",
    "        \n",
    "    delta_x[3,0] = ( delta_x[3,0] + np.pi) % (2 * np.pi ) - np.pi\n",
    "    delta_x[4,0] = ( delta_x[4,0] + np.pi) % (2 * np.pi ) - np.pi\n",
    "    delta_x[5,0] = ( delta_x[5,0] + np.pi) % (2 * np.pi ) - np.pi\n",
    "\n",
    "    #save history to check convergence\n",
    "    delta_x_arr=delta_x\n",
    "    max_iter=500\n",
    "    i=0\n",
    "    \n",
    "    a = True\n",
    "    \n",
    "    while(np.sum(np.abs(delta_x)) > 0.1):\n",
    "        \n",
    "        ja[:]=(j(q[0],q[1],q[2],q[3],q[4],q[5])).astype(np.float64)\n",
    "\n",
    "        #delta_q = 0.25*(ja.T).dot(delta_x)\n",
    "        damp=1\n",
    "        delta_q[:] = (ja.T).dot( np.linalg.inv(ja.dot(ja.T) + damp**2*np.eye(6)) ).dot(delta_x)\n",
    "        \n",
    "#         print(\"ITER: {}\".format(i))\n",
    "#         print(\"X: {}\".format(x_ee))\n",
    "#         print(\"J: {}\".format(ja))\n",
    "#         print(\"Q: {}\".format(q))\n",
    "#         print(\"DQ: {}\".format(delta_q))\n",
    "        q[:]=q+delta_q\n",
    "    \n",
    "        x_ee[:]=x(q[0,0],q[1,0],q[2,0],q[3,0],q[4,0],q[5,0]).astype(np.float64)\n",
    "        #x_ee=np.squeeze(x_ee, axis=2)\n",
    "\n",
    "        for idx in range(M):\n",
    "            delta_x[idx,0] = x_goal[idx] - x_ee[idx,0]\n",
    "\n",
    "        delta_x[3,0] = ( delta_x[3,0] + np.pi) % (2 * np.pi ) - np.pi\n",
    "        delta_x[4,0] = ( delta_x[4,0] + np.pi) % (2 * np.pi ) - np.pi\n",
    "        delta_x[5,0] = ( delta_x[5,0] + np.pi) % (2 * np.pi ) - np.pi\n",
    "        \n",
    "        delta_x_arr=np.hstack((delta_x_arr, delta_x))\n",
    "        \n",
    "        if (np.sum(np.abs(delta_x)) >= 10):\n",
    "            break\n",
    "        \n",
    "        if i >= max_iter:\n",
    "            break\n",
    "        \n",
    "        i+=1\n",
    "       \n",
    "    return q,delta_x_arr"
   ]
  },
  {
   "cell_type": "code",
   "execution_count": 32,
   "metadata": {},
   "outputs": [
    {
     "name": "stdout",
     "output_type": "stream",
     "text": [
      "CPU times: user 227 ms, sys: 322 ms, total: 549 ms\n",
      "Wall time: 182 ms\n"
     ]
    }
   ],
   "source": [
    "%%time\n",
    "x_goal = [0.5,0.25,0.5,0,0,3.1416/4]\n",
    "q_start = [0,0,0,0,0,0]\n",
    "\n",
    "q_star,x_err=ik_np(J,X,x_goal,q_start)"
   ]
  },
  {
   "cell_type": "code",
   "execution_count": 33,
   "metadata": {},
   "outputs": [
    {
     "data": {
      "text/plain": [
       "<matplotlib.legend.Legend at 0x7f3b40ddc0f0>"
      ]
     },
     "execution_count": 33,
     "metadata": {},
     "output_type": "execute_result"
    },
    {
     "data": {
      "image/png": "[encoded data removed]",
      "text/plain": [
       "<Figure size 432x288 with 1 Axes>"
      ]
     },
     "metadata": {},
     "output_type": "display_data"
    }
   ],
   "source": [
    "#Plot error over-time\n",
    "import matplotlib.pyplot as plt\n",
    "plt.style.use('ggplot')\n",
    "plt.plot(range(x_err.shape[1]),x_err[0,:], 'r', marker='o',markevery=10, label=\"x error\")\n",
    "plt.plot(range(x_err.shape[1]),x_err[1,:], 'g', marker='o',markevery=10, label=\"y error\")\n",
    "plt.plot(range(x_err.shape[1]),x_err[2,:], 'b', marker='o',markevery=10, label=\"z error\")\n",
    "plt.plot(range(x_err.shape[1]),x_err[3,:], 'm', marker='o',markevery=10, label=\"roll error\")\n",
    "plt.plot(range(x_err.shape[1]),x_err[4,:], 'c', marker='o',markevery=10, label=\"pitch error\")\n",
    "plt.plot(range(x_err.shape[1]),x_err[5,:], 'y', marker='o',markevery=10, label=\"yaw error\")\n",
    "plt.xlabel(\"iter\")\n",
    "plt.ylabel(\"err[m][rad]\")\n",
    "plt.legend()"
   ]
  },
  {
   "cell_type": "code",
   "execution_count": null,
   "metadata": {},
   "outputs": [],
   "source": []
  }
 ],
 "metadata": {
  "kernelspec": {
   "display_name": "Python 3",
   "language": "python",
   "name": "python3"
  },
  "language_info": {
   "codemirror_mode": {
    "name": "ipython",
    "version": 3
   },
   "file_extension": ".py",
   "mimetype": "text/x-python",
   "name": "python",
   "nbconvert_exporter": "python",
   "pygments_lexer": "ipython3",
   "version": "3.5.2"
  }
 },
 "nbformat": 4,
 "nbformat_minor": 2
}
