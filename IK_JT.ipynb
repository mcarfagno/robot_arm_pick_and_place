{
 "cells": [
  {
   "cell_type": "markdown",
   "metadata": {},
   "source": [
    "# Inverse kinematics of a Kuka KR210 robot using python and ROS\n",
    "\n",
    "Self study, from Udacity Robotics ND Project 2 — Robotic Arm: Pick & Place\n"
   ]
  },
  {
   "cell_type": "markdown",
   "metadata": {},
   "source": [
    "# 0: INTRO and BASICS\n",
    "\n",
    "In this notebook I will go through on how to do forward and inverse kinematic analysis to control the end point effector of a robotic pick and place arm using the robot operating system (ROS).\n",
    "\n",
    "In robotics kinematics is to calculate the relations between end-effectors and joint angles. For forward kinematics, the joint angles are the inputs, the outputs would be the coordinates of the end-effector. For inverse kinematics, the given inputs are the coordinates of the end-effectors, the outputs to calculate are the joint angles.\n",
    "\n",
    "The solution of the kinematic problem is based on the definition of a reference frame associated to each link of themanipulator.\n",
    "\n",
    "## 0a: Rotation and Translation Matrices\n",
    "\n",
    "## 0b: Euler Angles\n",
    "\n",
    "## 0c: Homogeneous Transforms"
   ]
  },
  {
   "cell_type": "markdown",
   "metadata": {},
   "source": [
    "## 1: FORWARD KINEMATICS\n",
    "\n",
    "<p align=\"center\">\n",
    "     <img src=\"img/forward-kinematics-01.png\" width=\"640\">\n",
    "</p>\n",
    "\n",
    "### 1a: DENAVIT-HARTEMBERG PARAMETERS"
   ]
  },
  {
   "cell_type": "markdown",
   "metadata": {},
   "source": [
    "Jacques Denavit and Richard Hartenberg proposed a systematic method of attaching reference frames to the links of a manipulator that **simplifies** the homogeneous transforms from six independent parameters per joint to only four to describe the position and orientation of adjacent reference frames.\n",
    "\n",
    "Several modifications have been made to the DH method, but the following modified convention is the most commonly used. The coordinates of frame Oi − 1 is put on axis i − 1, not axis i as in classic DH convention. The coordinates of frame Oi is put on the axis i, not the axis i + 1 in classic DH convention. \n",
    "\n",
    "<p align=\"center\">\n",
    "     <img src=\"img/DHParameter.png\" width=\"640\">\n",
    "</p>\n",
    "\n",
    "The four DH parameter are:\n",
    "\n",
    "* $d_i$: Link offset, distance between $X_{i−1}$ and $X_i$, measured along $Z_{i−1}$, *variable in **prismatic** joints*.\n",
    "\n",
    "* $α_{i−1}$: Angle between $Z_{i−1}$ and $Z_i$, measured along $X_i$.\n",
    "\n",
    "* $a_{i−1}$: Link length, distance between $Z_{i−1}$ and $Z_i$, measured along $Z_{i−1}$.\n",
    "\n",
    "* $θ_i$: Joint angle, Angle between $X_{i−1}$ and $X_i$, measured along $Z_i$, *variable in **revolute** joints*.\n",
    "\n",
    "Using this DH convention, the homogeneous transform from frame **i-1** to frame **i** can be coputed by the following order of operations:\n",
    "\n",
    "* roation by $\\alpha_{-1}$ along $X_i−1$\n",
    "* translation by $a_i−1$ along $X_i−1$\n",
    "* rotation by $\\theta_{i}$ along $Z_i$\n",
    "* translation by $d_i$ along $Z_i$.\n",
    "\n",
    "So:\n",
    "\n",
    "$ T^{i}_{i-1} = R(\\alpha_{i-1})_X \\cdot D(a_{i-1})_X \\cdot R(\\theta_{i})_Z \\cdot D(d_i)_Z $\n",
    "\n",
    "$ T^{i}_{i-1} = \\quad\n",
    "\\begin{pmatrix}\n",
    "\\cos(\\theta_{i}) & -\\sin(\\theta_{i}) & 0 & a_{i-1}\\\\\n",
    "\\sin(\\theta_{i})\\cos(\\alpha_{i-1}) & \\cos(\\theta_{i})\\cos(\\alpha_{i-1}) & -\\sin(\\alpha_{i-1}) & -\\sin(\\alpha_{i-1})d_i\\\\\n",
    "\\sin(\\theta_{i})\\sin(\\alpha_{i-1}) & \\cos(\\theta_{i})\\cos(\\alpha_{i-1}) &  \\cos(\\alpha_{i-1}) &  \\cos(\\alpha_{i-1})d_i\\\\\n",
    "0 & 0 & 0 & 1\n",
    "\\end{pmatrix} \\quad\n",
    "$"
   ]
  },
  {
   "cell_type": "markdown",
   "metadata": {},
   "source": [
    "### 1b: KUKA KR210 DH PARAMETERS"
   ]
  },
  {
   "cell_type": "markdown",
   "metadata": {},
   "source": [
    "We can now derive the parameters for the Kuka KR210 arm displayed above.\n",
    "\n",
    "<p align=\"center\">\n",
    "     <img src=\"img/joints_frames.png\" width=\"640\">\n",
    "</p>\n",
    "\n",
    "Measures are in the kr210.urdf.xacro file wich shows the relative position between current joint and its parent joint.\n",
    "\n",
    "When moving to ROS it can be seen that RViz does not directly show **joint reference frames** but instead shows **link reference frames**.\n",
    "\n",
    "In an URDF file, the location of each joint is defined relative to the center of its parent joint: for example the location of joint 2 is relative to the center of joint 1.\n",
    "\n",
    "|Joint_name |Parent_Link |Child_Link |x_offset |y_offset |z_offset |\n",
    "|---|---|---|---|---|---|\n",
    "|Joint_1        |base_link  |link_1          |0    |0       |0.33 |\n",
    "|Joint_2        |link_1      |link_2         |0.35    |0       |0.42 |\n",
    "|Joint_3        |link_2      |link_3         |0    |0       |1.25 |\n",
    "|Joint_4        |link_3      |link_4         |0.96 |0       |-0.054 |\n",
    "|Joint_5        |link_4      |link_5         |0.54    |0       |0 |\n",
    "|Joint_6        |link_5      |link_6         |0.193   |0       |0 |\n",
    "|Gripper_Joint  |link_6      |gripper_link   |0.11  |0        |0 |\n",
    "\n",
    "Here is The URDF visualized in gazebo.\n",
    "\n",
    "<p align=\"center\">\n",
    "     <img src=\"img/rviz_urdf.png\" width=\"640\">\n",
    "</p>\n",
    "\n",
    "The choice of x-y-z axis for each frame should follow the rules of **minimizing the number of non-zero parameters**.\n",
    "\n",
    "For example, the d value of joint 1 can be any arbitrary number, the initial guess would be to set it as 0.33 wich is is true height from the base, although it is better to choose the **x1** axis to be intersected with next joint frame, which reduces the number of non-zero parameters. \n",
    "\n",
    "The modified DH parameters table is:\n",
    "\n",
    "|$Joint_i$ |$α_{i−1}$ |$a_{i−1}$ |$d_i$ |$θ_i$ |\n",
    "---|---|---|---|---|\n",
    "|1        |0      |0      |0.75 |q1       |\n",
    "|2        |-pi/2  |0.35   |0    |q2 - pi/2|\n",
    "|3        |0      |1.25   |0    |q3       |\n",
    "|4        |-p1/2  |-0.054 |1.50 |q4       |\n",
    "|5        |pi/2   |0      |0    |q5       |\n",
    "|6        |-pi/2  |0      |0    |q6       |\n",
    "|7(G)     |0      |0      |0.3  |0        |"
   ]
  },
  {
   "cell_type": "code",
   "execution_count": 1,
   "metadata": {},
   "outputs": [],
   "source": [
    "# Create Modified DH parameters\n",
    "from sympy import *\n",
    "\n",
    "## Define DH param symbols\n",
    "d1, d2, d3, d4, d5, d6, d7 = symbols('d1:8')  # link_offset_i\n",
    "a0, a1, a2, a3, a4, a5, a6 = symbols('a0:7')  # link_length_i\n",
    "alpha0, alpha1, alpha2, alpha3, alpha4, alpha5, alpha6 = symbols('alpha0:7')  # link_twist_i\n",
    "\n",
    "## Joint angle symbols\n",
    "q1, q2, q3, q4, q5, q6, q7 = symbols('q1:8') # theta_i\n",
    "\n",
    "DH = {   alpha0: 0,      a0: 0,      d1: 0.75,    q1: q1,\n",
    "         alpha1: -pi/2,  a1: 0.35,   d2: 0,       q2: q2-pi/2,\n",
    "         alpha2: 0,      a2: 1.25,   d3: 0,       q3: q3,\n",
    "         alpha3: -pi/2,  a3: 0.0536, d4: 1.5014,  q4: q4,\n",
    "         alpha4: pi/2,   a4: 0,      d5: 0,       q5: q5,\n",
    "         alpha5: -pi/2,  a5: 0,      d6: 0,       q6: q6,\n",
    "         alpha6: 0,      a6: 0,      d7: 0.303,   q7: 0}"
   ]
  },
  {
   "cell_type": "markdown",
   "metadata": {},
   "source": [
    "## 1b: FK computing\n",
    "\n",
    "Forward Kinematics is the process of computing a manipulator's end-effector position in Cartesian coordinates from its given joint angles. This can be achieved by a composition of homogeneous transformations that map the base frame onto the end-effector's frame, taking as input the joint angles.\n",
    "\n",
    "$T^{EE}_0=T^1_0 \\cdot T^2_1 \\cdot T^3_2 \\cdot T^4_3 \\cdot T^5_4 \\cdot T^6_5 \\cdot T^{EE}_6$"
   ]
  },
  {
   "cell_type": "markdown",
   "metadata": {},
   "source": [
    "Individual Transforms can be computed this way:"
   ]
  },
  {
   "cell_type": "code",
   "execution_count": 6,
   "metadata": {},
   "outputs": [],
   "source": [
    "### Creates Homogeneous Transform Matrix from DH parameters\n",
    "def homogeneous_transform(q, d, a, alpha):\n",
    "    \n",
    "    T = Matrix([[cos(q),            -sin(q),           0,             a          ],\n",
    "                [ sin(q)*cos(alpha), cos(q)*cos(alpha), -sin(alpha), -sin(alpha)*d],\n",
    "                [ sin(q)*sin(alpha), cos(q)*sin(alpha),  cos(alpha),  cos(alpha)*d],\n",
    "                [                 0,                 0,           0,             1]])\n",
    "    return T"
   ]
  },
  {
   "cell_type": "code",
   "execution_count": 7,
   "metadata": {},
   "outputs": [],
   "source": [
    "# Create individual transformation matrices\n",
    "T0_1 = homogeneous_transform(q1, d1, a0, alpha0).subs(DH)\n",
    "T1_2 = homogeneous_transform(q2, d2, a1, alpha1).subs(DH)\n",
    "T2_3 = homogeneous_transform(q3, d3, a2, alpha2).subs(DH)\n",
    "T3_4 = homogeneous_transform(q4, d4, a3, alpha3).subs(DH)\n",
    "T4_5 = homogeneous_transform(q5, d5, a4, alpha4).subs(DH)\n",
    "T5_6 = homogeneous_transform(q6, d6, a5, alpha5).subs(DH)\n",
    "T6_G = homogeneous_transform(q7, d7, a6, alpha6).subs(DH)\n",
    "\n",
    "T0_G = T0_1*T1_2*T2_3*T3_4*T4_5*T5_6*T6_G\n",
    "\n",
    "#print(simplify(T0_G))"
   ]
  },
  {
   "cell_type": "markdown",
   "metadata": {},
   "source": [
    "The forward kinematics is specified in DH convention(yellow). However, In ROS the gripper_link is in URDF convention(green).\n",
    "\n",
    "<p align=\"center\">\n",
    "     <img src=\"img/total-transform-corretion.jpg\" width=\"640\">\n",
    "</p>\n",
    "\n",
    "So, the T0_EE transform has to be corrected by rotating by $\\pi$ along Z, and then by $-\\pi/2$ along Y.\n",
    "\n",
    "$T_total = T0_G \\times rot_z(\\pi) \\times rot_y(-\\pi/2)$"
   ]
  },
  {
   "cell_type": "code",
   "execution_count": 10,
   "metadata": {},
   "outputs": [],
   "source": [
    "def rot_x(q):\n",
    "    r_x = Matrix([[ 1,      0,       0],\n",
    "                  [ 0, cos(q), -sin(q)],\n",
    "                  [ 0, sin(q),  cos(q)]])\n",
    "    return r_x\n",
    "\n",
    "\n",
    "def rot_y(q):\n",
    "    r_y = Matrix([[  cos(q), 0, sin(q)],\n",
    "                  [       0, 1,      0],\n",
    "                  [ -sin(q), 0, cos(q)]])\n",
    "    return r_y\n",
    "\n",
    "\n",
    "def rot_z(q):\n",
    "    r_z = Matrix([[ cos(q), -sin(q), 0],\n",
    "                  [ sin(q),  cos(q), 0],\n",
    "                  [      0,       0, 1]])\n",
    "    return r_z\n",
    "\n",
    "# Compensate\n",
    "R_corr = Matrix(simplify(rot_z(pi) * rot_y(-pi/2)))\n",
    "\n",
    "# The matrix has to be 4x4\n",
    "T_corr = R_corr.row_insert(3, Matrix([[0, 0, 0]]))\n",
    "T_corr = T_corr.col_insert(3, Matrix([0, 0, 0, 1]))\n",
    "\n",
    "T_total = T0_G*T_corr"
   ]
  },
  {
   "cell_type": "markdown",
   "metadata": {},
   "source": [
    "In this way the result of the FK will be coherent with the simulated arm in gazebo"
   ]
  },
  {
   "cell_type": "markdown",
   "metadata": {},
   "source": [
    "### 1d: TESTING"
   ]
  },
  {
   "cell_type": "code",
   "execution_count": 11,
   "metadata": {},
   "outputs": [
    {
     "name": "stdout",
     "output_type": "stream",
     "text": [
      "Matrix([[0.461160758059412, 0.708147906429503, -0.534656242688310, -2.34851881134835], [-0.0452589955958474, -0.582997166373947, -0.811212627686233, 0.0825751346597153], [-0.886161598436608, 0.398297434864274, -0.236805352213197, -0.0328265546498063], [0, 0, 0, 1]])\n"
     ]
    }
   ],
   "source": [
    "import numpy as np\n",
    "\n",
    "# Radians to Degree\n",
    "def rtod(q):\n",
    "    return q*180.0/np.pi\n",
    "\n",
    "# Degree to Radians\n",
    "def dtor(q):\n",
    "    return q*np.pi/180.0\n",
    "\n",
    "#generate random joint values\n",
    "def generateRandomInRange(low, high):\n",
    "    return low + np.random.rand()*(high - low)\n",
    "\n",
    "q1 = generateRandomInRange(dtor(-185), dtor(185))\n",
    "q2 = generateRandomInRange(dtor(-45), dtor(85))\n",
    "q3 = generateRandomInRange(dtor(-210), dtor(155-90))\n",
    "q4 = generateRandomInRange(dtor(-350), dtor(350))\n",
    "q5 = generateRandomInRange(dtor(-125), dtor(125))\n",
    "q6 = generateRandomInRange(dtor(-350), dtor(350))\n",
    "\n",
    "DH = {alpha0: 0,      a0: 0,      d1: 0.75,     q1: q1,\n",
    "      alpha1: -pi/2,  a1: 0.35,   d2: 0, \t    q2: q2-pi/2,\n",
    "      alpha2: 0,      a2: 1.25,   d3: 0,\t    q3: q3,\n",
    "      alpha3: -pi/2,  a3: 0.0536, d4: 1.5014,   q4: q4,\n",
    "      alpha4: pi/2,   a4: 0,      d5: 0,\t    q5: q5,\n",
    "      alpha5: -pi/2,  a5: 0,      d6: 0,        q6: q6,\n",
    "      alpha6: 0,      a6: 0,      d7: 0.303,    q7: 0}\n",
    "\n",
    "T0_1 = homogeneous_transform(q1, d1, a0, alpha0).subs(DH)\n",
    "T1_2 = homogeneous_transform(q2, d2, a1, alpha1).subs(DH)\n",
    "T2_3 = homogeneous_transform(q3, d3, a2, alpha2).subs(DH)\n",
    "T3_4 = homogeneous_transform(q4, d4, a3, alpha3).subs(DH)\n",
    "T4_5 = homogeneous_transform(q5, d5, a4, alpha4).subs(DH)\n",
    "T5_6 = homogeneous_transform(q6, d6, a5, alpha5).subs(DH)\n",
    "T6_G = homogeneous_transform(q7, d7, a6, alpha6).subs(DH)\n",
    "\n",
    "# Extract rotation matrices from the transformation matrices\n",
    "# Generalized homogeneous transform\n",
    "# remember to correct the difference between DH and ROS\n",
    "T0_G = T0_1 * T1_2 * T2_3 * T3_4 * T4_5 * T5_6 * T6_G\n",
    "T0_G_rpy = T0_G * T_corr\n",
    "\n",
    "print(T0_G_rpy)"
   ]
  },
  {
   "cell_type": "markdown",
   "metadata": {},
   "source": [
    "## 3: INVERSE KINEMATICS\n",
    "\n",
    "*intro here*\n",
    "\n",
    "### 3.1 THE JACOBEAN\n",
    "\n",
    "### 3.2 JACOBEAN TRANSPOSE IK ALGORITHM"
   ]
  },
  {
   "cell_type": "markdown",
   "metadata": {},
   "source": []
  },
  {
   "cell_type": "code",
   "execution_count": 12,
   "metadata": {},
   "outputs": [],
   "source": [
    "from geometry_msgs.msg import Pose\n",
    "from trajectory_msgs.msg import JointTrajectoryPoint\n",
    "import tf\n",
    "\n",
    "############ ROS SERVICE SIMULATION############\n",
    "class request_fake():\n",
    "    def __init__(self):\n",
    "        self.poses = [Pose()]\n",
    "        self.poses[0].position.x = 1\n",
    "        self.poses[0].position.y = 1\n",
    "        self.poses[0].position.z = 1\n",
    "###############################################\n",
    "\n",
    "req = request_fake()\n",
    "\n",
    "for x in xrange(0, len(req.poses)):\n",
    "    # IK code starts here\n",
    "    joint_trajectory_point = JointTrajectoryPoint()\n",
    "\n",
    "    # Extract end-effector position and orientation from request\n",
    "    # px,py,pz = end-effector position\n",
    "    # roll, pitch, yaw = end-effector orientation\n",
    "    px = req.poses[x].position.x\n",
    "    py = req.poses[x].position.y\n",
    "    pz = req.poses[x].position.z\n",
    "\n",
    "    (roll, pitch, yaw) = tf.transformations.euler_from_quaternion(\n",
    "                            [req.poses[x].orientation.x, req.poses[x].orientation.y,\n",
    "                            req.poses[x].orientation.z, req.poses[x].orientation.w])"
   ]
  },
  {
   "cell_type": "code",
   "execution_count": 23,
   "metadata": {},
   "outputs": [
    {
     "name": "stdout",
     "output_type": "stream",
     "text": [
      "Computed IK: \n",
      "\t q1: 55.1235030930698\n",
      "\t q2: -12.8593569703425\n",
      "\t q3: 50.9746771997817\n",
      "\t q4: -144.323309505103\n",
      "\t q5: 131.792264934950\n",
      "\t q6: 25.5696624406453\n",
      "\n"
     ]
    }
   ],
   "source": [
    "print(\"Computed IK: \\n\" +\n",
    "       \"\\t q1: \" + str(rtod(theta1.evalf())) + \"\\n\" +\n",
    "       \"\\t q2: \" + str(rtod(theta2.evalf())) + \"\\n\" +\n",
    "       \"\\t q3: \" + str(rtod(theta3.evalf())) + \"\\n\" +\n",
    "       \"\\t q4: \" + str(rtod(theta4.evalf())) + \"\\n\" +\n",
    "       \"\\t q5: \" + str(rtod(theta5.evalf())) + \"\\n\" +\n",
    "       \"\\t q6: \" + str(rtod(theta6.evalf())) + \"\\n\")"
   ]
  },
  {
   "cell_type": "markdown",
   "metadata": {},
   "source": [
    "# 3: ROS INTEGRATION\n",
    "https://www.youtube.com/watch?v=Gt8DRm-REt4"
   ]
  },
  {
   "cell_type": "markdown",
   "metadata": {},
   "source": [
    "Sources:\n",
    "    \n",
    "* https://github.com/udacity/RoboND-Kinematics-Project\n",
    "    \n",
    "* https://jychstar.blogspot.com/2017/09/robot-nd-a2-kinematics.html"
   ]
  },
  {
   "cell_type": "code",
   "execution_count": null,
   "metadata": {},
   "outputs": [],
   "source": []
  }
 ],
 "metadata": {
  "kernelspec": {
   "display_name": "Python 2",
   "language": "python",
   "name": "python2"
  },
  "language_info": {
   "codemirror_mode": {
    "name": "ipython",
    "version": 2
   },
   "file_extension": ".py",
   "mimetype": "text/x-python",
   "name": "python",
   "nbconvert_exporter": "python",
   "pygments_lexer": "ipython2",
   "version": "2.7.15+"
  }
 },
 "nbformat": 4,
 "nbformat_minor": 2
}
